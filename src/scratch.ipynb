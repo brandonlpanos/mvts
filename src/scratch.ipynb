{
 "cells": [
  {
   "cell_type": "code",
   "execution_count": 1,
   "metadata": {},
   "outputs": [],
   "source": [
    "import os\n",
    "import json\n",
    "import torch\n",
    "import torch.nn as nn\n",
    "from datasets import MVTSDataset\n",
    "from models import TransformerEncoder\n",
    "from torch.utils.data import DataLoader\n",
    "from datasets import find_padding_masks"
   ]
  },
  {
   "cell_type": "code",
   "execution_count": 2,
   "metadata": {},
   "outputs": [
    {
     "data": {
      "text/plain": [
       "<All keys matched successfully>"
      ]
     },
     "execution_count": 2,
     "metadata": {},
     "output_type": "execute_result"
    }
   ],
   "source": [
    "transformer_model = TransformerEncoder(feat_dim=35,\n",
    "                                    max_len=40,\n",
    "                                    d_model=64, \n",
    "                                    n_heads=8, \n",
    "                                    num_layers=1,\n",
    "                                    dim_feedforward=256, \n",
    "                                    dropout=0.1, \n",
    "                                    freeze=False)\n",
    "transformer_model.float()\n",
    "\n",
    "# Load pretrained weights \n",
    "transformer_model.load_state_dict(torch.load('../models/inputting_unity_norm.pt'))"
   ]
  },
  {
   "cell_type": "code",
   "execution_count": 3,
   "metadata": {},
   "outputs": [],
   "source": [
    "class CNNModel(nn.Module):\n",
    "    def __init__(self):\n",
    "        super(CNNModel, self).__init__()\n",
    "        self.conv1 = nn.Conv2d(1, 64, kernel_size=3, stride=1, padding=1)\n",
    "        self.relu1 = nn.ReLU()\n",
    "        self.conv2 = nn.Conv2d(64, 64, kernel_size=3, stride=1, padding=1)\n",
    "        self.relu2 = nn.ReLU()\n",
    "        self.fc1 = nn.Linear(64 * 35 * 40, 20)\n",
    "        self.fc2 = nn.Linear(20, 2)\n",
    "\n",
    "    def forward(self, x):\n",
    "        x = self.conv1(x)\n",
    "        x = self.relu1(x)\n",
    "        x = self.conv2(x)\n",
    "        x = self.relu2(x)\n",
    "        x = x.view(x.size(0), -1)\n",
    "        x = self.fc1(x)\n",
    "        logits = self.fc2(x)\n",
    "        return logits"
   ]
  },
  {
   "cell_type": "code",
   "execution_count": 4,
   "metadata": {},
   "outputs": [
    {
     "data": {
      "text/plain": [
       "CNNModel(\n",
       "  (conv1): Conv2d(1, 64, kernel_size=(3, 3), stride=(1, 1), padding=(1, 1))\n",
       "  (relu1): ReLU()\n",
       "  (conv2): Conv2d(64, 64, kernel_size=(3, 3), stride=(1, 1), padding=(1, 1))\n",
       "  (relu2): ReLU()\n",
       "  (fc1): Linear(in_features=89600, out_features=20, bias=True)\n",
       "  (fc2): Linear(in_features=20, out_features=2, bias=True)\n",
       ")"
      ]
     },
     "execution_count": 4,
     "metadata": {},
     "output_type": "execute_result"
    }
   ],
   "source": [
    "cnn_model = CNNModel()\n",
    "cnn_model"
   ]
  },
  {
   "cell_type": "code",
   "execution_count": 5,
   "metadata": {},
   "outputs": [],
   "source": [
    "class CombinedModel(nn.Module):\n",
    "    def __init__(self, transformer_model, cnn_model):\n",
    "        super(CombinedModel, self).__init__()\n",
    "        self.transformer_model = transformer_model\n",
    "        self.cnn_model = cnn_model\n",
    "\n",
    "    def forward(self, x, padding_mask):\n",
    "        transformer_output = self.transformer_model(x, padding_mask)\n",
    "        transformed_output = transformer_output.unsqueeze(1)\n",
    "        logits_output = self.cnn_model(transformed_output)\n",
    "        return logits_output"
   ]
  },
  {
   "cell_type": "code",
   "execution_count": 6,
   "metadata": {},
   "outputs": [
    {
     "data": {
      "text/plain": [
       "CombinedModel(\n",
       "  (transformer_model): TransformerEncoder(\n",
       "    (project_inp): Linear(in_features=35, out_features=64, bias=True)\n",
       "    (pos_enc): LearnablePositionalEncoding(\n",
       "      (dropout): Dropout(p=0.1, inplace=False)\n",
       "    )\n",
       "    (transformer_encoder): TransformerEncoder(\n",
       "      (layers): ModuleList(\n",
       "        (0): TransformerEncoderLayer(\n",
       "          (self_attn): MultiheadAttention(\n",
       "            (out_proj): NonDynamicallyQuantizableLinear(in_features=64, out_features=64, bias=True)\n",
       "          )\n",
       "          (linear1): Linear(in_features=64, out_features=256, bias=True)\n",
       "          (dropout): Dropout(p=0.1, inplace=False)\n",
       "          (linear2): Linear(in_features=256, out_features=64, bias=True)\n",
       "          (norm1): LayerNorm((64,), eps=1e-05, elementwise_affine=True)\n",
       "          (norm2): LayerNorm((64,), eps=1e-05, elementwise_affine=True)\n",
       "          (dropout1): Dropout(p=0.1, inplace=False)\n",
       "          (dropout2): Dropout(p=0.1, inplace=False)\n",
       "        )\n",
       "      )\n",
       "    )\n",
       "    (output_layer): Linear(in_features=64, out_features=35, bias=True)\n",
       "    (dropout1): Dropout(p=0.1, inplace=False)\n",
       "  )\n",
       "  (cnn_model): CNNModel(\n",
       "    (conv1): Conv2d(1, 64, kernel_size=(3, 3), stride=(1, 1), padding=(1, 1))\n",
       "    (relu1): ReLU()\n",
       "    (conv2): Conv2d(64, 64, kernel_size=(3, 3), stride=(1, 1), padding=(1, 1))\n",
       "    (relu2): ReLU()\n",
       "    (fc1): Linear(in_features=89600, out_features=20, bias=True)\n",
       "    (fc2): Linear(in_features=20, out_features=2, bias=True)\n",
       "  )\n",
       ")"
      ]
     },
     "execution_count": 6,
     "metadata": {},
     "output_type": "execute_result"
    }
   ],
   "source": [
    "main_model = CombinedModel(transformer_model, cnn_model)\n",
    "main_model"
   ]
  },
  {
   "cell_type": "code",
   "execution_count": 15,
   "metadata": {},
   "outputs": [
    {
     "name": "stdout",
     "output_type": "stream",
     "text": [
      "[247, 56, 297, 114, 313, 446, 258, 43, 133, 246, 242, 383, 413, 67, 8, 336, 152, 342, 272, 225, 257, 454, 26, 304, 269, 227, 458, 118, 27, 60, 338, 193, 433, 74, 191, 182, 175, 285, 139, 162, 208, 341, 33, 298, 173, 386, 451, 5, 23, 130, 343, 92, 107, 165, 280, 28, 226, 255, 197, 161, 379, 14, 214, 164, 231, 97, 170, 428, 287, 15, 288, 37, 71, 362, 123, 144, 174, 32, 61, 302, 399, 59, 111, 237, 44, 402, 366, 141, 334, 312, 436, 440, 475, 474, 380, 364, 240]\n"
     ]
    }
   ],
   "source": [
    "with open('../data/data_indices.json', 'r') as f: data_indices = json.load(f)\n",
    "train_indices = data_indices['train_indices']\n",
    "train_dataloader = DataLoader(MVTSDataset(train_indices, norm_type='unity', mean_mask_length=3, masking_ratio=0.15), batch_size=10, shuffle=True, drop_last=True)\n",
    "print(data_indices['val_indices'])"
   ]
  },
  {
   "cell_type": "code",
   "execution_count": 8,
   "metadata": {},
   "outputs": [
    {
     "data": {
      "text/plain": [
       "tensor([[0.2484, 0.2286],\n",
       "        [0.2265, 0.1931],\n",
       "        [0.1994, 0.1556],\n",
       "        [0.2204, 0.1553],\n",
       "        [0.2171, 0.1671],\n",
       "        [0.2285, 0.2240],\n",
       "        [0.2230, 0.1962],\n",
       "        [0.2366, 0.2181],\n",
       "        [0.2256, 0.1924],\n",
       "        [0.2259, 0.2230]], grad_fn=<AddmmBackward0>)"
      ]
     },
     "execution_count": 8,
     "metadata": {},
     "output_type": "execute_result"
    }
   ],
   "source": [
    "main_model.eval()\n",
    "x, _, _ = next(iter(train_dataloader))\n",
    "padding_mask = find_padding_masks(x)\n",
    "x = torch.nan_to_num(x) # replace nan with 0 (since needs to be processed by the model)\n",
    "probabilities = main_model(x, padding_mask)\n",
    "probabilities"
   ]
  },
  {
   "cell_type": "code",
   "execution_count": 11,
   "metadata": {},
   "outputs": [
    {
     "name": "stdout",
     "output_type": "stream",
     "text": [
      "Epoch: 1\n",
      "tensor([1, 1, 1, 1, 0, 1, 1, 1, 0, 1])\n"
     ]
    }
   ],
   "source": [
    "def train_and_validate_classifier(model, train_loader, test_loader, n_epoch)\n",
    "\n",
    "    best_test_loss = 1e20\n",
    "    running_batch_loss_train = []\n",
    "    running_batch_loss_test = []\n",
    "    save_path = '../models/classification_unity_norm.pt'\n",
    "\n",
    "    for epoch in range(n_epoch):\n",
    "        print(f\"Epoch: {epoch + 1}\")\n",
    "\n",
    "        # Train loop \n",
    "        for x, _, y in train_loader:\n",
    "            padding_mask = find_padding_masks(x)\n",
    "            x = torch.nan_to_num(x).to(device)\n",
    "            y_hat = main_model(x, padding_mask).to(device)\n",
    "            optimizer.zero_grad()\n",
    "            loss = criterion(y_hat, y)\n",
    "            loss.backward()\n",
    "            optimizer.step()\n",
    "            running_batch_loss_train.append(loss.item())\n",
    "\n",
    "        # Test loop\n",
    "        for x, _, y in test_loader:\n",
    "            padding_mask = find_padding_masks(x)\n",
    "            x = torch.nan_to_num(x).to(device)\n",
    "            y_hat = main_model(x, padding_mask).to(device)\n",
    "            loss = criterion(y_hat, y)\n",
    "            running_batch_loss_test.append(loss.item())\n",
    "\n",
    "        # Save model if test loss is lower than best test loss\n",
    "        if running_batch_loss_test[-1] < best_test_loss:\n",
    "            best_test_loss = running_batch_loss_test[-1]\n",
    "            torch.save(main_model.state_dict(), save_path)\n",
    "            print(f\"Saved model at epoch {epoch + 1}\")\n",
    "\n",
    "        # Print loss\n",
    "        print(f\"Train loss: {running_batch_loss_train[-1]}\")\n",
    "        print(f\"Test loss: {running_batch_loss_test[-1]}\")\n",
    "\n",
    "    return running_batch_loss_train, running_batch_loss_test\n",
    "\n",
    "n_epoch = 100\n",
    "train_loader = train_dataloader\n",
    "criterion = nn.CrossEntropyLoss()\n",
    "optimizer = torch.optim.Adam(main_model.parameters(), lr=0.001)\n",
    "device = torch.device(\"cuda\" if torch.cuda.is_available() else \"cpu\")\n",
    "main_model.to(device)\n",
    "\n",
    "train_loss, test_loss = train_and_validate_classifier(main_model, train_loader, train_loader, n_epoch)"
   ]
  },
  {
   "attachments": {},
   "cell_type": "markdown",
   "metadata": {},
   "source": [
    "**Embeddings**"
   ]
  },
  {
   "cell_type": "code",
   "execution_count": 20,
   "metadata": {},
   "outputs": [],
   "source": [
    "# Instantiate transformer model and load pretrained weights of best model on the classifciation task\n",
    "main_model = CombinedModel(transformer_model, cnn_model)\n",
    "main_model.load_state_dict(torch.load('../models/classification_standard_norm.pt'))\n",
    "main_model.eval();"
   ]
  },
  {
   "cell_type": "code",
   "execution_count": 37,
   "metadata": {},
   "outputs": [],
   "source": [
    "# Load trained weights of the transformer model\n",
    "\n",
    "# Step 1: Create an instance of CombinedModel\n",
    "transformer_model = TransformerEncoder(feat_dim=35,max_len=40,d_model=64,n_heads=8,num_layers=1,dim_feedforward=256,dropout=0.1,freeze=False).float()\n",
    "cnn_model = CNNModel().float()\n",
    "main_model = CombinedModel(transformer_model, cnn_model).float()\n",
    "\n",
    "# Step 2: Load the weights for the entire combined model\n",
    "main_model.load_state_dict(torch.load(\"../models/classification_standard_norm.pt\"))\n",
    "\n",
    "# Step 3: Remove the weights that belong to the cnn_model from the loaded state dict\n",
    "state_dict = main_model.state_dict()\n",
    "state_dict = {k: v for k, v in state_dict.items() if \"cnn_model\" not in k}\n",
    "\n",
    "# Step 4: Load the modified state dict into the transformer_model\n",
    "transformer_model.load_state_dict(state_dict, strict=False)\n",
    "\n",
    "# Step 5: Set to eval mode\n",
    "transformer_model.eval();"
   ]
  },
  {
   "cell_type": "code",
   "execution_count": 36,
   "metadata": {},
   "outputs": [],
   "source": [
    "# Load train data\n",
    "with open('../data/data_indices.json', 'r') as f: data_indices = json.load(f)\n",
    "train_indices = data_indices['train_indices']\n",
    "train_dataloader = DataLoader(MVTSDataset(train_indices, norm_type='standard'), batch_size=1, shuffle=False, drop_last=False)\n",
    "\n",
    "# Load validation data\n",
    "with open('../data/data_indices.json', 'r') as f: data_indices = json.load(f)\n",
    "val_indices = data_indices['val_indices']\n",
    "val_dataloader = DataLoader(MVTSDataset(val_indices, norm_type='standard'), batch_size=1, shuffle=False, drop_last=False)"
   ]
  },
  {
   "cell_type": "code",
   "execution_count": 36,
   "metadata": {},
   "outputs": [
    {
     "data": {
      "text/plain": [
       "38"
      ]
     },
     "execution_count": 36,
     "metadata": {},
     "output_type": "execute_result"
    }
   ],
   "source": [
    "import pandas as pd \n",
    "df = pd.read_csv(f'../data/long/{original_file_indx}.csv')\n",
    "df.shape[0]"
   ]
  },
  {
   "cell_type": "code",
   "execution_count": 1,
   "metadata": {},
   "outputs": [],
   "source": [
    "import os\n",
    "import json\n",
    "import torch\n",
    "import torch.nn as nn\n",
    "from datasets import MVTSDataset\n",
    "from models import TransformerEncoder\n",
    "from torch.utils.data import DataLoader\n",
    "import matplotlib.pyplot as plt"
   ]
  },
  {
   "cell_type": "code",
   "execution_count": 2,
   "metadata": {},
   "outputs": [],
   "source": [
    "model = TransformerEncoder(feat_dim=35,\n",
    "                           max_len=40,\n",
    "                           d_model=35,\n",
    "                           n_heads=7,\n",
    "                           num_layers=1,\n",
    "                           dim_feedforward=256,\n",
    "                           dropout=0.1,\n",
    "                           freeze=False).float()"
   ]
  },
  {
   "cell_type": "code",
   "execution_count": 3,
   "metadata": {},
   "outputs": [],
   "source": [
    "inputs = torch.randn(1, 40, 35)\n",
    "mask = torch.ones(1, 40).bool()\n",
    "outputs, imbedding = model(inputs, mask)"
   ]
  },
  {
   "cell_type": "code",
   "execution_count": 4,
   "metadata": {},
   "outputs": [
    {
     "data": {
      "text/plain": [
       "(torch.Size([1, 40, 35]), torch.Size([1, 40, 35]))"
      ]
     },
     "execution_count": 4,
     "metadata": {},
     "output_type": "execute_result"
    }
   ],
   "source": [
    "outputs.shape, imbedding.shape"
   ]
  },
  {
   "cell_type": "code",
   "execution_count": 5,
   "metadata": {},
   "outputs": [
    {
     "data": {
      "image/png": "[encoded data removed]",
      "text/plain": [
       "<Figure size 640x480 with 1 Axes>"
      ]
     },
     "metadata": {},
     "output_type": "display_data"
    },
    {
     "data": {
      "image/png": "[encoded data removed]",
      "text/plain": [
       "<Figure size 640x480 with 1 Axes>"
      ]
     },
     "metadata": {},
     "output_type": "display_data"
    }
   ],
   "source": [
    "plt.imshow(outputs.detach().numpy()[0])\n",
    "plt.show()\n",
    "\n",
    "plt.imshow(imbedding.detach().numpy()[0])\n",
    "plt.show()"
   ]
  },
  {
   "attachments": {},
   "cell_type": "markdown",
   "metadata": {},
   "source": [
    "**Create embedding dataset from trained transformer encoder**  \n",
    "Must be the same format at original csv files"
   ]
  },
  {
   "cell_type": "code",
   "execution_count": 40,
   "metadata": {},
   "outputs": [],
   "source": [
    "import os\n",
    "import json\n",
    "import torch\n",
    "import numpy as np\n",
    "import pandas as pd\n",
    "import torch.nn as nn\n",
    "from datasets import MVTSDataset\n",
    "from models import TransformerEncoder\n",
    "from torch.utils.data import DataLoader\n",
    "from datasets import find_padding_masks"
   ]
  },
  {
   "cell_type": "code",
   "execution_count": 48,
   "metadata": {},
   "outputs": [],
   "source": [
    "# Get column names\n",
    "df = pd.read_csv('../data/long/1.csv') # read in random file since all csv files have the same columns\n",
    "features = df.columns.tolist()"
   ]
  },
  {
   "cell_type": "code",
   "execution_count": 49,
   "metadata": {},
   "outputs": [
    {
     "name": "stdout",
     "output_type": "stream",
     "text": [
      "torch.Size([485, 40, 35]) tensor([1, 1, 1, 1, 1, 1, 1, 1, 1, 1, 1, 1, 1, 1, 1, 1, 1, 1, 1, 1, 1, 1, 1, 1,\n",
      "        1, 1, 1, 1, 1, 1, 1, 1, 1, 1, 1, 1, 1, 1, 1, 1, 1, 1, 1, 1, 1, 1, 1, 1,\n",
      "        1, 1, 1, 1, 1, 1, 1, 1, 1, 1, 1, 1, 1, 1, 1, 1, 1, 1, 1, 1, 1, 1, 1, 1,\n",
      "        1, 1, 1, 1, 1, 1, 1, 1, 1, 1, 1, 1, 1, 1, 1, 1, 1, 1, 1, 1, 1, 1, 1, 1,\n",
      "        1, 1, 1, 1, 1, 1, 1, 1, 1, 1, 1, 1, 1, 1, 1, 1, 1, 1, 1, 1, 1, 1, 1, 1,\n",
      "        1, 1, 1, 1, 1, 1, 1, 1, 1, 1, 1, 1, 1, 1, 1, 1, 1, 1, 1, 1, 1, 1, 1, 1,\n",
      "        1, 1, 1, 1, 1, 1, 1, 1, 1, 1, 1, 1, 1, 1, 1, 1, 1, 1, 1, 1, 1, 1, 1, 1,\n",
      "        1, 1, 1, 1, 1, 1, 1, 1, 1, 1, 1, 1, 1, 1, 1, 1, 1, 1, 1, 1, 1, 1, 1, 1,\n",
      "        1, 1, 1, 1, 1, 1, 1, 1, 1, 1, 1, 1, 1, 1, 1, 1, 1, 1, 1, 1, 1, 1, 1, 1,\n",
      "        1, 1, 1, 1, 1, 1, 1, 1, 1, 1, 1, 1, 1, 1, 1, 1, 1, 1, 1, 1, 1, 1, 1, 1,\n",
      "        1, 1, 1, 1, 0, 0, 0, 0, 0, 0, 0, 0, 0, 0, 0, 0, 0, 0, 0, 0, 0, 0, 0, 0,\n",
      "        0, 0, 0, 0, 0, 0, 0, 0, 0, 0, 0, 0, 0, 0, 0, 0, 0, 0, 0, 0, 0, 0, 0, 0,\n",
      "        0, 0, 0, 0, 0, 0, 0, 0, 0, 0, 0, 0, 0, 0, 0, 0, 0, 0, 0, 0, 0, 0, 0, 0,\n",
      "        0, 0, 0, 0, 0, 0, 0, 0, 0, 0, 0, 0, 0, 0, 0, 0, 0, 0, 0, 0, 0, 0, 0, 0,\n",
      "        0, 0, 0, 0, 0, 0, 0, 0, 0, 0, 0, 0, 0, 0, 0, 0, 0, 0, 0, 0, 0, 0, 0, 0,\n",
      "        0, 0, 0, 0, 0, 0, 0, 0, 0, 0, 0, 0, 0, 0, 0, 0, 0, 0, 0, 0, 0, 0, 0, 0,\n",
      "        0, 0, 0, 0, 0, 0, 0, 0, 0, 0, 0, 0, 0, 0, 0, 0, 0, 0, 0, 0, 0, 0, 0, 0,\n",
      "        0, 0, 0, 0, 0, 0, 0, 0, 0, 0, 0, 0, 0, 0, 0, 0, 0, 0, 0, 0, 0, 0, 0, 0,\n",
      "        0, 0, 0, 0, 0, 0, 0, 0, 0, 0, 0, 0, 0, 0, 0, 0, 0, 0, 0, 0, 0, 0, 0, 0,\n",
      "        0, 0, 0, 0, 0, 0, 0, 0, 0, 0, 0, 0, 0, 0, 0, 0, 0, 0, 0, 0, 0, 0, 0, 0,\n",
      "        0, 0, 0, 0, 0])\n"
     ]
    }
   ],
   "source": [
    "# Load all data\n",
    "indices = np.arange(0, 485, 1)\n",
    "dataloader = DataLoader(MVTSDataset(indices, norm_type='standard'), batch_size=len(indices), shuffle=False, drop_last=False)\n",
    "data, _, y = next(iter(dataloader))\n",
    "print(data.shape, y)"
   ]
  },
  {
   "cell_type": "code",
   "execution_count": 57,
   "metadata": {},
   "outputs": [
    {
     "data": {
      "text/plain": [
       "torch.Size([1, 40, 35])"
      ]
     },
     "execution_count": 57,
     "metadata": {},
     "output_type": "execute_result"
    }
   ],
   "source": [
    "x = data[0].unsqueeze(0)\n",
    "x.shape"
   ]
  },
  {
   "cell_type": "code",
   "execution_count": 112,
   "metadata": {},
   "outputs": [],
   "source": [
    "# Create the embeddings using the trained transformer model\n",
    "transformer_model = TransformerEncoder(feat_dim=35,\n",
    "                                       max_len=40,\n",
    "                                       d_model=35,\n",
    "                                       n_heads=7,\n",
    "                                       num_layers=1,\n",
    "                                       dim_feedforward=256,\n",
    "                                       dropout=0.1,\n",
    "                                       freeze=True).float()\n",
    "transformer_model.eval();\n",
    "\n",
    "indx = 0\n",
    "for input, label in zip(data, y):\n",
    "    label = label.item()\n",
    "    input = input.unsqueeze(0)\n",
    "    padding_mask = find_padding_masks(input)\n",
    "    input = torch.nan_to_num(input)\n",
    "    output, embedding = transformer_model(input, padding_mask)\n",
    "    embedding = embedding.detach().numpy()[0]\n",
    "    padding_mask = padding_mask.squeeze(0).detach().numpy()\n",
    "    embedding = embedding[padding_mask]\n",
    "    df = embedding_to_dataframe(embedding, features, label, indx)\n",
    "    df['Unnamed: 0'] = df['Unnamed: 0'].astype(int)\n",
    "    df.rename(columns={'Unnamed: 0': ''}, inplace=True)\n",
    "    df.to_csv(f'../data/embeddings/{indx}.csv', index=False)\n",
    "    indx += 1\n",
    "    break"
   ]
  },
  {
   "cell_type": "code",
   "execution_count": 85,
   "metadata": {},
   "outputs": [
    {
     "name": "stdout",
     "output_type": "stream",
     "text": [
      "torch.Size([1, 40, 35]) torch.Size([1, 40, 35])\n"
     ]
    },
    {
     "data": {
      "text/plain": [
       "<matplotlib.image.AxesImage at 0x2af09ef40>"
      ]
     },
     "execution_count": 85,
     "metadata": {},
     "output_type": "execute_result"
    },
    {
     "data": {
      "image/png": "[encoded data removed]",
      "text/plain": [
       "<Figure size 640x480 with 1 Axes>"
      ]
     },
     "metadata": {},
     "output_type": "display_data"
    }
   ],
   "source": [
    "input = data[7].unsqueeze(0)\n",
    "padding_mask = find_padding_masks(input)\n",
    "input = torch.nan_to_num(input)\n",
    "output, embedding = transformer_model(input, padding_mask)\n",
    "embedding = embedding.detach().numpy()[0]\n",
    "padding_mask = padding_mask.squeeze(0).detach().numpy()\n",
    "embedding = embedding[padding_mask]"
   ]
  },
  {
   "cell_type": "code",
   "execution_count": 90,
   "metadata": {},
   "outputs": [],
   "source": [
    "def embedding_to_dataframe(embedding, features, label, indx):\n",
    "    \"\"\"\n",
    "    This function creates a pandas dataframe of the embeddings from transformer encoder that has been trained on the classifcation taks.\n",
    "    The dataframe is of the same format as the original csv files.\n",
    "    Args: embedding --> from trained transformer encoder ndarray(seq_len, d_model)\n",
    "          features --> list of features from original csv file\n",
    "          label --> Flare No-Flare binary label output from the dataloader \n",
    "          indx --> index of the original csv file         \n",
    "    Output: pandas dataframe with the same format as the original csv files.\n",
    "    \"\"\"\n",
    "\n",
    "    embedding = np.concatenate(\n",
    "        (np.full((embedding.shape[0], 1), indx, dtype=int), embedding), axis=1) # add index column\n",
    "\n",
    "    # add extra columns to match original csv file\n",
    "    extra_cols = len(features) - embedding.shape[1] \n",
    "    extra_data = np.empty((embedding.shape[0], extra_cols))\n",
    "    extra_data.fill(np.nan)\n",
    "    modified_array = np.concatenate((embedding, extra_data), axis=1)\n",
    "\n",
    "    # turn array into pandas dataframe and rename columns as well as add target values\n",
    "    new_df = pd.DataFrame(modified_array, columns=features)\n",
    "    new_df['R_VALUE'], new_df['XR_MAX'] = new_df['XR_MAX'], new_df['R_VALUE']\n",
    "    new_df['target'] = label\n",
    "\n",
    "    return new_df"
   ]
  },
  {
   "cell_type": "code",
   "execution_count": 17,
   "metadata": {},
   "outputs": [
    {
     "data": {
      "text/html": [
       "<div>\n",
       "<style scoped>\n",
       "    .dataframe tbody tr th:only-of-type {\n",
       "        vertical-align: middle;\n",
       "    }\n",
       "\n",
       "    .dataframe tbody tr th {\n",
       "        vertical-align: top;\n",
       "    }\n",
       "\n",
       "    .dataframe thead th {\n",
       "        text-align: right;\n",
       "    }\n",
       "</style>\n",
       "<table border=\"1\" class=\"dataframe\">\n",
       "  <thead>\n",
       "    <tr style=\"text-align: right;\">\n",
       "      <th></th>\n",
       "      <th>Unnamed: 0</th>\n",
       "      <th>94</th>\n",
       "      <th>131</th>\n",
       "      <th>171</th>\n",
       "      <th>193</th>\n",
       "      <th>211</th>\n",
       "      <th>304</th>\n",
       "      <th>335</th>\n",
       "      <th>1600</th>\n",
       "      <th>1700</th>\n",
       "      <th>...</th>\n",
       "      <th>MEANJZH</th>\n",
       "      <th>TOTFY</th>\n",
       "      <th>MEANJZD</th>\n",
       "      <th>MEANALP</th>\n",
       "      <th>TOTFX</th>\n",
       "      <th>EPSY</th>\n",
       "      <th>EPSX</th>\n",
       "      <th>R_VALUE</th>\n",
       "      <th>XR_MAX</th>\n",
       "      <th>target</th>\n",
       "    </tr>\n",
       "  </thead>\n",
       "  <tbody>\n",
       "    <tr>\n",
       "      <th>0</th>\n",
       "      <td>1</td>\n",
       "      <td>8.974219</td>\n",
       "      <td>29.204307</td>\n",
       "      <td>506.383286</td>\n",
       "      <td>818.701571</td>\n",
       "      <td>355.635094</td>\n",
       "      <td>105.700492</td>\n",
       "      <td>19.654783</td>\n",
       "      <td>77.338210</td>\n",
       "      <td>959.218468</td>\n",
       "      <td>...</td>\n",
       "      <td>0.012208</td>\n",
       "      <td>-1.082416e+23</td>\n",
       "      <td>0.050998</td>\n",
       "      <td>0.028371</td>\n",
       "      <td>-1.940120e+24</td>\n",
       "      <td>0.008031</td>\n",
       "      <td>0.143956</td>\n",
       "      <td>4.340293</td>\n",
       "      <td>4.854100e-07</td>\n",
       "      <td>1</td>\n",
       "    </tr>\n",
       "    <tr>\n",
       "      <th>1</th>\n",
       "      <td>1</td>\n",
       "      <td>10.126854</td>\n",
       "      <td>29.849536</td>\n",
       "      <td>496.012853</td>\n",
       "      <td>817.035740</td>\n",
       "      <td>356.629023</td>\n",
       "      <td>104.075087</td>\n",
       "      <td>20.269867</td>\n",
       "      <td>76.612126</td>\n",
       "      <td>963.786084</td>\n",
       "      <td>...</td>\n",
       "      <td>0.011820</td>\n",
       "      <td>-1.035303e+23</td>\n",
       "      <td>0.089647</td>\n",
       "      <td>0.027410</td>\n",
       "      <td>-1.934845e+24</td>\n",
       "      <td>0.007630</td>\n",
       "      <td>0.142551</td>\n",
       "      <td>4.338973</td>\n",
       "      <td>4.561938e-07</td>\n",
       "      <td>1</td>\n",
       "    </tr>\n",
       "    <tr>\n",
       "      <th>2</th>\n",
       "      <td>1</td>\n",
       "      <td>8.892889</td>\n",
       "      <td>27.052865</td>\n",
       "      <td>476.856401</td>\n",
       "      <td>792.896779</td>\n",
       "      <td>345.935345</td>\n",
       "      <td>96.576911</td>\n",
       "      <td>19.220694</td>\n",
       "      <td>75.617088</td>\n",
       "      <td>962.414683</td>\n",
       "      <td>...</td>\n",
       "      <td>0.011432</td>\n",
       "      <td>-9.881894e+22</td>\n",
       "      <td>0.128297</td>\n",
       "      <td>0.026448</td>\n",
       "      <td>-1.929571e+24</td>\n",
       "      <td>0.007229</td>\n",
       "      <td>0.141145</td>\n",
       "      <td>4.337653</td>\n",
       "      <td>4.269777e-07</td>\n",
       "      <td>1</td>\n",
       "    </tr>\n",
       "    <tr>\n",
       "      <th>3</th>\n",
       "      <td>1</td>\n",
       "      <td>8.569652</td>\n",
       "      <td>27.261664</td>\n",
       "      <td>483.389960</td>\n",
       "      <td>803.001028</td>\n",
       "      <td>349.442374</td>\n",
       "      <td>97.915371</td>\n",
       "      <td>19.269333</td>\n",
       "      <td>76.886881</td>\n",
       "      <td>959.575392</td>\n",
       "      <td>...</td>\n",
       "      <td>0.012075</td>\n",
       "      <td>-1.187114e+23</td>\n",
       "      <td>0.137501</td>\n",
       "      <td>0.027907</td>\n",
       "      <td>-1.899762e+24</td>\n",
       "      <td>0.008684</td>\n",
       "      <td>0.138957</td>\n",
       "      <td>4.346457</td>\n",
       "      <td>4.454338e-07</td>\n",
       "      <td>1</td>\n",
       "    </tr>\n",
       "    <tr>\n",
       "      <th>4</th>\n",
       "      <td>1</td>\n",
       "      <td>10.726769</td>\n",
       "      <td>30.501550</td>\n",
       "      <td>495.347490</td>\n",
       "      <td>828.010697</td>\n",
       "      <td>357.261581</td>\n",
       "      <td>101.980005</td>\n",
       "      <td>19.998163</td>\n",
       "      <td>77.086714</td>\n",
       "      <td>953.769573</td>\n",
       "      <td>...</td>\n",
       "      <td>0.012774</td>\n",
       "      <td>-1.399708e+23</td>\n",
       "      <td>0.145070</td>\n",
       "      <td>0.029499</td>\n",
       "      <td>-1.868590e+24</td>\n",
       "      <td>0.010242</td>\n",
       "      <td>0.136726</td>\n",
       "      <td>4.355824</td>\n",
       "      <td>4.665385e-07</td>\n",
       "      <td>1</td>\n",
       "    </tr>\n",
       "  </tbody>\n",
       "</table>\n",
       "<p>5 rows × 38 columns</p>\n",
       "</div>"
      ],
      "text/plain": [
       "   Unnamed: 0         94        131         171         193         211   \n",
       "0           1   8.974219  29.204307  506.383286  818.701571  355.635094  \\\n",
       "1           1  10.126854  29.849536  496.012853  817.035740  356.629023   \n",
       "2           1   8.892889  27.052865  476.856401  792.896779  345.935345   \n",
       "3           1   8.569652  27.261664  483.389960  803.001028  349.442374   \n",
       "4           1  10.726769  30.501550  495.347490  828.010697  357.261581   \n",
       "\n",
       "          304        335       1600        1700  ...   MEANJZH         TOTFY   \n",
       "0  105.700492  19.654783  77.338210  959.218468  ...  0.012208 -1.082416e+23  \\\n",
       "1  104.075087  20.269867  76.612126  963.786084  ...  0.011820 -1.035303e+23   \n",
       "2   96.576911  19.220694  75.617088  962.414683  ...  0.011432 -9.881894e+22   \n",
       "3   97.915371  19.269333  76.886881  959.575392  ...  0.012075 -1.187114e+23   \n",
       "4  101.980005  19.998163  77.086714  953.769573  ...  0.012774 -1.399708e+23   \n",
       "\n",
       "    MEANJZD   MEANALP         TOTFX      EPSY      EPSX   R_VALUE   \n",
       "0  0.050998  0.028371 -1.940120e+24  0.008031  0.143956  4.340293  \\\n",
       "1  0.089647  0.027410 -1.934845e+24  0.007630  0.142551  4.338973   \n",
       "2  0.128297  0.026448 -1.929571e+24  0.007229  0.141145  4.337653   \n",
       "3  0.137501  0.027907 -1.899762e+24  0.008684  0.138957  4.346457   \n",
       "4  0.145070  0.029499 -1.868590e+24  0.010242  0.136726  4.355824   \n",
       "\n",
       "         XR_MAX  target  \n",
       "0  4.854100e-07       1  \n",
       "1  4.561938e-07       1  \n",
       "2  4.269777e-07       1  \n",
       "3  4.454338e-07       1  \n",
       "4  4.665385e-07       1  \n",
       "\n",
       "[5 rows x 38 columns]"
      ]
     },
     "execution_count": 17,
     "metadata": {},
     "output_type": "execute_result"
    }
   ],
   "source": [
    "df.head()"
   ]
  },
  {
   "attachments": {},
   "cell_type": "markdown",
   "metadata": {},
   "source": [
    "**Grad-CAM**  \n",
    "Problem is that not interpretable on the embeddings. Must either use CNN trained without transformer or make sure that the embedding discriminant region corresponds to that of the original mvts."
   ]
  },
  {
   "cell_type": "code",
   "execution_count": 99,
   "metadata": {},
   "outputs": [],
   "source": [
    "import os\n",
    "import torch\n",
    "import numpy as np\n",
    "import pandas as pd\n",
    "from captum.attr import GuidedGradCam\n",
    "from torch.utils.data import Dataset, DataLoader\n",
    "from models import TransformerEncoder, CNNModel, CombinedModel\n",
    "from sklearn.preprocessing import StandardScaler\n",
    "import matplotlib.colors as mcolors\n",
    "from matplotlib import pyplot as plt\n",
    "import matplotlib.gridspec as gridspec\n",
    "from matplotlib.ticker import MultipleLocator"
   ]
  },
  {
   "cell_type": "code",
   "execution_count": 173,
   "metadata": {},
   "outputs": [],
   "source": [
    "class CNNDataset(Dataset):\n",
    "    '''\n",
    "    Outputs a tuple of (x, y) where x is a tensor of shape (batch, features, time) and y is a tensor of shape (1,)\n",
    "    Normalization is done per sample and is a unity normalization, i.e., no intensity infomation.\n",
    "    '''\n",
    "    def __init__(self, indices):\n",
    "        super(CNNDataset, self).__init__()\n",
    "        self.indices = indices\n",
    "\n",
    "    def __len__(self):\n",
    "        return len(self.indices)\n",
    "    \n",
    "    def __getitem__(self, idx):\n",
    "        index = self.indices[idx]\n",
    "        df = pd.read_csv(f'../data/embeddings/{index}.csv')\n",
    "        if len(df) < 40:\n",
    "            padding = pd.DataFrame(np.nan, index=np.arange(40 - len(df)), columns=df.columns)\n",
    "            df = pd.concat([padding, df])\n",
    "\n",
    "        label = df[\"target\"].values[-1].astype(np.int64)\n",
    "        df = df.drop(\"target\", axis=1)\n",
    "        df = df.drop(\"Unnamed: 0\", axis=1)\n",
    "        df = df.drop(\"R_VALUE\", axis=1)\n",
    "        embedding = np.array(df.values, dtype=np.float32)\n",
    "        embedding_norm = embedding.T\n",
    "        embedding_norm = self.unity_based_normalization(embedding_norm)\n",
    "        embedding_norm = embedding_norm.T\n",
    "        embedding = torch.tensor(embedding, dtype=torch.float32)\n",
    "        embedding = torch.nan_to_num(embedding, nan=0)\n",
    "        embedding = embedding.unsqueeze(0)\n",
    "        embedding_norm = torch.tensor(embedding_norm, dtype=torch.float32)\n",
    "        embedding_norm = torch.nan_to_num(embedding_norm, nan=0)\n",
    "\n",
    "        return embedding, embedding_norm, label\n",
    "    \n",
    "    @staticmethod\n",
    "    def unity_based_normalization(data):\n",
    "        '''\n",
    "        Normalize each row of the data matrix by subtracting its minimum value, dividing by its range, and scaling to a range of 0-1\n",
    "        Takes in arrays of shape (features, time)\n",
    "        This is just for visulization purposes, the CNN eats the raw embeddings without a normalization\n",
    "        '''\n",
    "        # Normalize each row by subtracting its minimum value, dividing by its range, and scaling to a range of 0-1\n",
    "        # Get the maximum and minimum values of each row\n",
    "        max_vals = np.nanmax(data, axis=1)\n",
    "        min_vals = np.nanmin(data, axis=1)\n",
    "        # Compute the range of each row, and add a small constant to avoid division by zero\n",
    "        ranges = max_vals - min_vals\n",
    "        eps = np.finfo(data.dtype).eps  # machine epsilon for the data type\n",
    "        ranges[ranges < eps] = eps\n",
    "        # Normalize each row by subtracting its minimum value, dividing by its range, and scaling to a range of 0-1\n",
    "        data = (data - min_vals[:, np.newaxis]) / ranges[:, np.newaxis]\n",
    "        data = data + np.nanmax(data)\n",
    "        data *= (1 / np.nanmax(data, axis=1)[:, np.newaxis])\n",
    "        return data"
   ]
  },
  {
   "cell_type": "code",
   "execution_count": 174,
   "metadata": {},
   "outputs": [
    {
     "data": {
      "text/plain": [
       "CNNModel(\n",
       "  (conv1): Conv2d(1, 64, kernel_size=(3, 3), stride=(1, 1), padding=(1, 1))\n",
       "  (relu1): ReLU()\n",
       "  (conv2): Conv2d(64, 64, kernel_size=(3, 3), stride=(1, 1), padding=(1, 1))\n",
       "  (relu2): ReLU()\n",
       "  (fc1): Linear(in_features=89600, out_features=20, bias=True)\n",
       "  (fc2): Linear(in_features=20, out_features=2, bias=True)\n",
       ")"
      ]
     },
     "execution_count": 174,
     "metadata": {},
     "output_type": "execute_result"
    }
   ],
   "source": [
    "# Create a model instance of the CNN and load the pretrained weights\n",
    "\n",
    "# Step 1: Create an instance of the CombinedModel\n",
    "transformer_model = TransformerEncoder(feat_dim=35,max_len=40,d_model=35,n_heads=7,num_layers=1,dim_feedforward=256,dropout=0.1,freeze=True).float()\n",
    "cnn_model = CNNModel().float()\n",
    "main_model = CombinedModel(transformer_model, cnn_model).float()\n",
    "\n",
    "# Step 2: Load the weights for the entire combined model\n",
    "main_model.load_state_dict(torch.load(\"../models/classification_standard_norm.pt\"))\n",
    "\n",
    "# Step 3: Remove the weights that belong to the transformer model from the loaded state dict\n",
    "state_dict = main_model.state_dict()\n",
    "state_dict = {k: v for k, v in state_dict.items() if \"transformer_model\" not in k}\n",
    "\n",
    "# Step 4: Load the modified state dict into the cnn_model\n",
    "cnn_model.load_state_dict(state_dict, strict=False)\n",
    "\n",
    "# Step 5: Set to eval mode\n",
    "cnn_model.eval()"
   ]
  },
  {
   "cell_type": "code",
   "execution_count": 228,
   "metadata": {},
   "outputs": [],
   "source": [
    "# Load data \n",
    "Mydataset = CNNDataset(indices=[7])\n",
    "train_dataloader = DataLoader(Mydataset, batch_size=1, shuffle=False)\n",
    "embedding, embedding_norm, label = next(iter(train_dataloader))"
   ]
  },
  {
   "cell_type": "code",
   "execution_count": 229,
   "metadata": {},
   "outputs": [
    {
     "name": "stderr",
     "output_type": "stream",
     "text": [
      "/Users/brandonlpanos/gits/mvts_transformer/envmvts/lib/python3.9/site-packages/captum/attr/_core/guided_backprop_deconvnet.py:64: UserWarning: Setting backward hooks on ReLU activations.The hooks will be removed after the attribution is finished\n",
      "  warnings.warn(\n"
     ]
    }
   ],
   "source": [
    "# Create a GuidedGradCam object based on the model and the desired layer\n",
    "guided_grad_cam = GuidedGradCam(cnn_model, cnn_model.conv2)\n",
    "\n",
    "# Get the attribution mask\n",
    "attribution_mask = guided_grad_cam.attribute(embedding.requires_grad_(), target=label.item()).detach()"
   ]
  },
  {
   "cell_type": "code",
   "execution_count": 230,
   "metadata": {},
   "outputs": [
    {
     "data": {
      "text/plain": [
       "torch.Size([1, 1, 40, 35])"
      ]
     },
     "execution_count": 230,
     "metadata": {},
     "output_type": "execute_result"
    }
   ],
   "source": [
    "torch.nanmean(attribution_mask)\n",
    "attribution_mask.shape"
   ]
  },
  {
   "cell_type": "code",
   "execution_count": 231,
   "metadata": {},
   "outputs": [
    {
     "name": "stderr",
     "output_type": "stream",
     "text": [
      "/var/folders/f9/n3qmt52j5rzc2pm_q_cmx6_80000gn/T/ipykernel_17266/1410792091.py:66: MatplotlibDeprecationWarning: The get_cmap function was deprecated in Matplotlib 3.7 and will be removed two minor releases later. Use ``matplotlib.colormaps[name]`` or ``matplotlib.colormaps.get_cmap(obj)`` instead.\n",
      "  cmap = plt.cm.get_cmap('jet')\n",
      "/var/folders/f9/n3qmt52j5rzc2pm_q_cmx6_80000gn/T/ipykernel_17266/1410792091.py:79: UserWarning: This figure includes Axes that are not compatible with tight_layout, so results might be incorrect.\n",
      "  plt.tight_layout()\n"
     ]
    },
    {
     "data": {
      "image/png": "[encoded data removed]",
      "text/plain": [
       "<Figure size 1000x2500 with 37 Axes>"
      ]
     },
     "metadata": {},
     "output_type": "display_data"
    }
   ],
   "source": [
    "plt.rcParams['font.size'] = 8\n",
    "\n",
    "name = '1'\n",
    "class_name = str(label.detach().numpy().item())\n",
    "\n",
    "dtypes = ['94', '131', '171', '193', '211', '304', '335', '1600', '1700', 'M_45s', 'V_45s',\n",
    "          'TOTUSJH', 'TOTBSQ', 'TOTPOT', 'TOTUSJZ', 'ABSNJZH', 'SAVNCPP', 'USFLUX', 'TOTFZ',\n",
    "          'MEANPOT', 'EPSZ', 'MEANSHR', 'SHRGT45', 'MEANGAM', 'MEANGBT', 'MEANGBZ', 'MEANGBH',\n",
    "          'MEANJZH', 'TOTFY', 'MEANJZD', 'MEANALP', 'TOTFX', 'EPSY', 'EPSX', 'XR_MAX']\n",
    "\n",
    "\n",
    "embedding = embedding.squeeze().detach().numpy().copy().T\n",
    "embedding_norm = embedding_norm.squeeze().detach().numpy().copy().T\n",
    "attribution_mask = attribution_mask.squeeze().detach().numpy().copy().T\n",
    "\n",
    "# nan out the padding\n",
    "embedding[embedding==0] = np.nan\n",
    "n_void = np.isnan(embedding[0]).sum()\n",
    "attribution_mask[:,0:n_void] = np.nan\n",
    "embedding_norm[embedding_norm==0] = np.nan\n",
    "\n",
    "\n",
    "fig = plt.figure(figsize=(10, 25))\n",
    "gs = gridspec.GridSpec(5, 3, height_ratios=[1, 1, 1, 1, 4], width_ratios=[1, 1, 1], hspace=0.15, wspace=0.3)\n",
    "\n",
    "# plot input mvt\n",
    "ax1 = fig.add_subplot(gs[0:1, :])\n",
    "ax1.set_title(f'mvts class: {class_name}')\n",
    "ax1.imshow(embedding_norm, aspect='auto', cmap='gray', interpolation='spline16', alpha=0.5)\n",
    "ax1.yaxis.grid(True, \"major\")\n",
    "ax1.xaxis.grid(True, \"major\")\n",
    "ax1.xaxis.set_major_locator(MultipleLocator(2))\n",
    "ax1.xaxis.set_minor_locator(MultipleLocator(1))\n",
    "ax1.yaxis.set_major_locator(MultipleLocator(5))\n",
    "ax1.yaxis.set_minor_locator(MultipleLocator(1))\n",
    "ax1.tick_params(which='major', length=5,width=1)\n",
    "ax1.tick_params(which='minor', length=3,width=1)\n",
    "\n",
    "# Plot saliency map\n",
    "ax2 = fig.add_subplot(gs[1, :])\n",
    "ax2.set_title('saliency map')\n",
    "ax2.imshow(attribution_mask, aspect='auto', cmap='jet', alpha=0.5, interpolation='spline16')\n",
    "ax2.yaxis.grid(True, \"major\")\n",
    "ax2.xaxis.grid(False, \"major\")\n",
    "ax2.xaxis.set_major_locator(MultipleLocator(2))\n",
    "ax2.xaxis.set_minor_locator(MultipleLocator(1))\n",
    "ax2.yaxis.set_major_locator(MultipleLocator(5))\n",
    "ax2.yaxis.set_minor_locator(MultipleLocator(1))\n",
    "ax2.tick_params(which='major', length=5,width=1)\n",
    "ax2.tick_params(which='minor', length=3,width=1)\n",
    "\n",
    "# Plot the light curves\n",
    "gs2 = gridspec.GridSpecFromSubplotSpec(6, 6, subplot_spec=gs[2, 0:], wspace=0, hspace=0)\n",
    "# Add the gridplot subplots\n",
    "for i in range(6):\n",
    "    for j in range(6):\n",
    "        ind = (i * 6) + j\n",
    "        if ind < len(dtypes):  # Check if index is within the range of dtypes\n",
    "            ax = fig.add_subplot(gs2[i, j])\n",
    "            # Handle NaN values in attribution_mask\n",
    "            masked_mask = np.ma.masked_invalid(attribution_mask)\n",
    "            # Normalize the masked_mask to range [0, 1]\n",
    "            norm = mcolors.Normalize(vmin=masked_mask.min(), vmax=masked_mask.max())\n",
    "            normalized_mask = norm(masked_mask)\n",
    "            # Convert the normalized mask to RGB\n",
    "            cmap = plt.cm.get_cmap('jet')\n",
    "            rgb_colors = cmap(normalized_mask)\n",
    "            light_curve = embedding[ind]\n",
    "            light_curve_colors = rgb_colors[ind, :, :]\n",
    "            for k, clr in enumerate(light_curve_colors):\n",
    "                if k + 1 == 40: break\n",
    "                x = [k, k+1]\n",
    "                y = [light_curve[k], light_curve[k+1]]\n",
    "                plt.plot(x, y, color=clr, linewidth=0.7)\n",
    "                plt.text(0.02, 0.9, dtypes[ind], fontsize=5, horizontalalignment='left', verticalalignment='center', transform=ax.transAxes)\n",
    "                plt.xticks([])\n",
    "                plt.yticks([])\n",
    "                plt.xlim(0,40)\n",
    "plt.tight_layout()\n",
    "# plt.savefig(f'figs/{name}.png', bbox_inches='tight')\n",
    "plt.show()\n",
    "plt.close(fig)"
   ]
  },
  {
   "cell_type": "code",
   "execution_count": 167,
   "metadata": {},
   "outputs": [
    {
     "name": "stdout",
     "output_type": "stream",
     "text": [
      "tensor([1])\n"
     ]
    },
    {
     "name": "stderr",
     "output_type": "stream",
     "text": [
      "/Users/brandonlpanos/gits/mvts_transformer/envmvts/lib/python3.9/site-packages/captum/attr/_core/guided_backprop_deconvnet.py:64: UserWarning: Setting backward hooks on ReLU activations.The hooks will be removed after the attribution is finished\n",
      "  warnings.warn(\n"
     ]
    }
   ],
   "source": [
    "# Load data \n",
    "Mydataset = CNNDataset(indices=[0])\n",
    "train_dataloader = DataLoader(Mydataset, batch_size=1, shuffle=False)\n",
    "embedding, embedding_norm, label = next(iter(train_dataloader))\n",
    "embedding[embedding==0] = torch.nan\n",
    "embedding_norm[embedding_norm==0] = torch.nan\n",
    "print(label)\n",
    "\n",
    "# Create a GuidedGradCam object based on the model and the desired layer\n",
    "guided_grad_cam = GuidedGradCam(cnn_model, cnn_model.conv2)\n",
    "\n",
    "# Get the attribution mask\n",
    "attribution_mask = guided_grad_cam.attribute(embedding.requires_grad_(), target=label.item()).detach()"
   ]
  },
  {
   "cell_type": "code",
   "execution_count": 168,
   "metadata": {},
   "outputs": [
    {
     "data": {
      "text/plain": [
       "torch.Size([1, 1, 40, 35])"
      ]
     },
     "execution_count": 168,
     "metadata": {},
     "output_type": "execute_result"
    }
   ],
   "source": [
    "attribution_mask.shape"
   ]
  },
  {
   "cell_type": "code",
   "execution_count": 180,
   "metadata": {},
   "outputs": [
    {
     "ename": "IndexError",
     "evalue": "too many indices for array: array is 2-dimensional, but 4 were indexed",
     "output_type": "error",
     "traceback": [
      "\u001b[0;31m---------------------------------------------------------------------------\u001b[0m",
      "\u001b[0;31mIndexError\u001b[0m                                Traceback (most recent call last)",
      "Cell \u001b[0;32mIn[180], line 2\u001b[0m\n\u001b[1;32m      1\u001b[0m fig, axs \u001b[39m=\u001b[39m plt\u001b[39m.\u001b[39msubplots(\u001b[39m1\u001b[39m, \u001b[39m3\u001b[39m, figsize\u001b[39m=\u001b[39m(\u001b[39m5\u001b[39m, \u001b[39m6\u001b[39m))\n\u001b[0;32m----> 2\u001b[0m axs[\u001b[39m0\u001b[39m]\u001b[39m.\u001b[39mimshow(embedding[\u001b[39m0\u001b[39;49m, \u001b[39m0\u001b[39;49m, :, :]\u001b[39m.\u001b[39mdetach()\u001b[39m.\u001b[39mnumpy(), aspect\u001b[39m=\u001b[39m\u001b[39m'\u001b[39m\u001b[39mauto\u001b[39m\u001b[39m'\u001b[39m, alpha\u001b[39m=\u001b[39m\u001b[39m0.5\u001b[39m, cmap\u001b[39m=\u001b[39m\u001b[39m'\u001b[39m\u001b[39mjet\u001b[39m\u001b[39m'\u001b[39m, interpolation\u001b[39m=\u001b[39m\u001b[39m'\u001b[39m\u001b[39mspline16\u001b[39m\u001b[39m'\u001b[39m)\n\u001b[1;32m      3\u001b[0m axs[\u001b[39m1\u001b[39m]\u001b[39m.\u001b[39mimshow(embedding_norm[\u001b[39m0\u001b[39m, \u001b[39m0\u001b[39m, :, :]\u001b[39m.\u001b[39mdetach()\u001b[39m.\u001b[39mnumpy(), aspect\u001b[39m=\u001b[39m\u001b[39m'\u001b[39m\u001b[39mauto\u001b[39m\u001b[39m'\u001b[39m, alpha\u001b[39m=\u001b[39m\u001b[39m0.5\u001b[39m, cmap\u001b[39m=\u001b[39m\u001b[39m'\u001b[39m\u001b[39mjet\u001b[39m\u001b[39m'\u001b[39m, interpolation\u001b[39m=\u001b[39m\u001b[39m'\u001b[39m\u001b[39mspline16\u001b[39m\u001b[39m'\u001b[39m)\n\u001b[1;32m      4\u001b[0m axs[\u001b[39m2\u001b[39m]\u001b[39m.\u001b[39mimshow(attribution_mask[\u001b[39m0\u001b[39m, \u001b[39m0\u001b[39m, :, :]\u001b[39m.\u001b[39mdetach()\u001b[39m.\u001b[39mnumpy() \u001b[39m-\u001b[39m attribution_mask[\u001b[39m0\u001b[39m, \u001b[39m0\u001b[39m, :, :]\u001b[39m.\u001b[39mnumpy(), aspect\u001b[39m=\u001b[39m\u001b[39m'\u001b[39m\u001b[39mauto\u001b[39m\u001b[39m'\u001b[39m, alpha\u001b[39m=\u001b[39m\u001b[39m0.5\u001b[39m, cmap\u001b[39m=\u001b[39m\u001b[39m'\u001b[39m\u001b[39mjet\u001b[39m\u001b[39m'\u001b[39m, interpolation\u001b[39m=\u001b[39m\u001b[39m'\u001b[39m\u001b[39mspline16\u001b[39m\u001b[39m'\u001b[39m)\n",
      "\u001b[0;31mIndexError\u001b[0m: too many indices for array: array is 2-dimensional, but 4 were indexed"
     ]
    },
    {
     "data": {
      "image/png": "[encoded data removed]",
      "text/plain": [
       "<Figure size 500x600 with 3 Axes>"
      ]
     },
     "metadata": {},
     "output_type": "display_data"
    }
   ],
   "source": [
    "fig, axs = plt.subplots(1, 3, figsize=(5, 6))\n",
    "axs[0].imshow(embedding[0, 0, :, :].detach().numpy(), aspect='auto', alpha=0.5, cmap='jet', interpolation='spline16')\n",
    "axs[1].imshow(embedding_norm[0, 0, :, :].detach().numpy(), aspect='auto', alpha=0.5, cmap='jet', interpolation='spline16')\n",
    "axs[2].imshow(attribution_mask[0, 0, :, :].detach().numpy() - attribution_mask[0, 0, :, :].numpy(), aspect='auto', alpha=0.5, cmap='jet', interpolation='spline16')\n",
    "plt.tight_layout()\n",
    "plt.show()"
   ]
  },
  {
   "cell_type": "code",
   "execution_count": null,
   "metadata": {},
   "outputs": [],
   "source": []
  }
 ],
 "metadata": {
  "kernelspec": {
   "display_name": "envmvts",
   "language": "python",
   "name": "python3"
  },
  "language_info": {
   "codemirror_mode": {
    "name": "ipython",
    "version": 3
   },
   "file_extension": ".py",
   "mimetype": "text/x-python",
   "name": "python",
   "nbconvert_exporter": "python",
   "pygments_lexer": "ipython3",
   "version": "3.9.12"
  },
  "orig_nbformat": 4
 },
 "nbformat": 4,
 "nbformat_minor": 2
}
