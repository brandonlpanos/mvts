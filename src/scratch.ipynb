{
 "cells": [
  {
   "cell_type": "code",
   "execution_count": 1,
   "metadata": {},
   "outputs": [],
   "source": [
    "import os\n",
    "import json\n",
    "import torch\n",
    "import torch.nn as nn\n",
    "from datasets import MVTSDataset\n",
    "from models import TransformerEncoder\n",
    "from torch.utils.data import DataLoader\n",
    "from datasets import find_padding_masks"
   ]
  },
  {
   "cell_type": "code",
   "execution_count": 2,
   "metadata": {},
   "outputs": [
    {
     "data": {
      "text/plain": [
       "<All keys matched successfully>"
      ]
     },
     "execution_count": 2,
     "metadata": {},
     "output_type": "execute_result"
    }
   ],
   "source": [
    "transformer_model = TransformerEncoder(feat_dim=35,\n",
    "                                    max_len=40,\n",
    "                                    d_model=64, \n",
    "                                    n_heads=8, \n",
    "                                    num_layers=1,\n",
    "                                    dim_feedforward=256, \n",
    "                                    dropout=0.1, \n",
    "                                    freeze=False)\n",
    "transformer_model.float()\n",
    "\n",
    "# Load pretrained weights \n",
    "transformer_model.load_state_dict(torch.load('../models/inputting_unity_norm.pt'))"
   ]
  },
  {
   "cell_type": "code",
   "execution_count": 3,
   "metadata": {},
   "outputs": [],
   "source": [
    "class CNNModel(nn.Module):\n",
    "    def __init__(self):\n",
    "        super(CNNModel, self).__init__()\n",
    "        self.conv1 = nn.Conv2d(1, 64, kernel_size=3, stride=1, padding=1)\n",
    "        self.relu1 = nn.ReLU()\n",
    "        self.conv2 = nn.Conv2d(64, 64, kernel_size=3, stride=1, padding=1)\n",
    "        self.relu2 = nn.ReLU()\n",
    "        self.fc1 = nn.Linear(64 * 35 * 40, 20)\n",
    "        self.fc2 = nn.Linear(20, 2)\n",
    "\n",
    "    def forward(self, x):\n",
    "        x = self.conv1(x)\n",
    "        x = self.relu1(x)\n",
    "        x = self.conv2(x)\n",
    "        x = self.relu2(x)\n",
    "        x = x.view(x.size(0), -1)\n",
    "        x = self.fc1(x)\n",
    "        logits = self.fc2(x)\n",
    "        return logits"
   ]
  },
  {
   "cell_type": "code",
   "execution_count": 4,
   "metadata": {},
   "outputs": [
    {
     "data": {
      "text/plain": [
       "CNNModel(\n",
       "  (conv1): Conv2d(1, 64, kernel_size=(3, 3), stride=(1, 1), padding=(1, 1))\n",
       "  (relu1): ReLU()\n",
       "  (conv2): Conv2d(64, 64, kernel_size=(3, 3), stride=(1, 1), padding=(1, 1))\n",
       "  (relu2): ReLU()\n",
       "  (fc1): Linear(in_features=89600, out_features=20, bias=True)\n",
       "  (fc2): Linear(in_features=20, out_features=2, bias=True)\n",
       ")"
      ]
     },
     "execution_count": 4,
     "metadata": {},
     "output_type": "execute_result"
    }
   ],
   "source": [
    "cnn_model = CNNModel()\n",
    "cnn_model"
   ]
  },
  {
   "cell_type": "code",
   "execution_count": 5,
   "metadata": {},
   "outputs": [],
   "source": [
    "class CombinedModel(nn.Module):\n",
    "    def __init__(self, transformer_model, cnn_model):\n",
    "        super(CombinedModel, self).__init__()\n",
    "        self.transformer_model = transformer_model\n",
    "        self.cnn_model = cnn_model\n",
    "\n",
    "    def forward(self, x, padding_mask):\n",
    "        transformer_output = self.transformer_model(x, padding_mask)\n",
    "        transformed_output = transformer_output.unsqueeze(1)\n",
    "        logits_output = self.cnn_model(transformed_output)\n",
    "        return logits_output"
   ]
  },
  {
   "cell_type": "code",
   "execution_count": 6,
   "metadata": {},
   "outputs": [
    {
     "data": {
      "text/plain": [
       "CombinedModel(\n",
       "  (transformer_model): TransformerEncoder(\n",
       "    (project_inp): Linear(in_features=35, out_features=64, bias=True)\n",
       "    (pos_enc): LearnablePositionalEncoding(\n",
       "      (dropout): Dropout(p=0.1, inplace=False)\n",
       "    )\n",
       "    (transformer_encoder): TransformerEncoder(\n",
       "      (layers): ModuleList(\n",
       "        (0): TransformerEncoderLayer(\n",
       "          (self_attn): MultiheadAttention(\n",
       "            (out_proj): NonDynamicallyQuantizableLinear(in_features=64, out_features=64, bias=True)\n",
       "          )\n",
       "          (linear1): Linear(in_features=64, out_features=256, bias=True)\n",
       "          (dropout): Dropout(p=0.1, inplace=False)\n",
       "          (linear2): Linear(in_features=256, out_features=64, bias=True)\n",
       "          (norm1): LayerNorm((64,), eps=1e-05, elementwise_affine=True)\n",
       "          (norm2): LayerNorm((64,), eps=1e-05, elementwise_affine=True)\n",
       "          (dropout1): Dropout(p=0.1, inplace=False)\n",
       "          (dropout2): Dropout(p=0.1, inplace=False)\n",
       "        )\n",
       "      )\n",
       "    )\n",
       "    (output_layer): Linear(in_features=64, out_features=35, bias=True)\n",
       "    (dropout1): Dropout(p=0.1, inplace=False)\n",
       "  )\n",
       "  (cnn_model): CNNModel(\n",
       "    (conv1): Conv2d(1, 64, kernel_size=(3, 3), stride=(1, 1), padding=(1, 1))\n",
       "    (relu1): ReLU()\n",
       "    (conv2): Conv2d(64, 64, kernel_size=(3, 3), stride=(1, 1), padding=(1, 1))\n",
       "    (relu2): ReLU()\n",
       "    (fc1): Linear(in_features=89600, out_features=20, bias=True)\n",
       "    (fc2): Linear(in_features=20, out_features=2, bias=True)\n",
       "  )\n",
       ")"
      ]
     },
     "execution_count": 6,
     "metadata": {},
     "output_type": "execute_result"
    }
   ],
   "source": [
    "main_model = CombinedModel(transformer_model, cnn_model)\n",
    "main_model"
   ]
  },
  {
   "cell_type": "code",
   "execution_count": 15,
   "metadata": {},
   "outputs": [
    {
     "name": "stdout",
     "output_type": "stream",
     "text": [
      "[247, 56, 297, 114, 313, 446, 258, 43, 133, 246, 242, 383, 413, 67, 8, 336, 152, 342, 272, 225, 257, 454, 26, 304, 269, 227, 458, 118, 27, 60, 338, 193, 433, 74, 191, 182, 175, 285, 139, 162, 208, 341, 33, 298, 173, 386, 451, 5, 23, 130, 343, 92, 107, 165, 280, 28, 226, 255, 197, 161, 379, 14, 214, 164, 231, 97, 170, 428, 287, 15, 288, 37, 71, 362, 123, 144, 174, 32, 61, 302, 399, 59, 111, 237, 44, 402, 366, 141, 334, 312, 436, 440, 475, 474, 380, 364, 240]\n"
     ]
    }
   ],
   "source": [
    "with open('../data/data_indices.json', 'r') as f: data_indices = json.load(f)\n",
    "train_indices = data_indices['train_indices']\n",
    "train_dataloader = DataLoader(MVTSDataset(train_indices, norm_type='unity', mean_mask_length=3, masking_ratio=0.15), batch_size=10, shuffle=True, drop_last=True)\n",
    "print(data_indices['val_indices'])"
   ]
  },
  {
   "cell_type": "code",
   "execution_count": 8,
   "metadata": {},
   "outputs": [
    {
     "data": {
      "text/plain": [
       "tensor([[0.2484, 0.2286],\n",
       "        [0.2265, 0.1931],\n",
       "        [0.1994, 0.1556],\n",
       "        [0.2204, 0.1553],\n",
       "        [0.2171, 0.1671],\n",
       "        [0.2285, 0.2240],\n",
       "        [0.2230, 0.1962],\n",
       "        [0.2366, 0.2181],\n",
       "        [0.2256, 0.1924],\n",
       "        [0.2259, 0.2230]], grad_fn=<AddmmBackward0>)"
      ]
     },
     "execution_count": 8,
     "metadata": {},
     "output_type": "execute_result"
    }
   ],
   "source": [
    "main_model.eval()\n",
    "x, _, _ = next(iter(train_dataloader))\n",
    "padding_mask = find_padding_masks(x)\n",
    "x = torch.nan_to_num(x) # replace nan with 0 (since needs to be processed by the model)\n",
    "probabilities = main_model(x, padding_mask)\n",
    "probabilities"
   ]
  },
  {
   "cell_type": "code",
   "execution_count": 11,
   "metadata": {},
   "outputs": [
    {
     "name": "stdout",
     "output_type": "stream",
     "text": [
      "Epoch: 1\n",
      "tensor([1, 1, 1, 1, 0, 1, 1, 1, 0, 1])\n"
     ]
    }
   ],
   "source": [
    "def train_and_validate_classifier(model, train_loader, test_loader, n_epoch)\n",
    "\n",
    "    best_test_loss = 1e20\n",
    "    running_batch_loss_train = []\n",
    "    running_batch_loss_test = []\n",
    "    save_path = '../models/classification_unity_norm.pt'\n",
    "\n",
    "    for epoch in range(n_epoch):\n",
    "        print(f\"Epoch: {epoch + 1}\")\n",
    "\n",
    "        # Train loop \n",
    "        for x, _, y in train_loader:\n",
    "            padding_mask = find_padding_masks(x)\n",
    "            x = torch.nan_to_num(x).to(device)\n",
    "            y_hat = main_model(x, padding_mask).to(device)\n",
    "            optimizer.zero_grad()\n",
    "            loss = criterion(y_hat, y)\n",
    "            loss.backward()\n",
    "            optimizer.step()\n",
    "            running_batch_loss_train.append(loss.item())\n",
    "\n",
    "        # Test loop\n",
    "        for x, _, y in test_loader:\n",
    "            padding_mask = find_padding_masks(x)\n",
    "            x = torch.nan_to_num(x).to(device)\n",
    "            y_hat = main_model(x, padding_mask).to(device)\n",
    "            loss = criterion(y_hat, y)\n",
    "            running_batch_loss_test.append(loss.item())\n",
    "\n",
    "        # Save model if test loss is lower than best test loss\n",
    "        if running_batch_loss_test[-1] < best_test_loss:\n",
    "            best_test_loss = running_batch_loss_test[-1]\n",
    "            torch.save(main_model.state_dict(), save_path)\n",
    "            print(f\"Saved model at epoch {epoch + 1}\")\n",
    "\n",
    "        # Print loss\n",
    "        print(f\"Train loss: {running_batch_loss_train[-1]}\")\n",
    "        print(f\"Test loss: {running_batch_loss_test[-1]}\")\n",
    "\n",
    "    return running_batch_loss_train, running_batch_loss_test\n",
    "\n",
    "n_epoch = 100\n",
    "train_loader = train_dataloader\n",
    "criterion = nn.CrossEntropyLoss()\n",
    "optimizer = torch.optim.Adam(main_model.parameters(), lr=0.001)\n",
    "device = torch.device(\"cuda\" if torch.cuda.is_available() else \"cpu\")\n",
    "main_model.to(device)\n",
    "\n",
    "train_loss, test_loss = train_and_validate_classifier(main_model, train_loader, train_loader, n_epoch)"
   ]
  },
  {
   "attachments": {},
   "cell_type": "markdown",
   "metadata": {},
   "source": [
    "**Embeddings**"
   ]
  },
  {
   "cell_type": "code",
   "execution_count": 20,
   "metadata": {},
   "outputs": [],
   "source": [
    "# Instantiate transformer model and load pretrained weights of best model on the classifciation task\n",
    "main_model = CombinedModel(transformer_model, cnn_model)\n",
    "main_model.load_state_dict(torch.load('../models/classification_standard_norm.pt'))\n",
    "main_model.eval();"
   ]
  },
  {
   "cell_type": "code",
   "execution_count": 37,
   "metadata": {},
   "outputs": [],
   "source": [
    "# Load trained weights of the transformer model\n",
    "\n",
    "# Step 1: Create an instance of CombinedModel\n",
    "transformer_model = TransformerEncoder(feat_dim=35,max_len=40,d_model=64,n_heads=8,num_layers=1,dim_feedforward=256,dropout=0.1,freeze=False).float()\n",
    "cnn_model = CNNModel().float()\n",
    "main_model = CombinedModel(transformer_model, cnn_model).float()\n",
    "\n",
    "# Step 2: Load the weights for the entire combined model\n",
    "main_model.load_state_dict(torch.load(\"../models/classification_standard_norm.pt\"))\n",
    "\n",
    "# Step 3: Remove the weights that belong to the cnn_model from the loaded state dict\n",
    "state_dict = main_model.state_dict()\n",
    "state_dict = {k: v for k, v in state_dict.items() if \"cnn_model\" not in k}\n",
    "\n",
    "# Step 4: Load the modified state dict into the transformer_model\n",
    "transformer_model.load_state_dict(state_dict, strict=False)\n",
    "\n",
    "# Step 5: Set to eval mode\n",
    "transformer_model.eval();"
   ]
  },
  {
   "cell_type": "code",
   "execution_count": 38,
   "metadata": {},
   "outputs": [],
   "source": [
    "# Load train data\n",
    "with open('../data/data_indices.json', 'r') as f: data_indices = json.load(f)\n",
    "train_indices = data_indices['train_indices']\n",
    "train_dataloader = DataLoader(MVTSDataset(train_indices, norm_type='standard'), batch_size=1, shuffle=False, drop_last=False)\n",
    "\n",
    "# Load validation data\n",
    "with open('../data/data_indices.json', 'r') as f: data_indices = json.load(f)\n",
    "val_indices = data_indices['val_indices']\n",
    "val_dataloader = DataLoader(MVTSDataset(val_indices, norm_type='standard'), batch_size=1, shuffle=False, drop_last=False)"
   ]
  },
  {
   "cell_type": "code",
   "execution_count": 90,
   "metadata": {},
   "outputs": [
    {
     "data": {
      "text/plain": [
       "['Unnamed: 0',\n",
       " '94',\n",
       " '131',\n",
       " '171',\n",
       " '193',\n",
       " '211',\n",
       " '304',\n",
       " '335',\n",
       " '1600',\n",
       " '1700',\n",
       " 'M_45s',\n",
       " 'V_45s',\n",
       " 'TOTUSJH',\n",
       " 'TOTBSQ',\n",
       " 'TOTPOT',\n",
       " 'TOTUSJZ',\n",
       " 'ABSNJZH',\n",
       " 'SAVNCPP',\n",
       " 'USFLUX',\n",
       " 'TOTFZ',\n",
       " 'MEANPOT',\n",
       " 'EPSZ',\n",
       " 'MEANSHR',\n",
       " 'SHRGT45',\n",
       " 'MEANGAM',\n",
       " 'MEANGBT',\n",
       " 'MEANGBZ',\n",
       " 'MEANGBH',\n",
       " 'MEANJZH',\n",
       " 'TOTFY',\n",
       " 'MEANJZD',\n",
       " 'MEANALP',\n",
       " 'TOTFX',\n",
       " 'EPSY',\n",
       " 'EPSX',\n",
       " 'R_VALUE',\n",
       " 'XR_MAX',\n",
       " 'target']"
      ]
     },
     "execution_count": 90,
     "metadata": {},
     "output_type": "execute_result"
    }
   ],
   "source": [
    "features.to_list()"
   ]
  },
  {
   "cell_type": "code",
   "execution_count": 91,
   "metadata": {},
   "outputs": [
    {
     "ename": "ValueError",
     "evalue": "Shape of passed values is (40, 35), indices imply (40, 38)",
     "output_type": "error",
     "traceback": [
      "\u001b[0;31m---------------------------------------------------------------------------\u001b[0m",
      "\u001b[0;31mValueError\u001b[0m                                Traceback (most recent call last)",
      "Cell \u001b[0;32mIn[91], line 5\u001b[0m\n\u001b[1;32m      2\u001b[0m features \u001b[39m=\u001b[39m df\u001b[39m.\u001b[39mcolumns\u001b[39m.\u001b[39mtolist()\n\u001b[1;32m      4\u001b[0m \u001b[39m# turn array into pandas dataframe\u001b[39;00m\n\u001b[0;32m----> 5\u001b[0m df \u001b[39m=\u001b[39m pd\u001b[39m.\u001b[39;49mDataFrame(x[\u001b[39m0\u001b[39;49m], columns\u001b[39m=\u001b[39;49mfeatures)\n\u001b[1;32m      6\u001b[0m df\u001b[39m.\u001b[39mhead()\n",
      "File \u001b[0;32m~/gits/mvts_transformer/envmvts/lib/python3.9/site-packages/pandas/core/frame.py:798\u001b[0m, in \u001b[0;36mDataFrame.__init__\u001b[0;34m(self, data, index, columns, dtype, copy)\u001b[0m\n\u001b[1;32m    790\u001b[0m         mgr \u001b[39m=\u001b[39m arrays_to_mgr(\n\u001b[1;32m    791\u001b[0m             arrays,\n\u001b[1;32m    792\u001b[0m             columns,\n\u001b[0;32m   (...)\u001b[0m\n\u001b[1;32m    795\u001b[0m             typ\u001b[39m=\u001b[39mmanager,\n\u001b[1;32m    796\u001b[0m         )\n\u001b[1;32m    797\u001b[0m     \u001b[39melse\u001b[39;00m:\n\u001b[0;32m--> 798\u001b[0m         mgr \u001b[39m=\u001b[39m ndarray_to_mgr(\n\u001b[1;32m    799\u001b[0m             data,\n\u001b[1;32m    800\u001b[0m             index,\n\u001b[1;32m    801\u001b[0m             columns,\n\u001b[1;32m    802\u001b[0m             dtype\u001b[39m=\u001b[39;49mdtype,\n\u001b[1;32m    803\u001b[0m             copy\u001b[39m=\u001b[39;49mcopy,\n\u001b[1;32m    804\u001b[0m             typ\u001b[39m=\u001b[39;49mmanager,\n\u001b[1;32m    805\u001b[0m         )\n\u001b[1;32m    806\u001b[0m \u001b[39melse\u001b[39;00m:\n\u001b[1;32m    807\u001b[0m     mgr \u001b[39m=\u001b[39m dict_to_mgr(\n\u001b[1;32m    808\u001b[0m         {},\n\u001b[1;32m    809\u001b[0m         index,\n\u001b[0;32m   (...)\u001b[0m\n\u001b[1;32m    812\u001b[0m         typ\u001b[39m=\u001b[39mmanager,\n\u001b[1;32m    813\u001b[0m     )\n",
      "File \u001b[0;32m~/gits/mvts_transformer/envmvts/lib/python3.9/site-packages/pandas/core/internals/construction.py:337\u001b[0m, in \u001b[0;36mndarray_to_mgr\u001b[0;34m(values, index, columns, dtype, copy, typ)\u001b[0m\n\u001b[1;32m    332\u001b[0m \u001b[39m# _prep_ndarraylike ensures that values.ndim == 2 at this point\u001b[39;00m\n\u001b[1;32m    333\u001b[0m index, columns \u001b[39m=\u001b[39m _get_axes(\n\u001b[1;32m    334\u001b[0m     values\u001b[39m.\u001b[39mshape[\u001b[39m0\u001b[39m], values\u001b[39m.\u001b[39mshape[\u001b[39m1\u001b[39m], index\u001b[39m=\u001b[39mindex, columns\u001b[39m=\u001b[39mcolumns\n\u001b[1;32m    335\u001b[0m )\n\u001b[0;32m--> 337\u001b[0m _check_values_indices_shape_match(values, index, columns)\n\u001b[1;32m    339\u001b[0m \u001b[39mif\u001b[39;00m typ \u001b[39m==\u001b[39m \u001b[39m\"\u001b[39m\u001b[39marray\u001b[39m\u001b[39m\"\u001b[39m:\n\u001b[1;32m    340\u001b[0m     \u001b[39mif\u001b[39;00m \u001b[39missubclass\u001b[39m(values\u001b[39m.\u001b[39mdtype\u001b[39m.\u001b[39mtype, \u001b[39mstr\u001b[39m):\n",
      "File \u001b[0;32m~/gits/mvts_transformer/envmvts/lib/python3.9/site-packages/pandas/core/internals/construction.py:408\u001b[0m, in \u001b[0;36m_check_values_indices_shape_match\u001b[0;34m(values, index, columns)\u001b[0m\n\u001b[1;32m    406\u001b[0m passed \u001b[39m=\u001b[39m values\u001b[39m.\u001b[39mshape\n\u001b[1;32m    407\u001b[0m implied \u001b[39m=\u001b[39m (\u001b[39mlen\u001b[39m(index), \u001b[39mlen\u001b[39m(columns))\n\u001b[0;32m--> 408\u001b[0m \u001b[39mraise\u001b[39;00m \u001b[39mValueError\u001b[39;00m(\u001b[39mf\u001b[39m\u001b[39m\"\u001b[39m\u001b[39mShape of passed values is \u001b[39m\u001b[39m{\u001b[39;00mpassed\u001b[39m}\u001b[39;00m\u001b[39m, indices imply \u001b[39m\u001b[39m{\u001b[39;00mimplied\u001b[39m}\u001b[39;00m\u001b[39m\"\u001b[39m)\n",
      "\u001b[0;31mValueError\u001b[0m: Shape of passed values is (40, 35), indices imply (40, 38)"
     ]
    }
   ],
   "source": [
    "df = pd.read_csv('../data/long/1.csv')\n",
    "features = df.columns.tolist()\n",
    "features.remove('R_VALUE')\n",
    "\n",
    "\n",
    "            df = df.drop(['Unnamed: 0'], axis=1)\n",
    "            df = df.drop(\"R_VALUE\", axis=1)\n",
    "            df = df.drop(\"target\", axis=1)\n",
    "\n",
    "# turn array into pandas dataframe\n",
    "df = pd.DataFrame(x[0], columns=features)\n",
    "df.head()"
   ]
  },
  {
   "cell_type": "code",
   "execution_count": 92,
   "metadata": {},
   "outputs": [
    {
     "name": "stdout",
     "output_type": "stream",
     "text": [
      "0 <class 'numpy.int64'>\n"
     ]
    }
   ],
   "source": [
    "# Create embeddings dataset that corresponds to the indixes of the original dataset\n",
    "\n",
    "# Process validation data\n",
    "for indx in range(len(val_indices)):\n",
    "    original_file_indx = val_indices[indx]\n",
    "    # original_df = pd.read_csv(f'../data/long/{original_file_indx}.csv')\n",
    "    x, mask, y = val_dataloader.dataset[indx]\n",
    "\n",
    "    print(y, type(y))\n",
    "\n",
    "    check_size(x, original_file_indx)\n",
    "\n",
    "    padding_mask = find_padding_masks(x) \n",
    "    x = x.unsqueeze(0)\n",
    "    padding_mask = padding_mask.unsqueeze(0)\n",
    "    x = torch.nan_to_num(x)\n",
    "\n",
    "    embedding = transformer_model(x, padding_mask)[0]\n",
    "\n",
    "    # Crop padding region\n",
    "    embedding = embedding[padding_mask[0]]\n",
    "\n",
    "    break"
   ]
  },
  {
   "cell_type": "code",
   "execution_count": 83,
   "metadata": {},
   "outputs": [
    {
     "data": {
      "text/plain": [
       "tensor([[False, False, False, False, False,  True,  True,  True,  True,  True,\n",
       "          True,  True,  True,  True,  True,  True,  True,  True,  True,  True,\n",
       "          True,  True,  True,  True,  True,  True,  True,  True,  True,  True,\n",
       "          True,  True,  True,  True,  True,  True,  True,  True,  True,  True]])"
      ]
     },
     "execution_count": 83,
     "metadata": {},
     "output_type": "execute_result"
    }
   ],
   "source": [
    "padding_mask"
   ]
  },
  {
   "cell_type": "code",
   "execution_count": 72,
   "metadata": {},
   "outputs": [
    {
     "data": {
      "text/plain": [
       "<matplotlib.image.AxesImage at 0x2b3ed3550>"
      ]
     },
     "execution_count": 72,
     "metadata": {},
     "output_type": "execute_result"
    },
    {
     "data": {
      "image/png": "[encoded data removed]",
      "text/plain": [
       "<Figure size 640x480 with 1 Axes>"
      ]
     },
     "metadata": {},
     "output_type": "display_data"
    }
   ],
   "source": [
    "plt.imshow(embedding.detach().numpy())"
   ]
  },
  {
   "cell_type": "code",
   "execution_count": 59,
   "metadata": {},
   "outputs": [
    {
     "data": {
      "text/plain": [
       "<matplotlib.image.AxesImage at 0x2b3cb1df0>"
      ]
     },
     "execution_count": 59,
     "metadata": {},
     "output_type": "execute_result"
    },
    {
     "data": {
      "image/png": "[encoded data removed]",
      "text/plain": [
       "<Figure size 640x480 with 1 Axes>"
      ]
     },
     "metadata": {},
     "output_type": "display_data"
    }
   ],
   "source": [
    "import matplotlib.pyplot as plt\n",
    "plt.imshow(embedding.detach().numpy())"
   ]
  },
  {
   "cell_type": "code",
   "execution_count": 81,
   "metadata": {},
   "outputs": [],
   "source": [
    "def check_size(x, original_file_indx):\n",
    "\n",
    "    # Step 1: Identify NaN values\n",
    "    nan_mask = torch.isnan(x)\n",
    "\n",
    "    # Step 2: Apply the mask\n",
    "    non_nan_matrix = ~nan_mask\n",
    "\n",
    "    # Step 3: Sum along rows\n",
    "    non_nan_counts = torch.sum(non_nan_matrix, dim=1)\n",
    "\n",
    "    # Step 4: Count non-zero sums\n",
    "    non_nan_row_count = torch.count_nonzero(non_nan_counts).item()\n",
    "\n",
    "    df = pd.read_csv(f'../data/long/{original_file_indx}.csv')\n",
    "    num_comp = df.shape[0]\n",
    "\n",
    "    if non_nan_row_count != num_comp:\n",
    "        print(f'original_file_indx: {original_file_indx}, and indx: {indx} are incompatible')\n",
    "\n",
    "    return None"
   ]
  },
  {
   "cell_type": "code",
   "execution_count": 36,
   "metadata": {},
   "outputs": [
    {
     "data": {
      "text/plain": [
       "38"
      ]
     },
     "execution_count": 36,
     "metadata": {},
     "output_type": "execute_result"
    }
   ],
   "source": [
    "import pandas as pd \n",
    "df = pd.read_csv(f'../data/long/{original_file_indx}.csv')\n",
    "df.shape[0]"
   ]
  },
  {
   "cell_type": "code",
   "execution_count": 6,
   "metadata": {},
   "outputs": [],
   "source": [
    "import os\n",
    "import json\n",
    "import torch\n",
    "import torch.nn as nn\n",
    "from datasets import MVTSDataset\n",
    "from models import TransformerEncoder\n",
    "from torch.utils.data import DataLoader\n",
    "import matplotlib.pyplot as plt"
   ]
  },
  {
   "cell_type": "code",
   "execution_count": 7,
   "metadata": {},
   "outputs": [],
   "source": [
    "model = TransformerEncoder(feat_dim=35,\n",
    "                           max_len=40,\n",
    "                           d_model=35,\n",
    "                           n_heads=7,\n",
    "                           num_layers=1,\n",
    "                           dim_feedforward=256,\n",
    "                           dropout=0.1,\n",
    "                           freeze=False).float()"
   ]
  },
  {
   "cell_type": "code",
   "execution_count": 8,
   "metadata": {},
   "outputs": [],
   "source": [
    "inputs = torch.randn(1, 40, 35)\n",
    "mask = torch.ones(1, 40).bool()\n",
    "outputs, imbedding = model(inputs, mask)"
   ]
  },
  {
   "cell_type": "code",
   "execution_count": 9,
   "metadata": {},
   "outputs": [
    {
     "data": {
      "text/plain": [
       "(torch.Size([1, 40, 35]), torch.Size([1, 40, 35]))"
      ]
     },
     "execution_count": 9,
     "metadata": {},
     "output_type": "execute_result"
    }
   ],
   "source": [
    "outputs.shape, imbedding.shape"
   ]
  },
  {
   "cell_type": "code",
   "execution_count": 13,
   "metadata": {},
   "outputs": [
    {
     "data": {
      "image/png": "[encoded data removed]",
      "text/plain": [
       "<Figure size 640x480 with 1 Axes>"
      ]
     },
     "metadata": {},
     "output_type": "display_data"
    },
    {
     "data": {
      "image/png": "[encoded data removed]",
      "text/plain": [
       "<Figure size 640x480 with 1 Axes>"
      ]
     },
     "metadata": {},
     "output_type": "display_data"
    }
   ],
   "source": [
    "plt.imshow(outputs.detach().numpy()[0])\n",
    "plt.show()\n",
    "\n",
    "plt.imshow(imbedding.detach().numpy()[0])\n",
    "plt.show()"
   ]
  },
  {
   "cell_type": "code",
   "execution_count": null,
   "metadata": {},
   "outputs": [],
   "source": []
  }
 ],
 "metadata": {
  "kernelspec": {
   "display_name": "envmvts",
   "language": "python",
   "name": "python3"
  },
  "language_info": {
   "codemirror_mode": {
    "name": "ipython",
    "version": 3
   },
   "file_extension": ".py",
   "mimetype": "text/x-python",
   "name": "python",
   "nbconvert_exporter": "python",
   "pygments_lexer": "ipython3",
   "version": "3.9.12"
  },
  "orig_nbformat": 4
 },
 "nbformat": 4,
 "nbformat_minor": 2
}
