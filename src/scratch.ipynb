{
 "cells": [
  {
   "cell_type": "code",
   "execution_count": 1,
   "metadata": {},
   "outputs": [],
   "source": [
    "import json\n",
    "import torch\n",
    "import torch.nn as nn\n",
    "from datasets import ImputationDataset\n",
    "from torch.utils.data import DataLoader\n",
    "from models import TransformerEncoder\n",
    "from datasets import find_padding_masks"
   ]
  },
  {
   "cell_type": "code",
   "execution_count": 2,
   "metadata": {},
   "outputs": [
    {
     "data": {
      "text/plain": [
       "<All keys matched successfully>"
      ]
     },
     "execution_count": 2,
     "metadata": {},
     "output_type": "execute_result"
    }
   ],
   "source": [
    "transformer_model = TransformerEncoder(feat_dim=35,\n",
    "                                    max_len=40,\n",
    "                                    d_model=64, \n",
    "                                    n_heads=8, \n",
    "                                    num_layers=1,\n",
    "                                    dim_feedforward=256, \n",
    "                                    dropout=0.1, \n",
    "                                    freeze=False)\n",
    "transformer_model.float()\n",
    "\n",
    "# Load pretrained weights \n",
    "transformer_model.load_state_dict(torch.load('../models/inputting_unity_norm.pt'))"
   ]
  },
  {
   "cell_type": "code",
   "execution_count": 3,
   "metadata": {},
   "outputs": [],
   "source": [
    "class CNNModel(nn.Module):\n",
    "    def __init__(self):\n",
    "        super(CNNModel, self).__init__()\n",
    "        self.conv1 = nn.Conv2d(1, 64, kernel_size=3, stride=1, padding=1)\n",
    "        self.relu1 = nn.ReLU()\n",
    "        self.conv2 = nn.Conv2d(64, 64, kernel_size=3, stride=1, padding=1)\n",
    "        self.relu2 = nn.ReLU()\n",
    "        self.fc1 = nn.Linear(64 * 35 * 40, 20)\n",
    "        self.fc2 = nn.Linear(20, 2)\n",
    "\n",
    "    def forward(self, x):\n",
    "        x = self.conv1(x)\n",
    "        x = self.relu1(x)\n",
    "        x = self.conv2(x)\n",
    "        x = self.relu2(x)\n",
    "        x = x.view(x.size(0), -1)\n",
    "        x = self.fc1(x)\n",
    "        logits = self.fc2(x)\n",
    "        return logits"
   ]
  },
  {
   "cell_type": "code",
   "execution_count": 4,
   "metadata": {},
   "outputs": [
    {
     "data": {
      "text/plain": [
       "CNNModel(\n",
       "  (conv1): Conv2d(1, 64, kernel_size=(3, 3), stride=(1, 1), padding=(1, 1))\n",
       "  (relu1): ReLU()\n",
       "  (conv2): Conv2d(64, 64, kernel_size=(3, 3), stride=(1, 1), padding=(1, 1))\n",
       "  (relu2): ReLU()\n",
       "  (fc1): Linear(in_features=89600, out_features=20, bias=True)\n",
       "  (fc2): Linear(in_features=20, out_features=2, bias=True)\n",
       ")"
      ]
     },
     "execution_count": 4,
     "metadata": {},
     "output_type": "execute_result"
    }
   ],
   "source": [
    "cnn_model = CNNModel()\n",
    "cnn_model"
   ]
  },
  {
   "cell_type": "code",
   "execution_count": 5,
   "metadata": {},
   "outputs": [],
   "source": [
    "class CombinedModel(nn.Module):\n",
    "    def __init__(self, transformer_model, cnn_model):\n",
    "        super(CombinedModel, self).__init__()\n",
    "        self.transformer_model = transformer_model\n",
    "        self.cnn_model = cnn_model\n",
    "\n",
    "    def forward(self, x, padding_mask):\n",
    "        transformer_output = self.transformer_model(x, padding_mask)\n",
    "        transformed_output = transformer_output.unsqueeze(1)\n",
    "        logits_output = self.cnn_model(transformed_output)\n",
    "        return logits_output"
   ]
  },
  {
   "cell_type": "code",
   "execution_count": 6,
   "metadata": {},
   "outputs": [
    {
     "data": {
      "text/plain": [
       "CombinedModel(\n",
       "  (transformer_model): TransformerEncoder(\n",
       "    (project_inp): Linear(in_features=35, out_features=64, bias=True)\n",
       "    (pos_enc): LearnablePositionalEncoding(\n",
       "      (dropout): Dropout(p=0.1, inplace=False)\n",
       "    )\n",
       "    (transformer_encoder): TransformerEncoder(\n",
       "      (layers): ModuleList(\n",
       "        (0): TransformerEncoderLayer(\n",
       "          (self_attn): MultiheadAttention(\n",
       "            (out_proj): NonDynamicallyQuantizableLinear(in_features=64, out_features=64, bias=True)\n",
       "          )\n",
       "          (linear1): Linear(in_features=64, out_features=256, bias=True)\n",
       "          (dropout): Dropout(p=0.1, inplace=False)\n",
       "          (linear2): Linear(in_features=256, out_features=64, bias=True)\n",
       "          (norm1): LayerNorm((64,), eps=1e-05, elementwise_affine=True)\n",
       "          (norm2): LayerNorm((64,), eps=1e-05, elementwise_affine=True)\n",
       "          (dropout1): Dropout(p=0.1, inplace=False)\n",
       "          (dropout2): Dropout(p=0.1, inplace=False)\n",
       "        )\n",
       "      )\n",
       "    )\n",
       "    (output_layer): Linear(in_features=64, out_features=35, bias=True)\n",
       "    (dropout1): Dropout(p=0.1, inplace=False)\n",
       "  )\n",
       "  (cnn_model): CNNModel(\n",
       "    (conv1): Conv2d(1, 64, kernel_size=(3, 3), stride=(1, 1), padding=(1, 1))\n",
       "    (relu1): ReLU()\n",
       "    (conv2): Conv2d(64, 64, kernel_size=(3, 3), stride=(1, 1), padding=(1, 1))\n",
       "    (relu2): ReLU()\n",
       "    (fc1): Linear(in_features=89600, out_features=20, bias=True)\n",
       "    (fc2): Linear(in_features=20, out_features=2, bias=True)\n",
       "  )\n",
       ")"
      ]
     },
     "execution_count": 6,
     "metadata": {},
     "output_type": "execute_result"
    }
   ],
   "source": [
    "main_model = CombinedModel(transformer_model, cnn_model)\n",
    "main_model"
   ]
  },
  {
   "cell_type": "code",
   "execution_count": 12,
   "metadata": {},
   "outputs": [],
   "source": [
    "with open('../data/data_indices.json', 'r') as f: data_indices = json.load(f)\n",
    "train_indices = data_indices['train_indices']\n",
    "train_dataloader = DataLoader(ImputationDataset(train_indices, norm_type='unity', mean_mask_length=3, masking_ratio=0.15), batch_size=10, shuffle=True, drop_last=True)"
   ]
  },
  {
   "cell_type": "code",
   "execution_count": 9,
   "metadata": {},
   "outputs": [
    {
     "data": {
      "text/plain": [
       "tensor([[ 0.0152,  0.0065],\n",
       "        [ 0.0226,  0.0030],\n",
       "        [ 0.0157,  0.0044],\n",
       "        [ 0.0107,  0.0028],\n",
       "        [ 0.0225, -0.0051],\n",
       "        [ 0.0254,  0.0184],\n",
       "        [ 0.0128,  0.0013],\n",
       "        [ 0.0002,  0.0042],\n",
       "        [ 0.0178, -0.0065],\n",
       "        [ 0.0162,  0.0086]], grad_fn=<AddmmBackward0>)"
      ]
     },
     "execution_count": 9,
     "metadata": {},
     "output_type": "execute_result"
    }
   ],
   "source": [
    "main_model.eval()\n",
    "x, _, _ = next(iter(train_dataloader))\n",
    "padding_mask = find_padding_masks(x)\n",
    "x = torch.nan_to_num(x) # replace nan with 0 (since needs to be processed by the model)\n",
    "probabilities = main_model(x, padding_mask)\n",
    "probabilities"
   ]
  },
  {
   "cell_type": "code",
   "execution_count": 15,
   "metadata": {},
   "outputs": [
    {
     "name": "stdout",
     "output_type": "stream",
     "text": [
      "Epoch: 1\n",
      "tensor([1, 0, 1, 0, 0, 0, 0, 0, 0, 0])\n"
     ]
    }
   ],
   "source": [
    "# Training loop \n",
    "# train_and_validate_classifier(model, train_loader, test_loader, n_epoch)\n",
    "\n",
    "n_epoch = 100\n",
    "train_loader = train_dataloader\n",
    "\n",
    "optimizer = torch.optim.Adam(main_model.parameters(), lr=0.001)\n",
    "criterion = nn.CrossEntropyLoss()\n",
    "device = torch.device(\"cuda\" if torch.cuda.is_available() else \"cpu\")\n",
    "main_model.to(device)\n",
    "\n",
    "best_test_loss = 1e20\n",
    "running_batch_loss_train = []\n",
    "running_batch_loss_test = []\n",
    "save_path = '../models/classification_unity_norm.pt'\n",
    "\n",
    "for epoch in range(n_epoch):\n",
    "    print(f\"Epoch: {epoch + 1}\")\n",
    "\n",
    "    # Train loop \n",
    "    for x, mask, y in train_loader:\n",
    "\n",
    "        padding_mask = find_padding_masks(x)\n",
    "        x = torch.nan_to_num(x)\n",
    "        \n",
    "        y_hat = main_model(x, padding_mask).to(device).long() \n",
    "        optimizer.zero_grad()\n",
    "        loss = criterion(y_hat, y)\n",
    "        loss.up\n",
    "\n",
    "\n",
    "\n",
    "\n",
    "        print(y)\n",
    "        break\n",
    "\n",
    "    break\n",
    "\n",
    "\n",
    "    \n",
    "\n",
    "\n"
   ]
  },
  {
   "cell_type": "code",
   "execution_count": null,
   "metadata": {},
   "outputs": [],
   "source": []
  }
 ],
 "metadata": {
  "kernelspec": {
   "display_name": "envmvts",
   "language": "python",
   "name": "python3"
  },
  "language_info": {
   "codemirror_mode": {
    "name": "ipython",
    "version": 3
   },
   "file_extension": ".py",
   "mimetype": "text/x-python",
   "name": "python",
   "nbconvert_exporter": "python",
   "pygments_lexer": "ipython3",
   "version": "3.9.12"
  },
  "orig_nbformat": 4
 },
 "nbformat": 4,
 "nbformat_minor": 2
}
