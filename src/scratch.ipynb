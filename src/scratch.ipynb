{
 "cells": [
  {
   "cell_type": "code",
   "execution_count": 1,
   "metadata": {},
   "outputs": [],
   "source": [
    "import os\n",
    "import json\n",
    "import torch\n",
    "import torch.nn as nn\n",
    "from datasets import MVTSDataset\n",
    "from models import TransformerEncoder\n",
    "from torch.utils.data import DataLoader\n",
    "from datasets import find_padding_masks"
   ]
  },
  {
   "cell_type": "code",
   "execution_count": 2,
   "metadata": {},
   "outputs": [
    {
     "data": {
      "text/plain": [
       "<All keys matched successfully>"
      ]
     },
     "execution_count": 2,
     "metadata": {},
     "output_type": "execute_result"
    }
   ],
   "source": [
    "transformer_model = TransformerEncoder(feat_dim=35,\n",
    "                                    max_len=40,\n",
    "                                    d_model=64, \n",
    "                                    n_heads=8, \n",
    "                                    num_layers=1,\n",
    "                                    dim_feedforward=256,\n",
    "                                    dropout=0.1, \n",
    "                                    freeze=False)\n",
    "transformer_model.float()\n",
    "\n",
    "# Load pretrained weights\n",
    "transformer_model.load_state_dict(torch.load('../models/inputting_unity_norm.pt'))"
   ]
  },
  {
   "cell_type": "code",
   "execution_count": 3,
   "metadata": {},
   "outputs": [],
   "source": [
    "class CNNModel(nn.Module):\n",
    "    def __init__(self):\n",
    "        super(CNNModel, self).__init__()\n",
    "        self.conv1 = nn.Conv2d(1, 64, kernel_size=3, stride=1, padding=1)\n",
    "        self.relu1 = nn.ReLU()\n",
    "        self.conv2 = nn.Conv2d(64, 64, kernel_size=3, stride=1, padding=1)\n",
    "        self.relu2 = nn.ReLU()\n",
    "        self.fc1 = nn.Linear(64 * 35 * 40, 20)\n",
    "        self.fc2 = nn.Linear(20, 2)\n",
    "\n",
    "    def forward(self, x):\n",
    "        x = self.conv1(x)\n",
    "        x = self.relu1(x)\n",
    "        x = self.conv2(x)\n",
    "        x = self.relu2(x)\n",
    "        x = x.view(x.size(0), -1)\n",
    "        x = self.fc1(x)\n",
    "        logits = self.fc2(x)\n",
    "        return logits"
   ]
  },
  {
   "cell_type": "code",
   "execution_count": 4,
   "metadata": {},
   "outputs": [
    {
     "data": {
      "text/plain": [
       "CNNModel(\n",
       "  (conv1): Conv2d(1, 64, kernel_size=(3, 3), stride=(1, 1), padding=(1, 1))\n",
       "  (relu1): ReLU()\n",
       "  (conv2): Conv2d(64, 64, kernel_size=(3, 3), stride=(1, 1), padding=(1, 1))\n",
       "  (relu2): ReLU()\n",
       "  (fc1): Linear(in_features=89600, out_features=20, bias=True)\n",
       "  (fc2): Linear(in_features=20, out_features=2, bias=True)\n",
       ")"
      ]
     },
     "execution_count": 4,
     "metadata": {},
     "output_type": "execute_result"
    }
   ],
   "source": [
    "cnn_model = CNNModel()\n",
    "cnn_model"
   ]
  },
  {
   "cell_type": "code",
   "execution_count": 5,
   "metadata": {},
   "outputs": [],
   "source": [
    "class CombinedModel(nn.Module):\n",
    "    def __init__(self, transformer_model, cnn_model):\n",
    "        super(CombinedModel, self).__init__()\n",
    "        self.transformer_model = transformer_model\n",
    "        self.cnn_model = cnn_model\n",
    "\n",
    "    def forward(self, x, padding_mask):\n",
    "        transformer_output = self.transformer_model(x, padding_mask)\n",
    "        transformed_output = transformer_output.unsqueeze(1)\n",
    "        logits_output = self.cnn_model(transformed_output)\n",
    "        return logits_output"
   ]
  },
  {
   "cell_type": "code",
   "execution_count": 6,
   "metadata": {},
   "outputs": [
    {
     "data": {
      "text/plain": [
       "CombinedModel(\n",
       "  (transformer_model): TransformerEncoder(\n",
       "    (project_inp): Linear(in_features=35, out_features=64, bias=True)\n",
       "    (pos_enc): LearnablePositionalEncoding(\n",
       "      (dropout): Dropout(p=0.1, inplace=False)\n",
       "    )\n",
       "    (transformer_encoder): TransformerEncoder(\n",
       "      (layers): ModuleList(\n",
       "        (0): TransformerEncoderLayer(\n",
       "          (self_attn): MultiheadAttention(\n",
       "            (out_proj): NonDynamicallyQuantizableLinear(in_features=64, out_features=64, bias=True)\n",
       "          )\n",
       "          (linear1): Linear(in_features=64, out_features=256, bias=True)\n",
       "          (dropout): Dropout(p=0.1, inplace=False)\n",
       "          (linear2): Linear(in_features=256, out_features=64, bias=True)\n",
       "          (norm1): LayerNorm((64,), eps=1e-05, elementwise_affine=True)\n",
       "          (norm2): LayerNorm((64,), eps=1e-05, elementwise_affine=True)\n",
       "          (dropout1): Dropout(p=0.1, inplace=False)\n",
       "          (dropout2): Dropout(p=0.1, inplace=False)\n",
       "        )\n",
       "      )\n",
       "    )\n",
       "    (output_layer): Linear(in_features=64, out_features=35, bias=True)\n",
       "    (dropout1): Dropout(p=0.1, inplace=False)\n",
       "  )\n",
       "  (cnn_model): CNNModel(\n",
       "    (conv1): Conv2d(1, 64, kernel_size=(3, 3), stride=(1, 1), padding=(1, 1))\n",
       "    (relu1): ReLU()\n",
       "    (conv2): Conv2d(64, 64, kernel_size=(3, 3), stride=(1, 1), padding=(1, 1))\n",
       "    (relu2): ReLU()\n",
       "    (fc1): Linear(in_features=89600, out_features=20, bias=True)\n",
       "    (fc2): Linear(in_features=20, out_features=2, bias=True)\n",
       "  )\n",
       ")"
      ]
     },
     "execution_count": 6,
     "metadata": {},
     "output_type": "execute_result"
    }
   ],
   "source": [
    "main_model = CombinedModel(transformer_model, cnn_model)\n",
    "main_model"
   ]
  },
  {
   "cell_type": "code",
   "execution_count": 15,
   "metadata": {},
   "outputs": [
    {
     "name": "stdout",
     "output_type": "stream",
     "text": [
      "[247, 56, 297, 114, 313, 446, 258, 43, 133, 246, 242, 383, 413, 67, 8, 336, 152, 342, 272, 225, 257, 454, 26, 304, 269, 227, 458, 118, 27, 60, 338, 193, 433, 74, 191, 182, 175, 285, 139, 162, 208, 341, 33, 298, 173, 386, 451, 5, 23, 130, 343, 92, 107, 165, 280, 28, 226, 255, 197, 161, 379, 14, 214, 164, 231, 97, 170, 428, 287, 15, 288, 37, 71, 362, 123, 144, 174, 32, 61, 302, 399, 59, 111, 237, 44, 402, 366, 141, 334, 312, 436, 440, 475, 474, 380, 364, 240]\n"
     ]
    }
   ],
   "source": [
    "with open('../data/data_indices.json', 'r') as f: data_indices = json.load(f)\n",
    "train_indices = data_indices['train_indices']\n",
    "train_dataloader = DataLoader(MVTSDataset(train_indices, norm_type='unity', mean_mask_length=3, masking_ratio=0.15), batch_size=10, shuffle=True, drop_last=True)\n",
    "print(data_indices['val_indices'])"
   ]
  },
  {
   "cell_type": "code",
   "execution_count": 8,
   "metadata": {},
   "outputs": [
    {
     "data": {
      "text/plain": [
       "tensor([[0.2484, 0.2286],\n",
       "        [0.2265, 0.1931],\n",
       "        [0.1994, 0.1556],\n",
       "        [0.2204, 0.1553],\n",
       "        [0.2171, 0.1671],\n",
       "        [0.2285, 0.2240],\n",
       "        [0.2230, 0.1962],\n",
       "        [0.2366, 0.2181],\n",
       "        [0.2256, 0.1924],\n",
       "        [0.2259, 0.2230]], grad_fn=<AddmmBackward0>)"
      ]
     },
     "execution_count": 8,
     "metadata": {},
     "output_type": "execute_result"
    }
   ],
   "source": [
    "main_model.eval()\n",
    "x, _, _ = next(iter(train_dataloader))\n",
    "padding_mask = find_padding_masks(x)\n",
    "x = torch.nan_to_num(x) # replace nan with 0 (since needs to be processed by the model)\n",
    "probabilities = main_model(x, padding_mask)\n",
    "probabilities"
   ]
  },
  {
   "cell_type": "code",
   "execution_count": 11,
   "metadata": {},
   "outputs": [
    {
     "name": "stdout",
     "output_type": "stream",
     "text": [
      "Epoch: 1\n",
      "tensor([1, 1, 1, 1, 0, 1, 1, 1, 0, 1])\n"
     ]
    }
   ],
   "source": [
    "def train_and_validate_classifier(model, train_loader, test_loader, n_epoch)\n",
    "\n",
    "    best_test_loss = 1e20\n",
    "    running_batch_loss_train = []\n",
    "    running_batch_loss_test = []\n",
    "    save_path = '../models/classification_unity_norm.pt'\n",
    "\n",
    "    for epoch in range(n_epoch):\n",
    "        print(f\"Epoch: {epoch + 1}\")\n",
    "\n",
    "        # Train loop \n",
    "        for x, _, y in train_loader:\n",
    "            padding_mask = find_padding_masks(x)\n",
    "            x = torch.nan_to_num(x).to(device)\n",
    "            y_hat = main_model(x, padding_mask).to(device)\n",
    "            optimizer.zero_grad()\n",
    "            loss = criterion(y_hat, y)\n",
    "            loss.backward()\n",
    "            optimizer.step()\n",
    "            running_batch_loss_train.append(loss.item())\n",
    "\n",
    "        # Test loop\n",
    "        for x, _, y in test_loader:\n",
    "            padding_mask = find_padding_masks(x)\n",
    "            x = torch.nan_to_num(x).to(device)\n",
    "            y_hat = main_model(x, padding_mask).to(device)\n",
    "            loss = criterion(y_hat, y)\n",
    "            running_batch_loss_test.append(loss.item())\n",
    "\n",
    "        # Save model if test loss is lower than best test loss\n",
    "        if running_batch_loss_test[-1] < best_test_loss:\n",
    "            best_test_loss = running_batch_loss_test[-1]\n",
    "            torch.save(main_model.state_dict(), save_path)\n",
    "            print(f\"Saved model at epoch {epoch + 1}\")\n",
    "\n",
    "        # Print loss\n",
    "        print(f\"Train loss: {running_batch_loss_train[-1]}\")\n",
    "        print(f\"Test loss: {running_batch_loss_test[-1]}\")\n",
    "\n",
    "    return running_batch_loss_train, running_batch_loss_test\n",
    "\n",
    "n_epoch = 100\n",
    "train_loader = train_dataloader\n",
    "criterion = nn.CrossEntropyLoss()\n",
    "optimizer = torch.optim.Adam(main_model.parameters(), lr=0.001)\n",
    "device = torch.device(\"cuda\" if torch.cuda.is_available() else \"cpu\")\n",
    "main_model.to(device)\n",
    "\n",
    "train_loss, test_loss = train_and_validate_classifier(main_model, train_loader, train_loader, n_epoch)"
   ]
  },
  {
   "attachments": {},
   "cell_type": "markdown",
   "metadata": {},
   "source": [
    "**Embeddings**"
   ]
  },
  {
   "cell_type": "code",
   "execution_count": 20,
   "metadata": {},
   "outputs": [],
   "source": [
    "# Instantiate transformer model and load pretrained weights of best model on the classifciation task\n",
    "main_model = CombinedModel(transformer_model, cnn_model)\n",
    "main_model.load_state_dict(torch.load('../models/classification_standard_norm.pt'))\n",
    "main_model.eval();"
   ]
  },
  {
   "cell_type": "code",
   "execution_count": 37,
   "metadata": {},
   "outputs": [],
   "source": [
    "# Load trained weights of the transformer model\n",
    "\n",
    "# Step 1: Create an instance of CombinedModel\n",
    "transformer_model = TransformerEncoder(feat_dim=35,max_len=40,d_model=64,n_heads=8,num_layers=1,dim_feedforward=256,dropout=0.1,freeze=False).float()\n",
    "cnn_model = CNNModel().float()\n",
    "main_model = CombinedModel(transformer_model, cnn_model).float()\n",
    "\n",
    "# Step 2: Load the weights for the entire combined model\n",
    "main_model.load_state_dict(torch.load(\"../models/classification_standard_norm.pt\"))\n",
    "\n",
    "# Step 3: Remove the weights that belong to the cnn_model from the loaded state dict\n",
    "state_dict = main_model.state_dict()\n",
    "state_dict = {k: v for k, v in state_dict.items() if \"cnn_model\" not in k}\n",
    "\n",
    "# Step 4: Load the modified state dict into the transformer_model\n",
    "transformer_model.load_state_dict(state_dict, strict=False)\n",
    "\n",
    "# Step 5: Set to eval mode\n",
    "transformer_model.eval();"
   ]
  },
  {
   "cell_type": "code",
   "execution_count": 36,
   "metadata": {},
   "outputs": [],
   "source": [
    "# Load train data\n",
    "with open('../data/data_indices.json', 'r') as f: data_indices = json.load(f)\n",
    "train_indices = data_indices['train_indices']\n",
    "train_dataloader = DataLoader(MVTSDataset(train_indices, norm_type='standard'), batch_size=1, shuffle=False, drop_last=False)\n",
    "\n",
    "# Load validation data\n",
    "with open('../data/data_indices.json', 'r') as f: data_indices = json.load(f)\n",
    "val_indices = data_indices['val_indices']\n",
    "val_dataloader = DataLoader(MVTSDataset(val_indices, norm_type='standard'), batch_size=1, shuffle=False, drop_last=False)"
   ]
  },
  {
   "cell_type": "code",
   "execution_count": 36,
   "metadata": {},
   "outputs": [
    {
     "data": {
      "text/plain": [
       "38"
      ]
     },
     "execution_count": 36,
     "metadata": {},
     "output_type": "execute_result"
    }
   ],
   "source": [
    "import pandas as pd \n",
    "df = pd.read_csv(f'../data/long/{original_file_indx}.csv')\n",
    "df.shape[0]"
   ]
  },
  {
   "cell_type": "code",
   "execution_count": 1,
   "metadata": {},
   "outputs": [],
   "source": [
    "import os\n",
    "import json\n",
    "import torch\n",
    "import torch.nn as nn\n",
    "from datasets import MVTSDataset\n",
    "from models import TransformerEncoder\n",
    "from torch.utils.data import DataLoader\n",
    "import matplotlib.pyplot as plt"
   ]
  },
  {
   "cell_type": "code",
   "execution_count": 2,
   "metadata": {},
   "outputs": [],
   "source": [
    "model = TransformerEncoder(feat_dim=35,\n",
    "                           max_len=40,\n",
    "                           d_model=35,\n",
    "                           n_heads=7,\n",
    "                           num_layers=1,\n",
    "                           dim_feedforward=256,\n",
    "                           dropout=0.1,\n",
    "                           freeze=False).float()"
   ]
  },
  {
   "cell_type": "code",
   "execution_count": 3,
   "metadata": {},
   "outputs": [],
   "source": [
    "inputs = torch.randn(1, 40, 35)\n",
    "mask = torch.ones(1, 40).bool()\n",
    "outputs, imbedding = model(inputs, mask)"
   ]
  },
  {
   "cell_type": "code",
   "execution_count": 4,
   "metadata": {},
   "outputs": [
    {
     "data": {
      "text/plain": [
       "(torch.Size([1, 40, 35]), torch.Size([1, 40, 35]))"
      ]
     },
     "execution_count": 4,
     "metadata": {},
     "output_type": "execute_result"
    }
   ],
   "source": [
    "outputs.shape, imbedding.shape"
   ]
  },
  {
   "cell_type": "code",
   "execution_count": 5,
   "metadata": {},
   "outputs": [
    {
     "data": {
      "image/png": "[encoded data removed]",
      "text/plain": [
       "<Figure size 640x480 with 1 Axes>"
      ]
     },
     "metadata": {},
     "output_type": "display_data"
    },
    {
     "data": {
      "image/png": "[encoded data removed]",
      "text/plain": [
       "<Figure size 640x480 with 1 Axes>"
      ]
     },
     "metadata": {},
     "output_type": "display_data"
    }
   ],
   "source": [
    "plt.imshow(outputs.detach().numpy()[0])\n",
    "plt.show()\n",
    "\n",
    "plt.imshow(imbedding.detach().numpy()[0])\n",
    "plt.show()"
   ]
  },
  {
   "attachments": {},
   "cell_type": "markdown",
   "metadata": {},
   "source": [
    "**Create embedding dataset from trained transformer encoder**  \n",
    "Must be the same format at original csv files"
   ]
  },
  {
   "cell_type": "code",
   "execution_count": 40,
   "metadata": {},
   "outputs": [],
   "source": [
    "import os\n",
    "import json\n",
    "import torch\n",
    "import numpy as np\n",
    "import pandas as pd\n",
    "import torch.nn as nn\n",
    "from datasets import MVTSDataset\n",
    "from models import TransformerEncoder\n",
    "from torch.utils.data import DataLoader\n",
    "from datasets import find_padding_masks"
   ]
  },
  {
   "cell_type": "code",
   "execution_count": 48,
   "metadata": {},
   "outputs": [],
   "source": [
    "# Get column names\n",
    "df = pd.read_csv('../data/long/1.csv') # read in random file since all csv files have the same columns\n",
    "features = df.columns.tolist()"
   ]
  },
  {
   "cell_type": "code",
   "execution_count": 49,
   "metadata": {},
   "outputs": [
    {
     "name": "stdout",
     "output_type": "stream",
     "text": [
      "torch.Size([485, 40, 35]) tensor([1, 1, 1, 1, 1, 1, 1, 1, 1, 1, 1, 1, 1, 1, 1, 1, 1, 1, 1, 1, 1, 1, 1, 1,\n",
      "        1, 1, 1, 1, 1, 1, 1, 1, 1, 1, 1, 1, 1, 1, 1, 1, 1, 1, 1, 1, 1, 1, 1, 1,\n",
      "        1, 1, 1, 1, 1, 1, 1, 1, 1, 1, 1, 1, 1, 1, 1, 1, 1, 1, 1, 1, 1, 1, 1, 1,\n",
      "        1, 1, 1, 1, 1, 1, 1, 1, 1, 1, 1, 1, 1, 1, 1, 1, 1, 1, 1, 1, 1, 1, 1, 1,\n",
      "        1, 1, 1, 1, 1, 1, 1, 1, 1, 1, 1, 1, 1, 1, 1, 1, 1, 1, 1, 1, 1, 1, 1, 1,\n",
      "        1, 1, 1, 1, 1, 1, 1, 1, 1, 1, 1, 1, 1, 1, 1, 1, 1, 1, 1, 1, 1, 1, 1, 1,\n",
      "        1, 1, 1, 1, 1, 1, 1, 1, 1, 1, 1, 1, 1, 1, 1, 1, 1, 1, 1, 1, 1, 1, 1, 1,\n",
      "        1, 1, 1, 1, 1, 1, 1, 1, 1, 1, 1, 1, 1, 1, 1, 1, 1, 1, 1, 1, 1, 1, 1, 1,\n",
      "        1, 1, 1, 1, 1, 1, 1, 1, 1, 1, 1, 1, 1, 1, 1, 1, 1, 1, 1, 1, 1, 1, 1, 1,\n",
      "        1, 1, 1, 1, 1, 1, 1, 1, 1, 1, 1, 1, 1, 1, 1, 1, 1, 1, 1, 1, 1, 1, 1, 1,\n",
      "        1, 1, 1, 1, 0, 0, 0, 0, 0, 0, 0, 0, 0, 0, 0, 0, 0, 0, 0, 0, 0, 0, 0, 0,\n",
      "        0, 0, 0, 0, 0, 0, 0, 0, 0, 0, 0, 0, 0, 0, 0, 0, 0, 0, 0, 0, 0, 0, 0, 0,\n",
      "        0, 0, 0, 0, 0, 0, 0, 0, 0, 0, 0, 0, 0, 0, 0, 0, 0, 0, 0, 0, 0, 0, 0, 0,\n",
      "        0, 0, 0, 0, 0, 0, 0, 0, 0, 0, 0, 0, 0, 0, 0, 0, 0, 0, 0, 0, 0, 0, 0, 0,\n",
      "        0, 0, 0, 0, 0, 0, 0, 0, 0, 0, 0, 0, 0, 0, 0, 0, 0, 0, 0, 0, 0, 0, 0, 0,\n",
      "        0, 0, 0, 0, 0, 0, 0, 0, 0, 0, 0, 0, 0, 0, 0, 0, 0, 0, 0, 0, 0, 0, 0, 0,\n",
      "        0, 0, 0, 0, 0, 0, 0, 0, 0, 0, 0, 0, 0, 0, 0, 0, 0, 0, 0, 0, 0, 0, 0, 0,\n",
      "        0, 0, 0, 0, 0, 0, 0, 0, 0, 0, 0, 0, 0, 0, 0, 0, 0, 0, 0, 0, 0, 0, 0, 0,\n",
      "        0, 0, 0, 0, 0, 0, 0, 0, 0, 0, 0, 0, 0, 0, 0, 0, 0, 0, 0, 0, 0, 0, 0, 0,\n",
      "        0, 0, 0, 0, 0, 0, 0, 0, 0, 0, 0, 0, 0, 0, 0, 0, 0, 0, 0, 0, 0, 0, 0, 0,\n",
      "        0, 0, 0, 0, 0])\n"
     ]
    }
   ],
   "source": [
    "# Load all data\n",
    "indices = np.arange(0, 485, 1)\n",
    "dataloader = DataLoader(MVTSDataset(indices, norm_type='standard'), batch_size=len(indices), shuffle=False, drop_last=False)\n",
    "data, _, y = next(iter(dataloader))\n",
    "print(data.shape, y)"
   ]
  },
  {
   "cell_type": "code",
   "execution_count": 57,
   "metadata": {},
   "outputs": [
    {
     "data": {
      "text/plain": [
       "torch.Size([1, 40, 35])"
      ]
     },
     "execution_count": 57,
     "metadata": {},
     "output_type": "execute_result"
    }
   ],
   "source": [
    "x = data[0].unsqueeze(0)\n",
    "x.shape"
   ]
  },
  {
   "cell_type": "code",
   "execution_count": 112,
   "metadata": {},
   "outputs": [],
   "source": [
    "# Create the embeddings using the trained transformer model\n",
    "transformer_model = TransformerEncoder(feat_dim=35,\n",
    "                                       max_len=40,\n",
    "                                       d_model=35,\n",
    "                                       n_heads=7,\n",
    "                                       num_layers=1,\n",
    "                                       dim_feedforward=256,\n",
    "                                       dropout=0.1,\n",
    "                                       freeze=True).float()\n",
    "transformer_model.eval();\n",
    "\n",
    "indx = 0\n",
    "for input, label in zip(data, y):\n",
    "    label = label.item()\n",
    "    input = input.unsqueeze(0)\n",
    "    padding_mask = find_padding_masks(input)\n",
    "    input = torch.nan_to_num(input)\n",
    "    output, embedding = transformer_model(input, padding_mask)\n",
    "    embedding = embedding.detach().numpy()[0]\n",
    "    padding_mask = padding_mask.squeeze(0).detach().numpy()\n",
    "    embedding = embedding[padding_mask]\n",
    "    df = embedding_to_dataframe(embedding, features, label, indx)\n",
    "    df['Unnamed: 0'] = df['Unnamed: 0'].astype(int)\n",
    "    df.rename(columns={'Unnamed: 0': ''}, inplace=True)\n",
    "    df.to_csv(f'../data/embeddings/{indx}.csv', index=False)\n",
    "    indx += 1\n",
    "    break"
   ]
  },
  {
   "cell_type": "code",
   "execution_count": 85,
   "metadata": {},
   "outputs": [
    {
     "name": "stdout",
     "output_type": "stream",
     "text": [
      "torch.Size([1, 40, 35]) torch.Size([1, 40, 35])\n"
     ]
    },
    {
     "data": {
      "text/plain": [
       "<matplotlib.image.AxesImage at 0x2af09ef40>"
      ]
     },
     "execution_count": 85,
     "metadata": {},
     "output_type": "execute_result"
    },
    {
     "data": {
      "image/png": "[encoded data removed]",
      "text/plain": [
       "<Figure size 640x480 with 1 Axes>"
      ]
     },
     "metadata": {},
     "output_type": "display_data"
    }
   ],
   "source": [
    "input = data[7].unsqueeze(0)\n",
    "padding_mask = find_padding_masks(input)\n",
    "input = torch.nan_to_num(input)\n",
    "output, embedding = transformer_model(input, padding_mask)\n",
    "embedding = embedding.detach().numpy()[0]\n",
    "padding_mask = padding_mask.squeeze(0).detach().numpy()\n",
    "embedding = embedding[padding_mask]"
   ]
  },
  {
   "cell_type": "code",
   "execution_count": 90,
   "metadata": {},
   "outputs": [],
   "source": [
    "def embedding_to_dataframe(embedding, features, label, indx):\n",
    "    \"\"\"\n",
    "    This function creates a pandas dataframe of the embeddings from transformer encoder that has been trained on the classifcation taks.\n",
    "    The dataframe is of the same format as the original csv files.\n",
    "    Args: embedding --> from trained transformer encoder ndarray(seq_len, d_model)\n",
    "          features --> list of features from original csv file\n",
    "          label --> Flare No-Flare binary label output from the dataloader \n",
    "          indx --> index of the original csv file         \n",
    "    Output: pandas dataframe with the same format as the original csv files.\n",
    "    \"\"\"\n",
    "\n",
    "    embedding = np.concatenate(\n",
    "        (np.full((embedding.shape[0], 1), indx, dtype=int), embedding), axis=1) # add index column\n",
    "\n",
    "    # add extra columns to match original csv file\n",
    "    extra_cols = len(features) - embedding.shape[1] \n",
    "    extra_data = np.empty((embedding.shape[0], extra_cols))\n",
    "    extra_data.fill(np.nan)\n",
    "    modified_array = np.concatenate((embedding, extra_data), axis=1)\n",
    "\n",
    "    # turn array into pandas dataframe and rename columns as well as add target values\n",
    "    new_df = pd.DataFrame(modified_array, columns=features)\n",
    "    new_df['R_VALUE'], new_df['XR_MAX'] = new_df['XR_MAX'], new_df['R_VALUE']\n",
    "    new_df['target'] = label\n",
    "\n",
    "    return new_df"
   ]
  },
  {
   "cell_type": "code",
   "execution_count": 17,
   "metadata": {},
   "outputs": [
    {
     "data": {
      "text/html": [
       "<div>\n",
       "<style scoped>\n",
       "    .dataframe tbody tr th:only-of-type {\n",
       "        vertical-align: middle;\n",
       "    }\n",
       "\n",
       "    .dataframe tbody tr th {\n",
       "        vertical-align: top;\n",
       "    }\n",
       "\n",
       "    .dataframe thead th {\n",
       "        text-align: right;\n",
       "    }\n",
       "</style>\n",
       "<table border=\"1\" class=\"dataframe\">\n",
       "  <thead>\n",
       "    <tr style=\"text-align: right;\">\n",
       "      <th></th>\n",
       "      <th>Unnamed: 0</th>\n",
       "      <th>94</th>\n",
       "      <th>131</th>\n",
       "      <th>171</th>\n",
       "      <th>193</th>\n",
       "      <th>211</th>\n",
       "      <th>304</th>\n",
       "      <th>335</th>\n",
       "      <th>1600</th>\n",
       "      <th>1700</th>\n",
       "      <th>...</th>\n",
       "      <th>MEANJZH</th>\n",
       "      <th>TOTFY</th>\n",
       "      <th>MEANJZD</th>\n",
       "      <th>MEANALP</th>\n",
       "      <th>TOTFX</th>\n",
       "      <th>EPSY</th>\n",
       "      <th>EPSX</th>\n",
       "      <th>R_VALUE</th>\n",
       "      <th>XR_MAX</th>\n",
       "      <th>target</th>\n",
       "    </tr>\n",
       "  </thead>\n",
       "  <tbody>\n",
       "    <tr>\n",
       "      <th>0</th>\n",
       "      <td>1</td>\n",
       "      <td>8.974219</td>\n",
       "      <td>29.204307</td>\n",
       "      <td>506.383286</td>\n",
       "      <td>818.701571</td>\n",
       "      <td>355.635094</td>\n",
       "      <td>105.700492</td>\n",
       "      <td>19.654783</td>\n",
       "      <td>77.338210</td>\n",
       "      <td>959.218468</td>\n",
       "      <td>...</td>\n",
       "      <td>0.012208</td>\n",
       "      <td>-1.082416e+23</td>\n",
       "      <td>0.050998</td>\n",
       "      <td>0.028371</td>\n",
       "      <td>-1.940120e+24</td>\n",
       "      <td>0.008031</td>\n",
       "      <td>0.143956</td>\n",
       "      <td>4.340293</td>\n",
       "      <td>4.854100e-07</td>\n",
       "      <td>1</td>\n",
       "    </tr>\n",
       "    <tr>\n",
       "      <th>1</th>\n",
       "      <td>1</td>\n",
       "      <td>10.126854</td>\n",
       "      <td>29.849536</td>\n",
       "      <td>496.012853</td>\n",
       "      <td>817.035740</td>\n",
       "      <td>356.629023</td>\n",
       "      <td>104.075087</td>\n",
       "      <td>20.269867</td>\n",
       "      <td>76.612126</td>\n",
       "      <td>963.786084</td>\n",
       "      <td>...</td>\n",
       "      <td>0.011820</td>\n",
       "      <td>-1.035303e+23</td>\n",
       "      <td>0.089647</td>\n",
       "      <td>0.027410</td>\n",
       "      <td>-1.934845e+24</td>\n",
       "      <td>0.007630</td>\n",
       "      <td>0.142551</td>\n",
       "      <td>4.338973</td>\n",
       "      <td>4.561938e-07</td>\n",
       "      <td>1</td>\n",
       "    </tr>\n",
       "    <tr>\n",
       "      <th>2</th>\n",
       "      <td>1</td>\n",
       "      <td>8.892889</td>\n",
       "      <td>27.052865</td>\n",
       "      <td>476.856401</td>\n",
       "      <td>792.896779</td>\n",
       "      <td>345.935345</td>\n",
       "      <td>96.576911</td>\n",
       "      <td>19.220694</td>\n",
       "      <td>75.617088</td>\n",
       "      <td>962.414683</td>\n",
       "      <td>...</td>\n",
       "      <td>0.011432</td>\n",
       "      <td>-9.881894e+22</td>\n",
       "      <td>0.128297</td>\n",
       "      <td>0.026448</td>\n",
       "      <td>-1.929571e+24</td>\n",
       "      <td>0.007229</td>\n",
       "      <td>0.141145</td>\n",
       "      <td>4.337653</td>\n",
       "      <td>4.269777e-07</td>\n",
       "      <td>1</td>\n",
       "    </tr>\n",
       "    <tr>\n",
       "      <th>3</th>\n",
       "      <td>1</td>\n",
       "      <td>8.569652</td>\n",
       "      <td>27.261664</td>\n",
       "      <td>483.389960</td>\n",
       "      <td>803.001028</td>\n",
       "      <td>349.442374</td>\n",
       "      <td>97.915371</td>\n",
       "      <td>19.269333</td>\n",
       "      <td>76.886881</td>\n",
       "      <td>959.575392</td>\n",
       "      <td>...</td>\n",
       "      <td>0.012075</td>\n",
       "      <td>-1.187114e+23</td>\n",
       "      <td>0.137501</td>\n",
       "      <td>0.027907</td>\n",
       "      <td>-1.899762e+24</td>\n",
       "      <td>0.008684</td>\n",
       "      <td>0.138957</td>\n",
       "      <td>4.346457</td>\n",
       "      <td>4.454338e-07</td>\n",
       "      <td>1</td>\n",
       "    </tr>\n",
       "    <tr>\n",
       "      <th>4</th>\n",
       "      <td>1</td>\n",
       "      <td>10.726769</td>\n",
       "      <td>30.501550</td>\n",
       "      <td>495.347490</td>\n",
       "      <td>828.010697</td>\n",
       "      <td>357.261581</td>\n",
       "      <td>101.980005</td>\n",
       "      <td>19.998163</td>\n",
       "      <td>77.086714</td>\n",
       "      <td>953.769573</td>\n",
       "      <td>...</td>\n",
       "      <td>0.012774</td>\n",
       "      <td>-1.399708e+23</td>\n",
       "      <td>0.145070</td>\n",
       "      <td>0.029499</td>\n",
       "      <td>-1.868590e+24</td>\n",
       "      <td>0.010242</td>\n",
       "      <td>0.136726</td>\n",
       "      <td>4.355824</td>\n",
       "      <td>4.665385e-07</td>\n",
       "      <td>1</td>\n",
       "    </tr>\n",
       "  </tbody>\n",
       "</table>\n",
       "<p>5 rows × 38 columns</p>\n",
       "</div>"
      ],
      "text/plain": [
       "   Unnamed: 0         94        131         171         193         211   \n",
       "0           1   8.974219  29.204307  506.383286  818.701571  355.635094  \\\n",
       "1           1  10.126854  29.849536  496.012853  817.035740  356.629023   \n",
       "2           1   8.892889  27.052865  476.856401  792.896779  345.935345   \n",
       "3           1   8.569652  27.261664  483.389960  803.001028  349.442374   \n",
       "4           1  10.726769  30.501550  495.347490  828.010697  357.261581   \n",
       "\n",
       "          304        335       1600        1700  ...   MEANJZH         TOTFY   \n",
       "0  105.700492  19.654783  77.338210  959.218468  ...  0.012208 -1.082416e+23  \\\n",
       "1  104.075087  20.269867  76.612126  963.786084  ...  0.011820 -1.035303e+23   \n",
       "2   96.576911  19.220694  75.617088  962.414683  ...  0.011432 -9.881894e+22   \n",
       "3   97.915371  19.269333  76.886881  959.575392  ...  0.012075 -1.187114e+23   \n",
       "4  101.980005  19.998163  77.086714  953.769573  ...  0.012774 -1.399708e+23   \n",
       "\n",
       "    MEANJZD   MEANALP         TOTFX      EPSY      EPSX   R_VALUE   \n",
       "0  0.050998  0.028371 -1.940120e+24  0.008031  0.143956  4.340293  \\\n",
       "1  0.089647  0.027410 -1.934845e+24  0.007630  0.142551  4.338973   \n",
       "2  0.128297  0.026448 -1.929571e+24  0.007229  0.141145  4.337653   \n",
       "3  0.137501  0.027907 -1.899762e+24  0.008684  0.138957  4.346457   \n",
       "4  0.145070  0.029499 -1.868590e+24  0.010242  0.136726  4.355824   \n",
       "\n",
       "         XR_MAX  target  \n",
       "0  4.854100e-07       1  \n",
       "1  4.561938e-07       1  \n",
       "2  4.269777e-07       1  \n",
       "3  4.454338e-07       1  \n",
       "4  4.665385e-07       1  \n",
       "\n",
       "[5 rows x 38 columns]"
      ]
     },
     "execution_count": 17,
     "metadata": {},
     "output_type": "execute_result"
    }
   ],
   "source": [
    "df.head()"
   ]
  },
  {
   "attachments": {},
   "cell_type": "markdown",
   "metadata": {},
   "source": [
    "**Grad-CAM**  \n",
    "Problem is that not interpretable on the embeddings. Must either use CNN trained without transformer or make sure that the embedding discriminant region corresponds to that of the original mvts."
   ]
  },
  {
   "cell_type": "code",
   "execution_count": 2,
   "metadata": {},
   "outputs": [],
   "source": [
    "import os\n",
    "import torch\n",
    "import numpy as np\n",
    "import pandas as pd\n",
    "from captum.attr import GuidedGradCam\n",
    "from torch.utils.data import Dataset, DataLoader\n",
    "from models import TransformerEncoder, CNNModel, CombinedModel\n",
    "from sklearn.preprocessing import StandardScaler\n",
    "import matplotlib.colors as mcolors\n",
    "from matplotlib import pyplot as plt\n",
    "import matplotlib.gridspec as gridspec\n",
    "from matplotlib.ticker import MultipleLocator"
   ]
  },
  {
   "cell_type": "code",
   "execution_count": 2,
   "metadata": {},
   "outputs": [],
   "source": [
    "class CNNDataset(Dataset):\n",
    "    '''\n",
    "    Outputs a tuple of (x, y) where x is a tensor of shape (batch, features, time) and y is a tensor of shape (1,)\n",
    "    Normalization is done per sample and is a unity normalization, i.e., no intensity infomation.\n",
    "    '''\n",
    "    def __init__(self, indices):\n",
    "        super(CNNDataset, self).__init__()\n",
    "        self.indices = indices\n",
    "\n",
    "    def __len__(self):\n",
    "        return len(self.indices)\n",
    "    \n",
    "    def __getitem__(self, idx):\n",
    "        index = self.indices[idx]\n",
    "        df = pd.read_csv(f'../data/embeddings/{index}.csv')\n",
    "        if len(df) < 40:\n",
    "            padding = pd.DataFrame(np.nan, index=np.arange(40 - len(df)), columns=df.columns)\n",
    "            df = pd.concat([padding, df])\n",
    "\n",
    "        label = df[\"target\"].values[-1].astype(np.int64)\n",
    "        df = df.drop(\"target\", axis=1)\n",
    "        df = df.drop(\"Unnamed: 0\", axis=1)\n",
    "        df = df.drop(\"R_VALUE\", axis=1)\n",
    "        embedding = np.array(df.values, dtype=np.float32)\n",
    "        embedding_norm = embedding.T\n",
    "        embedding_norm = self.unity_based_normalization(embedding_norm)\n",
    "        embedding_norm = embedding_norm.T\n",
    "        embedding = torch.tensor(embedding, dtype=torch.float32)\n",
    "        embedding = torch.nan_to_num(embedding, nan=0)\n",
    "        embedding = embedding.unsqueeze(0)\n",
    "        embedding_norm = torch.tensor(embedding_norm, dtype=torch.float32)\n",
    "        embedding_norm = torch.nan_to_num(embedding_norm, nan=0)\n",
    "\n",
    "        return embedding, embedding_norm, label\n",
    "    \n",
    "    @staticmethod\n",
    "    def unity_based_normalization(data):\n",
    "        '''\n",
    "        Normalize each row of the data matrix by subtracting its minimum value, dividing by its range, and scaling to a range of 0-1\n",
    "        Takes in arrays of shape (features, time)\n",
    "        This is just for visulization purposes, the CNN eats the raw embeddings without a normalization\n",
    "        '''\n",
    "        # Normalize each row by subtracting its minimum value, dividing by its range, and scaling to a range of 0-1\n",
    "        # Get the maximum and minimum values of each row\n",
    "        max_vals = np.nanmax(data, axis=1)\n",
    "        min_vals = np.nanmin(data, axis=1)\n",
    "        # Compute the range of each row, and add a small constant to avoid division by zero\n",
    "        ranges = max_vals - min_vals\n",
    "        eps = np.finfo(data.dtype).eps  # machine epsilon for the data type\n",
    "        ranges[ranges < eps] = eps\n",
    "        # Normalize each row by subtracting its minimum value, dividing by its range, and scaling to a range of 0-1\n",
    "        data = (data - min_vals[:, np.newaxis]) / ranges[:, np.newaxis]\n",
    "        data = data + np.nanmax(data)\n",
    "        data *= (1 / np.nanmax(data, axis=1)[:, np.newaxis])\n",
    "        return data"
   ]
  },
  {
   "cell_type": "code",
   "execution_count": 3,
   "metadata": {},
   "outputs": [
    {
     "data": {
      "text/plain": [
       "CNNModel(\n",
       "  (conv1): Conv2d(1, 64, kernel_size=(3, 3), stride=(1, 1), padding=(1, 1))\n",
       "  (relu1): ReLU()\n",
       "  (conv2): Conv2d(64, 64, kernel_size=(3, 3), stride=(1, 1), padding=(1, 1))\n",
       "  (relu2): ReLU()\n",
       "  (fc1): Linear(in_features=89600, out_features=20, bias=True)\n",
       "  (fc2): Linear(in_features=20, out_features=2, bias=True)\n",
       ")"
      ]
     },
     "execution_count": 3,
     "metadata": {},
     "output_type": "execute_result"
    }
   ],
   "source": [
    "# Create a model instance of the CNN and load the pretrained weights\n",
    "\n",
    "# Step 1: Create an instance of the CombinedModel\n",
    "transformer_model = TransformerEncoder(feat_dim=35,max_len=40,d_model=35,n_heads=7,num_layers=1,dim_feedforward=256,dropout=0.1,freeze=True).float()\n",
    "cnn_model = CNNModel().float()\n",
    "main_model = CombinedModel(transformer_model, cnn_model).float()\n",
    "\n",
    "# Step 2: Load the weights for the entire combined model\n",
    "main_model.load_state_dict(torch.load(\"../models/classification_standard_norm.pt\"))\n",
    "\n",
    "# Step 3: Remove the weights that belong to the transformer model from the loaded state dict\n",
    "state_dict = main_model.state_dict()\n",
    "state_dict = {k: v for k, v in state_dict.items() if \"transformer_model\" not in k}\n",
    "\n",
    "# Step 4: Load the modified state dict into the cnn_model\n",
    "cnn_model.load_state_dict(state_dict, strict=False)\n",
    "\n",
    "# Step 5: Set to eval mode\n",
    "cnn_model.eval()"
   ]
  },
  {
   "cell_type": "code",
   "execution_count": 45,
   "metadata": {},
   "outputs": [],
   "source": [
    "# Load data\n",
    "Mydataset = CNNDataset(indices=[62])\n",
    "train_dataloader = DataLoader(Mydataset, batch_size=1, shuffle=False)\n",
    "embedding, embedding_norm, label = next(iter(train_dataloader))"
   ]
  },
  {
   "cell_type": "code",
   "execution_count": 46,
   "metadata": {},
   "outputs": [
    {
     "name": "stderr",
     "output_type": "stream",
     "text": [
      "/Users/brandonlpanos/gits/mvts_transformer/envmvts/lib/python3.9/site-packages/captum/attr/_core/guided_backprop_deconvnet.py:64: UserWarning: Setting backward hooks on ReLU activations.The hooks will be removed after the attribution is finished\n",
      "  warnings.warn(\n"
     ]
    }
   ],
   "source": [
    "# Create a GuidedGradCam object based on the model and the desired layer\n",
    "guided_grad_cam = GuidedGradCam(cnn_model, cnn_model.conv2)\n",
    "\n",
    "# Get the attribution mask\n",
    "attribution_mask = guided_grad_cam.attribute(embedding.requires_grad_(), target=label.item()).detach()"
   ]
  },
  {
   "cell_type": "code",
   "execution_count": 47,
   "metadata": {},
   "outputs": [
    {
     "data": {
      "text/plain": [
       "torch.Size([1, 1, 40, 35])"
      ]
     },
     "execution_count": 47,
     "metadata": {},
     "output_type": "execute_result"
    }
   ],
   "source": [
    "torch.nanmean(attribution_mask)\n",
    "attribution_mask.shape"
   ]
  },
  {
   "cell_type": "code",
   "execution_count": 48,
   "metadata": {},
   "outputs": [
    {
     "name": "stderr",
     "output_type": "stream",
     "text": [
      "/var/folders/f9/n3qmt52j5rzc2pm_q_cmx6_80000gn/T/ipykernel_7600/1410792091.py:66: MatplotlibDeprecationWarning: The get_cmap function was deprecated in Matplotlib 3.7 and will be removed two minor releases later. Use ``matplotlib.colormaps[name]`` or ``matplotlib.colormaps.get_cmap(obj)`` instead.\n",
      "  cmap = plt.cm.get_cmap('jet')\n",
      "/var/folders/f9/n3qmt52j5rzc2pm_q_cmx6_80000gn/T/ipykernel_7600/1410792091.py:79: UserWarning: This figure includes Axes that are not compatible with tight_layout, so results might be incorrect.\n",
      "  plt.tight_layout()\n"
     ]
    },
    {
     "data": {
      "image/png": "[encoded data removed]",
      "text/plain": [
       "<Figure size 1000x2500 with 37 Axes>"
      ]
     },
     "metadata": {},
     "output_type": "display_data"
    }
   ],
   "source": [
    "plt.rcParams['font.size'] = 8\n",
    "\n",
    "name = '1'\n",
    "class_name = str(label.detach().numpy().item())\n",
    "\n",
    "dtypes = ['94', '131', '171', '193', '211', '304', '335', '1600', '1700', 'M_45s', 'V_45s',\n",
    "          'TOTUSJH', 'TOTBSQ', 'TOTPOT', 'TOTUSJZ', 'ABSNJZH', 'SAVNCPP', 'USFLUX', 'TOTFZ',\n",
    "          'MEANPOT', 'EPSZ', 'MEANSHR', 'SHRGT45', 'MEANGAM', 'MEANGBT', 'MEANGBZ', 'MEANGBH',\n",
    "          'MEANJZH', 'TOTFY', 'MEANJZD', 'MEANALP', 'TOTFX', 'EPSY', 'EPSX', 'XR_MAX']\n",
    "\n",
    "\n",
    "embedding = embedding.squeeze().detach().numpy().copy().T\n",
    "embedding_norm = embedding_norm.squeeze().detach().numpy().copy().T\n",
    "attribution_mask = attribution_mask.squeeze().detach().numpy().copy().T\n",
    "\n",
    "# nan out the padding\n",
    "embedding[embedding==0] = np.nan\n",
    "n_void = np.isnan(embedding[0]).sum()\n",
    "attribution_mask[:,0:n_void] = np.nan\n",
    "embedding_norm[embedding_norm==0] = np.nan\n",
    "\n",
    "\n",
    "fig = plt.figure(figsize=(10, 25))\n",
    "gs = gridspec.GridSpec(5, 3, height_ratios=[1, 1, 1, 1, 4], width_ratios=[1, 1, 1], hspace=0.15, wspace=0.3)\n",
    "\n",
    "# plot input mvt\n",
    "ax1 = fig.add_subplot(gs[0:1, :])\n",
    "ax1.set_title(f'mvts class: {class_name}')\n",
    "ax1.imshow(embedding_norm, aspect='auto', cmap='gray', interpolation='spline16', alpha=0.5)\n",
    "ax1.yaxis.grid(True, \"major\")\n",
    "ax1.xaxis.grid(True, \"major\")\n",
    "ax1.xaxis.set_major_locator(MultipleLocator(2))\n",
    "ax1.xaxis.set_minor_locator(MultipleLocator(1))\n",
    "ax1.yaxis.set_major_locator(MultipleLocator(5))\n",
    "ax1.yaxis.set_minor_locator(MultipleLocator(1))\n",
    "ax1.tick_params(which='major', length=5,width=1)\n",
    "ax1.tick_params(which='minor', length=3,width=1)\n",
    "\n",
    "# Plot saliency map\n",
    "ax2 = fig.add_subplot(gs[1, :])\n",
    "ax2.set_title('saliency map')\n",
    "ax2.imshow(attribution_mask, aspect='auto', cmap='jet', alpha=0.5, interpolation='spline16')\n",
    "ax2.yaxis.grid(True, \"major\")\n",
    "ax2.xaxis.grid(False, \"major\")\n",
    "ax2.xaxis.set_major_locator(MultipleLocator(2))\n",
    "ax2.xaxis.set_minor_locator(MultipleLocator(1))\n",
    "ax2.yaxis.set_major_locator(MultipleLocator(5))\n",
    "ax2.yaxis.set_minor_locator(MultipleLocator(1))\n",
    "ax2.tick_params(which='major', length=5,width=1)\n",
    "ax2.tick_params(which='minor', length=3,width=1)\n",
    "\n",
    "# Plot the light curves\n",
    "gs2 = gridspec.GridSpecFromSubplotSpec(6, 6, subplot_spec=gs[2, 0:], wspace=0, hspace=0)\n",
    "# Add the gridplot subplots\n",
    "for i in range(6):\n",
    "    for j in range(6):\n",
    "        ind = (i * 6) + j\n",
    "        if ind < len(dtypes):  # Check if index is within the range of dtypes\n",
    "            ax = fig.add_subplot(gs2[i, j])\n",
    "            # Handle NaN values in attribution_mask\n",
    "            masked_mask = np.ma.masked_invalid(attribution_mask)\n",
    "            # Normalize the masked_mask to range [0, 1]\n",
    "            norm = mcolors.Normalize(vmin=masked_mask.min(), vmax=masked_mask.max())\n",
    "            normalized_mask = norm(masked_mask)\n",
    "            # Convert the normalized mask to RGB\n",
    "            cmap = plt.cm.get_cmap('jet')\n",
    "            rgb_colors = cmap(normalized_mask)\n",
    "            light_curve = embedding[ind]\n",
    "            light_curve_colors = rgb_colors[ind, :, :]\n",
    "            for k, clr in enumerate(light_curve_colors):\n",
    "                if k + 1 == 40: break\n",
    "                x = [k, k+1]\n",
    "                y = [light_curve[k], light_curve[k+1]]\n",
    "                plt.plot(x, y, color=clr, linewidth=0.7)\n",
    "                plt.text(0.02, 0.9, dtypes[ind], fontsize=5, horizontalalignment='left', verticalalignment='center', transform=ax.transAxes)\n",
    "                plt.xticks([])\n",
    "                plt.yticks([])\n",
    "                plt.xlim(0,40)\n",
    "plt.tight_layout()\n",
    "# plt.savefig(f'figs/{name}.png', bbox_inches='tight')\n",
    "plt.show()\n",
    "plt.close(fig)"
   ]
  },
  {
   "cell_type": "code",
   "execution_count": 167,
   "metadata": {},
   "outputs": [
    {
     "name": "stdout",
     "output_type": "stream",
     "text": [
      "tensor([1])\n"
     ]
    },
    {
     "name": "stderr",
     "output_type": "stream",
     "text": [
      "/Users/brandonlpanos/gits/mvts_transformer/envmvts/lib/python3.9/site-packages/captum/attr/_core/guided_backprop_deconvnet.py:64: UserWarning: Setting backward hooks on ReLU activations.The hooks will be removed after the attribution is finished\n",
      "  warnings.warn(\n"
     ]
    }
   ],
   "source": [
    "# Load data \n",
    "Mydataset = CNNDataset(indices=[0])\n",
    "train_dataloader = DataLoader(Mydataset, batch_size=1, shuffle=False)\n",
    "embedding, embedding_norm, label = next(iter(train_dataloader))\n",
    "embedding[embedding==0] = torch.nan\n",
    "embedding_norm[embedding_norm==0] = torch.nan\n",
    "print(label)\n",
    "\n",
    "# Create a GuidedGradCam object based on the model and the desired layer\n",
    "guided_grad_cam = GuidedGradCam(cnn_model, cnn_model.conv2)\n",
    "\n",
    "# Get the attribution mask\n",
    "attribution_mask = guided_grad_cam.attribute(embedding.requires_grad_(), target=label.item()).detach()"
   ]
  },
  {
   "cell_type": "code",
   "execution_count": 168,
   "metadata": {},
   "outputs": [
    {
     "data": {
      "text/plain": [
       "torch.Size([1, 1, 40, 35])"
      ]
     },
     "execution_count": 168,
     "metadata": {},
     "output_type": "execute_result"
    }
   ],
   "source": [
    "attribution_mask.shape"
   ]
  },
  {
   "cell_type": "code",
   "execution_count": 1,
   "metadata": {},
   "outputs": [],
   "source": [
    "# fig, axs = plt.subplots(1, 3, figsize=(5, 6))\n",
    "# axs[0].imshow(embedding[0, 0, :, :].detach().numpy(), aspect='auto', alpha=0.5, cmap='jet', interpolation='spline16')\n",
    "# axs[1].imshow(embedding_norm[0, 0, :, :].detach().numpy(), aspect='auto', alpha=0.5, cmap='jet', interpolation='spline16')\n",
    "# axs[2].imshow(attribution_mask[0, 0, :, :].detach().numpy() - attribution_mask[0, 0, :, :].numpy(), aspect='auto', alpha=0.5, cmap='jet', interpolation='spline16')\n",
    "# plt.tight_layout()\n",
    "# plt.show()"
   ]
  },
  {
   "attachments": {},
   "cell_type": "markdown",
   "metadata": {},
   "source": [
    "**Grad-CAM analysis 2**"
   ]
  },
  {
   "cell_type": "code",
   "execution_count": 3,
   "metadata": {},
   "outputs": [],
   "source": [
    "import os\n",
    "import torch\n",
    "import numpy as np\n",
    "import pandas as pd\n",
    "from captum.attr import GuidedGradCam\n",
    "from torch.utils.data import Dataset, DataLoader\n",
    "from models import CNNModel\n",
    "from sklearn.preprocessing import StandardScaler\n",
    "import matplotlib.colors as mcolors\n",
    "from matplotlib import pyplot as plt\n",
    "import matplotlib.gridspec as gridspec\n",
    "from matplotlib.ticker import MultipleLocator\n",
    "\n",
    "from datasets import MVTSDataset\n",
    "from captum.attr import GuidedGradCam\n",
    "import matplotlib.pyplot as plt\n",
    "import matplotlib.gridspec as gridspec\n",
    "from matplotlib.ticker import MultipleLocator\n",
    "plt.rcParams['font.size'] = 8"
   ]
  },
  {
   "cell_type": "code",
   "execution_count": 4,
   "metadata": {},
   "outputs": [],
   "source": [
    "# Load all data\n",
    "indices = np.arange(0, 485, 1)\n",
    "dataloader = DataLoader(MVTSDataset(indices, norm_type='standard'), batch_size=len(indices), shuffle=False, drop_last=False)\n",
    "data, _, labels = next(iter(dataloader))"
   ]
  },
  {
   "cell_type": "code",
   "execution_count": 15,
   "metadata": {},
   "outputs": [],
   "source": [
    "# Load the best model\n",
    "model = CNNModel()\n",
    "model.load_state_dict(torch.load('../models/cnn_model_standard.pth'))\n",
    "model.eval();"
   ]
  },
  {
   "cell_type": "code",
   "execution_count": 16,
   "metadata": {},
   "outputs": [],
   "source": [
    "# Create a GuidedGradCam object based on the model and the desired layer\n",
    "guided_grad_cam = GuidedGradCam(model, model.conv3)"
   ]
  },
  {
   "cell_type": "code",
   "execution_count": 19,
   "metadata": {},
   "outputs": [
    {
     "name": "stdout",
     "output_type": "stream",
     "text": [
      "torch.Size([40, 1, 35])\n"
     ]
    }
   ],
   "source": [
    "for indx, (x, y) in enumerate(zip(data, labels)):\n",
    "    if y.item() == 0: continue\n",
    "    name = indices[indx]\n",
    "    x = x.unsqueeze_(0)\n",
    "    x = x.unsqueeze_(1)\n",
    "    x = x.requires_grad_()\n",
    "    x = torch.nan_to_num(x)\n",
    "    attribution_mask = guided_grad_cam.attribute(x, target=y)\n",
    "    x = x.squeeze().detach().numpy()\n",
    "    attribution_mask = attribution_mask.squeeze().detach().numpy()  \n",
    "    plot_attributions(x, attribution_mask, name=name)\n",
    "    break\n"
   ]
  },
  {
   "cell_type": "code",
   "execution_count": 40,
   "metadata": {},
   "outputs": [],
   "source": [
    "def plot_attributions(mvts, attribution_mask, name=None):\n",
    "\n",
    "    dtypes = ['94', '131', '171', '193', '211', '304', '335', '1600', '1700', 'M_45s', 'V_45s',\n",
    "            'TOTUSJH', 'TOTBSQ', 'TOTPOT', 'TOTUSJZ', 'ABSNJZH', 'SAVNCPP', 'USFLUX', 'TOTFZ',\n",
    "            'MEANPOT', 'EPSZ', 'MEANSHR', 'SHRGT45', 'MEANGAM', 'MEANGBT', 'MEANGBZ', 'MEANGBH',\n",
    "            'MEANJZH', 'TOTFY', 'MEANJZD', 'MEANALP', 'TOTFX', 'EPSY', 'EPSX', 'XR_MAX']\n",
    "\n",
    "    mvts = mvts.T\n",
    "    attribution_mask = attribution_mask.T\n",
    "\n",
    "\n",
    "    mvts[mvts==0] = np.nan\n",
    "    mvts = unity_based_normalization(mvts) # normalize the data so easier to see each feature in the original data\n",
    "\n",
    "    n_void = np.isnan(mvts[0]).sum()\n",
    "\n",
    "    fig = plt.figure(figsize=(10, 25))\n",
    "    gs = gridspec.GridSpec(5, 3, height_ratios=[1, 1, 1, 1, 4], width_ratios=[1, 1, 1], hspace=0.15, wspace=0.3)\n",
    "\n",
    "    # plot input mvt\n",
    "    ax1 = fig.add_subplot(gs[0:1, :])\n",
    "    ax1.set_title(f'mvts obs: {name}')\n",
    "    ax1.imshow(mvts, aspect='auto', cmap='gray', interpolation='spline16', vmin=0, vmax=np.nanmax(mvts), alpha=0.5)\n",
    "    ax1.yaxis.grid(True, \"major\")\n",
    "    ax1.xaxis.grid(True, \"major\")\n",
    "    ax1.xaxis.set_major_locator(MultipleLocator(2))\n",
    "    ax1.xaxis.set_minor_locator(MultipleLocator(1))\n",
    "    ax1.yaxis.set_major_locator(MultipleLocator(5))\n",
    "    ax1.yaxis.set_minor_locator(MultipleLocator(1))\n",
    "    ax1.tick_params(which='major', length=5,width=1)\n",
    "    ax1.tick_params(which='minor', length=3,width=1)\n",
    "\n",
    "    # Plot saliency map\n",
    "    ax2 = fig.add_subplot(gs[1, :])\n",
    "    ax2.set_title('saliency map')\n",
    "    attribution_mask[:,0:n_void] = np.nan\n",
    "    ax2.imshow(attribution_mask, aspect='auto', cmap='jet', alpha=0.5, interpolation='spline16')\n",
    "    ax2.yaxis.grid(True, \"major\")\n",
    "    ax2.xaxis.grid(False, \"major\")\n",
    "    ax2.xaxis.set_major_locator(MultipleLocator(2))\n",
    "    ax2.xaxis.set_minor_locator(MultipleLocator(1))\n",
    "    ax2.yaxis.set_major_locator(MultipleLocator(5))\n",
    "    ax2.yaxis.set_minor_locator(MultipleLocator(1))\n",
    "    ax2.tick_params(which='major', length=5,width=1)\n",
    "    ax2.tick_params(which='minor', length=3,width=1)\n",
    "\n",
    "    # Plot the light curves\n",
    "    gs2 = gridspec.GridSpecFromSubplotSpec(6, 6, subplot_spec=gs[2, 0:], wspace=0, hspace=0)\n",
    "    for i in range(6):\n",
    "        for j in range(6):\n",
    "            ind = (i * 6) + j\n",
    "            if ind < len(dtypes):  # Check if index is within the range of dtypes\n",
    "                ax = fig.add_subplot(gs2[i, j])\n",
    "                # Handle NaN values in attribution_mask\n",
    "                masked_mask = np.ma.masked_invalid(attribution_mask)\n",
    "                # Normalize the masked_mask to range [0, 1]\n",
    "                norm = mcolors.Normalize(vmin=masked_mask.min(), vmax=masked_mask.max())\n",
    "                normalized_mask = norm(masked_mask)\n",
    "                # Convert the normalized mask to RGB\n",
    "                cmap = plt.cm.get_cmap('jet')\n",
    "                rgb_colors = cmap(normalized_mask)\n",
    "                light_curve = mvts[ind]\n",
    "                light_curve_colors = rgb_colors[ind, :, :]\n",
    "                for k, clr in enumerate(light_curve_colors):\n",
    "                    if k + 1 == 40: break\n",
    "                    x = [k, k+1]\n",
    "                    y = [light_curve[k], light_curve[k+1]]\n",
    "                    plt.plot(x, y, color=clr, linewidth=0.7)\n",
    "                    plt.text(0.02, 0.9, dtypes[ind], fontsize=5, horizontalalignment='left', verticalalignment='center', transform=ax.transAxes)\n",
    "                    plt.xticks([])\n",
    "                    plt.yticks([])\n",
    "                    plt.xlim(0,40)\n",
    "    plt.tight_layout()\n",
    "    plt.show()\n",
    "    # plt.savefig(f'../figs/grad_cam/{name}.png', bbox_inches='tight')\n",
    "    plt.close(fig)\n",
    "\n",
    "    return None"
   ]
  },
  {
   "cell_type": "code",
   "execution_count": 46,
   "metadata": {},
   "outputs": [],
   "source": [
    "def unity_based_normalization(data):\n",
    "    '''\n",
    "    Normalize each row of the data matrix by subtracting its minimum value, dividing by its range, and scaling to a range of 0-1\n",
    "    Takes in arrays of shape (features, time)\n",
    "    '''\n",
    "    # Normalize each row by subtracting its minimum value, dividing by its range, and scaling to a range of 0-1\n",
    "    # Get the maximum and minimum values of each row\n",
    "    max_vals = np.nanmax(data, axis=1)\n",
    "    min_vals = np.nanmin(data, axis=1)\n",
    "    # Compute the range of each row, and add a small constant to avoid division by zero\n",
    "    ranges = max_vals - min_vals\n",
    "    eps = np.finfo(data.dtype).eps  # machine epsilon for the data type\n",
    "    ranges[ranges < eps] = eps\n",
    "    # Normalize each row by subtracting its minimum value, dividing by its range, and scaling to a range of 0-1\n",
    "    data = (data - min_vals[:, np.newaxis]) / ranges[:, np.newaxis]\n",
    "    data = data + np.nanmax(data)\n",
    "    data *= (1 / np.nanmax(data, axis=1)[:, np.newaxis])\n",
    "    return data"
   ]
  },
  {
   "cell_type": "code",
   "execution_count": 16,
   "metadata": {},
   "outputs": [
    {
     "data": {
      "text/plain": [
       "array([0.       , 0.       , 0.       , 0.       , 0.       , 0.       ,\n",
       "       0.       , 0.       , 0.       , 0.       , 0.       , 0.       ,\n",
       "       0.       , 0.       , 0.       , 0.       , 0.       , 0.       ,\n",
       "       0.       , 0.       , 0.0737792, 0.0737792, 0.0737792, 0.0737792,\n",
       "       0.0737792, 0.0737792, 0.0737792, 0.0737792, 0.0737792, 0.0737792,\n",
       "       0.0737792, 0.0737792, 0.0737792, 0.0737792, 0.0737792, 0.0737792,\n",
       "       0.0737792, 0.0737792, 0.0737792, 0.0737792], dtype=float32)"
      ]
     },
     "execution_count": 16,
     "metadata": {},
     "output_type": "execute_result"
    }
   ],
   "source": [
    "x[:, -1]"
   ]
  },
  {
   "cell_type": "code",
   "execution_count": 18,
   "metadata": {},
   "outputs": [
    {
     "name": "stdout",
     "output_type": "stream",
     "text": [
      "tensor([[ 1,  2,  3,  3],\n",
      "        [ 5,  6,  7,  7],\n",
      "        [ 9, 10, 11, 11]])\n"
     ]
    }
   ],
   "source": [
    "import torch\n",
    "\n",
    "# Create a tensor with shape (3, 4)\n",
    "tensor = torch.tensor([[1, 2, 3, 4],\n",
    "                       [5, 6, 7, 8],\n",
    "                       [9, 10, 11, 12]])\n",
    "\n",
    "# Select the column to be duplicated\n",
    "source_column_index = 2\n",
    "target_column_index = 3\n",
    "\n",
    "# Copy the values of the source column\n",
    "source_column = tensor[:, source_column_index]\n",
    "tensor[:, target_column_index] = source_column\n",
    "\n",
    "print(tensor)"
   ]
  },
  {
   "cell_type": "code",
   "execution_count": 3,
   "metadata": {},
   "outputs": [],
   "source": [
    "import torch\n",
    "\n",
    "# Create a tensor with shape (3, 4)\n",
    "tensor = torch.tensor([[1, 2, 3, 4],\n",
    "                       [5, 6, 7, 8],\n",
    "                       [9, 10, 11, 12]])\n",
    "\n",
    "# Get the number of columns\n",
    "num_columns = tensor.shape[1]\n",
    "\n",
    "# Generate random indices for shuffling along each column\n",
    "shuffled_indices = torch.randperm(tensor.size(0))\n",
    "\n",
    "# Create an indexing tensor for gather operation\n",
    "indexing_tensor = torch.arange(num_columns).repeat(tensor.size(0), 1)\n",
    "\n",
    "# Shuffle the elements along each column using gather\n",
    "shuffled_tensor = torch.gather(tensor, 0, indexing_tensor[shuffled_indices, :])\n",
    "\n",
    "print(shuffled_tensor)"
   ]
  },
  {
   "cell_type": "code",
   "execution_count": 31,
   "metadata": {},
   "outputs": [
    {
     "name": "stdout",
     "output_type": "stream",
     "text": [
      "tensor([[ 1,  6, 11,  8],\n",
      "        [ 9,  2,  7, 12],\n",
      "        [ 5, 10,  3,  4]])\n"
     ]
    }
   ],
   "source": [
    "import torch\n",
    "\n",
    "# Create a tensor with shape (3, 4)\n",
    "tensor = torch.tensor([[1, 2, 3, 4],\n",
    "                       [5, 6, 7, 8],\n",
    "                       [9, 10, 11, 12]])\n",
    "\n",
    "# Get the number of columns\n",
    "num_columns = tensor.shape[1]\n",
    "\n",
    "# Shuffle the elements along each column\n",
    "for i in range(num_columns):\n",
    "    column = tensor[:, i]\n",
    "    shuffled_indices = torch.randperm(column.size(0))\n",
    "    tensor[:, i] = column[shuffled_indices]\n",
    "\n",
    "print(tensor)\n"
   ]
  },
  {
   "cell_type": "code",
   "execution_count": 39,
   "metadata": {},
   "outputs": [
    {
     "data": {
      "text/plain": [
       "tensor([[    nan],\n",
       "        [    nan],\n",
       "        [    nan],\n",
       "        [    nan],\n",
       "        [    nan],\n",
       "        [    nan],\n",
       "        [    nan],\n",
       "        [    nan],\n",
       "        [    nan],\n",
       "        [    nan],\n",
       "        [    nan],\n",
       "        [    nan],\n",
       "        [    nan],\n",
       "        [    nan],\n",
       "        [    nan],\n",
       "        [    nan],\n",
       "        [    nan],\n",
       "        [    nan],\n",
       "        [    nan],\n",
       "        [    nan],\n",
       "        [-0.0654],\n",
       "        [-0.0841],\n",
       "        [-0.0940],\n",
       "        [-0.0941],\n",
       "        [-0.0760],\n",
       "        [-0.0363],\n",
       "        [-0.0374],\n",
       "        [-0.0706],\n",
       "        [ 0.0036],\n",
       "        [-0.0854],\n",
       "        [-0.0970],\n",
       "        [-0.1030],\n",
       "        [-0.0906],\n",
       "        [-0.0969],\n",
       "        [-0.0601],\n",
       "        [-0.0972],\n",
       "        [-0.1049],\n",
       "        [-0.0957],\n",
       "        [-0.1086],\n",
       "        [-0.1094]])"
      ]
     },
     "execution_count": 39,
     "metadata": {},
     "output_type": "execute_result"
    }
   ],
   "source": [
    "x[:,:,3]"
   ]
  },
  {
   "attachments": {},
   "cell_type": "markdown",
   "metadata": {},
   "source": [
    "**Feature Ranking**"
   ]
  },
  {
   "cell_type": "code",
   "execution_count": 4,
   "metadata": {},
   "outputs": [
    {
     "name": "stdout",
     "output_type": "stream",
     "text": [
      "(40, 35)\n",
      "(80, 35)\n",
      "(120, 35)\n",
      "(160, 35)\n",
      "(200, 35)\n",
      "(240, 35)\n",
      "(280, 35)\n",
      "(320, 35)\n",
      "(360, 35)\n",
      "(400, 35)\n",
      "(440, 35)\n",
      "(480, 35)\n",
      "(520, 35)\n",
      "(560, 35)\n",
      "(600, 35)\n",
      "(640, 35)\n",
      "(680, 35)\n",
      "(720, 35)\n",
      "(760, 35)\n",
      "(800, 35)\n",
      "(840, 35)\n",
      "(880, 35)\n",
      "(920, 35)\n",
      "(960, 35)\n",
      "(1000, 35)\n",
      "(1040, 35)\n",
      "(1080, 35)\n",
      "(1120, 35)\n",
      "(1160, 35)\n",
      "(1200, 35)\n",
      "(1240, 35)\n",
      "(1280, 35)\n",
      "(1320, 35)\n",
      "(1360, 35)\n",
      "(1400, 35)\n",
      "(1440, 35)\n",
      "(1480, 35)\n",
      "(1520, 35)\n",
      "(1560, 35)\n",
      "(1600, 35)\n",
      "(1640, 35)\n",
      "(1680, 35)\n",
      "(1720, 35)\n",
      "(1760, 35)\n",
      "(1800, 35)\n",
      "(1840, 35)\n",
      "(1880, 35)\n",
      "(1920, 35)\n",
      "(1960, 35)\n",
      "(2000, 35)\n",
      "(2040, 35)\n",
      "(2080, 35)\n",
      "(2120, 35)\n",
      "(2160, 35)\n",
      "(2200, 35)\n",
      "(2240, 35)\n",
      "(2280, 35)\n",
      "(2320, 35)\n",
      "(2360, 35)\n",
      "(2400, 35)\n",
      "(2440, 35)\n",
      "(2480, 35)\n",
      "(2520, 35)\n",
      "(2560, 35)\n",
      "(2600, 35)\n",
      "(2640, 35)\n",
      "(2680, 35)\n",
      "(2720, 35)\n",
      "(2760, 35)\n",
      "(2800, 35)\n",
      "(2840, 35)\n",
      "(2880, 35)\n",
      "(2920, 35)\n",
      "(2960, 35)\n",
      "(3000, 35)\n",
      "(3040, 35)\n",
      "(3080, 35)\n",
      "(3120, 35)\n",
      "(3160, 35)\n",
      "(3200, 35)\n",
      "(3240, 35)\n",
      "(3280, 35)\n",
      "(3320, 35)\n",
      "(3360, 35)\n",
      "(3400, 35)\n",
      "(3440, 35)\n",
      "(3480, 35)\n",
      "(3520, 35)\n",
      "(3560, 35)\n",
      "(3600, 35)\n",
      "(3640, 35)\n",
      "(3680, 35)\n",
      "(3720, 35)\n",
      "(3760, 35)\n",
      "(3800, 35)\n",
      "(3840, 35)\n",
      "(3880, 35)\n",
      "(3920, 35)\n",
      "(3960, 35)\n",
      "(4000, 35)\n",
      "(4040, 35)\n",
      "(4080, 35)\n",
      "(4120, 35)\n",
      "(4160, 35)\n",
      "(4200, 35)\n",
      "(4240, 35)\n",
      "(4280, 35)\n",
      "(4320, 35)\n",
      "(4360, 35)\n",
      "(4400, 35)\n",
      "(4440, 35)\n",
      "(4480, 35)\n",
      "(4520, 35)\n",
      "(4560, 35)\n",
      "(4600, 35)\n",
      "(4640, 35)\n",
      "(4680, 35)\n",
      "(4720, 35)\n",
      "(4760, 35)\n",
      "(4800, 35)\n",
      "(4840, 35)\n",
      "(4880, 35)\n",
      "(4920, 35)\n",
      "(4960, 35)\n",
      "(5000, 35)\n",
      "(5040, 35)\n",
      "(5080, 35)\n",
      "(5120, 35)\n",
      "(5160, 35)\n",
      "(5200, 35)\n",
      "(5240, 35)\n",
      "(5280, 35)\n",
      "(5320, 35)\n",
      "(5360, 35)\n",
      "(5400, 35)\n",
      "(5440, 35)\n",
      "(5480, 35)\n",
      "(5520, 35)\n",
      "(5560, 35)\n",
      "(5600, 35)\n",
      "(5640, 35)\n",
      "(5680, 35)\n",
      "(5720, 35)\n",
      "(5760, 35)\n",
      "(5800, 35)\n",
      "(5840, 35)\n",
      "(5880, 35)\n",
      "(5920, 35)\n",
      "(5960, 35)\n",
      "(6000, 35)\n",
      "(6040, 35)\n",
      "(6080, 35)\n",
      "(6120, 35)\n",
      "(6160, 35)\n",
      "(6200, 35)\n",
      "(6240, 35)\n",
      "(6280, 35)\n",
      "(6320, 35)\n",
      "(6360, 35)\n",
      "(6400, 35)\n",
      "(6440, 35)\n",
      "(6480, 35)\n",
      "(6520, 35)\n",
      "(6560, 35)\n",
      "(6600, 35)\n",
      "(6640, 35)\n",
      "(6680, 35)\n",
      "(6720, 35)\n",
      "(6760, 35)\n",
      "(6800, 35)\n",
      "(6840, 35)\n",
      "(6880, 35)\n",
      "(6920, 35)\n",
      "(6960, 35)\n",
      "(7000, 35)\n",
      "(7040, 35)\n",
      "(7080, 35)\n",
      "(7120, 35)\n",
      "(7160, 35)\n",
      "(7200, 35)\n",
      "(7240, 35)\n",
      "(7280, 35)\n",
      "(7320, 35)\n",
      "(7360, 35)\n",
      "(7400, 35)\n",
      "(7440, 35)\n",
      "(7480, 35)\n",
      "(7520, 35)\n",
      "(7560, 35)\n",
      "(7600, 35)\n",
      "(7640, 35)\n",
      "(7680, 35)\n",
      "(7720, 35)\n",
      "(7760, 35)\n",
      "(7800, 35)\n",
      "(7840, 35)\n",
      "(7880, 35)\n",
      "(7920, 35)\n",
      "(7960, 35)\n",
      "(8000, 35)\n",
      "(8040, 35)\n",
      "(8080, 35)\n",
      "(8120, 35)\n",
      "(8160, 35)\n",
      "(8200, 35)\n",
      "(8240, 35)\n",
      "(8280, 35)\n",
      "(8320, 35)\n",
      "(8360, 35)\n",
      "(8400, 35)\n",
      "(8440, 35)\n",
      "(8480, 35)\n",
      "(8520, 35)\n",
      "(8560, 35)\n",
      "(8600, 35)\n",
      "(8640, 35)\n",
      "(8680, 35)\n",
      "(8720, 35)\n",
      "(8760, 35)\n",
      "(8800, 35)\n",
      "(8840, 35)\n",
      "(8880, 35)\n",
      "(8920, 35)\n",
      "(8960, 35)\n",
      "(9000, 35)\n",
      "(9040, 35)\n",
      "(9080, 35)\n",
      "(9120, 35)\n",
      "(9160, 35)\n",
      "(9200, 35)\n",
      "(9240, 35)\n",
      "(9280, 35)\n",
      "(9320, 35)\n",
      "(9360, 35)\n",
      "(9400, 35)\n",
      "(9440, 35)\n",
      "(9480, 35)\n",
      "(9520, 35)\n",
      "(9560, 35)\n",
      "(9600, 35)\n",
      "(9640, 35)\n",
      "(9680, 35)\n",
      "(9720, 35)\n",
      "(9760, 35)\n"
     ]
    }
   ],
   "source": [
    "import os \n",
    "import numpy as np\n",
    "import pandas as pd\n",
    "\n",
    "dtypes = ['94', '131', '171', '193', '211', '304', '335', '1600', '1700', 'M_45s', 'V_45s',\n",
    "        'TOTUSJH', 'TOTBSQ', 'TOTPOT', 'TOTUSJZ', 'ABSNJZH', 'SAVNCPP', 'USFLUX', 'TOTFZ',\n",
    "        'MEANPOT', 'EPSZ', 'MEANSHR', 'SHRGT45', 'MEANGAM', 'MEANGBT', 'MEANGBZ', 'MEANGBH',\n",
    "        'MEANJZH', 'TOTFY', 'MEANJZD', 'MEANALP', 'TOTFX', 'EPSY', 'EPSX', 'XR_MAX']\n",
    "\n",
    "root_data_dir = '../data/attributions/'\n",
    "\n",
    "dfs = []\n",
    "x_all = None\n",
    "for file in os.listdir(root_data_dir):\n",
    "    if file.endswith('.npy'):\n",
    "        x = np.load(root_data_dir + file, allow_pickle=True)\n",
    "        try: x_all = np.concatenate((x_all, x), axis=0)\n",
    "        except: x_all = x\n",
    "        print(x_all.shape)\n",
    "\n",
    "df = pd.DataFrame(x_all, columns=dtypes)\n",
    "df = df.drop(columns=['TOTFX'])"
   ]
  },
  {
   "cell_type": "code",
   "execution_count": 82,
   "metadata": {},
   "outputs": [
    {
     "data": {
      "image/png": "[encoded data removed]",
      "text/plain": [
       "<Figure size 2000x500 with 1 Axes>"
      ]
     },
     "metadata": {},
     "output_type": "display_data"
    }
   ],
   "source": [
    "import pandas as pd\n",
    "import matplotlib.pyplot as plt\n",
    "\n",
    "fig, ax = plt.subplots(figsize=(20, 5))\n",
    "\n",
    "# Calculate the mean values for each column\n",
    "column_means = df.mean()\n",
    "\n",
    "# Sort the columns based on mean values in descending order\n",
    "sorted_columns = column_means.sort_values(ascending=False)\n",
    "\n",
    "# Create a boxplot using the sorted column order\n",
    "df_boxplot = df[sorted_columns.index].boxplot()\n",
    "\n",
    "# Set the x-axis tick labels to the sorted column order\n",
    "df_boxplot.set_xticklabels(sorted_columns.index, rotation=45)\n",
    "\n",
    "# Filter outliers\n",
    "threshold = 1.1  # Adjust this value as needed\n",
    "for column in sorted_columns.index:\n",
    "    q1 = df[column].quantile(0.25)\n",
    "    q3 = df[column].quantile(0.75)\n",
    "    iqr = q3 - q1\n",
    "    lower_bound = q1 - threshold * iqr\n",
    "    upper_bound = q3 + threshold * iqr\n",
    "    df[column] = df[column].clip(lower=lower_bound, upper=upper_bound)\n",
    "\n",
    "# plt.savefig('../figs/boxplot.png', bbox_inches='tight', dpi=300)\n",
    "# Show the plot\n",
    "plt.show()"
   ]
  },
  {
   "cell_type": "code",
   "execution_count": 6,
   "metadata": {},
   "outputs": [
    {
     "data": {
      "image/png": "[encoded data removed]",
      "text/plain": [
       "<Figure size 2000x500 with 1 Axes>"
      ]
     },
     "metadata": {},
     "output_type": "display_data"
    }
   ],
   "source": [
    "import pandas as pd\n",
    "import matplotlib.pyplot as plt\n",
    "\n",
    "fig, ax = plt.subplots(figsize=(20, 5))\n",
    "\n",
    "# Calculate the mean values for each column\n",
    "column_means = df.mean()\n",
    "\n",
    "# Sort the columns based on mean values in descending order\n",
    "sorted_columns = column_means.sort_values(ascending=False)\n",
    "\n",
    "# Create a boxplot using the sorted column order\n",
    "df_boxplot = df[sorted_columns.index].boxplot()\n",
    "\n",
    "# Set the x-axis tick labels to the sorted column order\n",
    "df_boxplot.set_xticklabels(sorted_columns.index, rotation=45)\n",
    "\n",
    "# Filter outliers\n",
    "threshold = 1.5  # Adjust this value as needed\n",
    "for column in sorted_columns.index:\n",
    "    q1 = df[column].quantile(0.25)\n",
    "    q3 = df[column].quantile(0.75)\n",
    "    iqr = q3 - q1\n",
    "    lower_bound = q1 - threshold * iqr\n",
    "    upper_bound = q3 + threshold * iqr\n",
    "    df[column] = df[column].clip(lower=lower_bound, upper=upper_bound)\n",
    "\n",
    "plt.savefig('../figs/boxplot_embeddings.png', bbox_inches='tight', dpi=300)\n",
    "# Show the plot\n",
    "plt.show()"
   ]
  },
  {
   "attachments": {},
   "cell_type": "markdown",
   "metadata": {},
   "source": [
    "**Pair plot intensities**"
   ]
  },
  {
   "cell_type": "code",
   "execution_count": 2,
   "metadata": {},
   "outputs": [],
   "source": [
    "import os\n",
    "import umap\n",
    "import numpy as np\n",
    "import pandas as pd\n",
    "import seaborn as sns\n",
    "import matplotlib.pyplot as plt\n",
    "from sklearn.preprocessing import StandardScaler, RobustScaler"
   ]
  },
  {
   "cell_type": "code",
   "execution_count": 3,
   "metadata": {},
   "outputs": [
    {
     "data": {
      "text/html": [
       "<div>\n",
       "<style scoped>\n",
       "    .dataframe tbody tr th:only-of-type {\n",
       "        vertical-align: middle;\n",
       "    }\n",
       "\n",
       "    .dataframe tbody tr th {\n",
       "        vertical-align: top;\n",
       "    }\n",
       "\n",
       "    .dataframe thead th {\n",
       "        text-align: right;\n",
       "    }\n",
       "</style>\n",
       "<table border=\"1\" class=\"dataframe\">\n",
       "  <thead>\n",
       "    <tr style=\"text-align: right;\">\n",
       "      <th></th>\n",
       "      <th>94</th>\n",
       "      <th>131</th>\n",
       "      <th>171</th>\n",
       "      <th>193</th>\n",
       "      <th>211</th>\n",
       "      <th>304</th>\n",
       "      <th>335</th>\n",
       "      <th>1600</th>\n",
       "      <th>1700</th>\n",
       "      <th>M_45s</th>\n",
       "      <th>...</th>\n",
       "      <th>MEANGBH</th>\n",
       "      <th>MEANJZH</th>\n",
       "      <th>TOTFY</th>\n",
       "      <th>MEANJZD</th>\n",
       "      <th>MEANALP</th>\n",
       "      <th>TOTFX</th>\n",
       "      <th>EPSY</th>\n",
       "      <th>EPSX</th>\n",
       "      <th>XR_MAX</th>\n",
       "      <th>target</th>\n",
       "    </tr>\n",
       "  </thead>\n",
       "  <tbody>\n",
       "    <tr>\n",
       "      <th>0</th>\n",
       "      <td>2.918018</td>\n",
       "      <td>13.969911</td>\n",
       "      <td>369.098726</td>\n",
       "      <td>536.164432</td>\n",
       "      <td>218.309547</td>\n",
       "      <td>44.110328</td>\n",
       "      <td>9.737458</td>\n",
       "      <td>58.467420</td>\n",
       "      <td>841.730808</td>\n",
       "      <td>11.180648</td>\n",
       "      <td>...</td>\n",
       "      <td>43.304793</td>\n",
       "      <td>0.013500</td>\n",
       "      <td>-2.044535e+24</td>\n",
       "      <td>0.158671</td>\n",
       "      <td>0.037980</td>\n",
       "      <td>2.924329e+24</td>\n",
       "      <td>0.083483</td>\n",
       "      <td>-0.119407</td>\n",
       "      <td>5.421700e-07</td>\n",
       "      <td>1</td>\n",
       "    </tr>\n",
       "    <tr>\n",
       "      <th>1</th>\n",
       "      <td>2.911790</td>\n",
       "      <td>14.007880</td>\n",
       "      <td>370.015192</td>\n",
       "      <td>533.894009</td>\n",
       "      <td>217.293036</td>\n",
       "      <td>44.369353</td>\n",
       "      <td>9.724059</td>\n",
       "      <td>58.472574</td>\n",
       "      <td>843.415470</td>\n",
       "      <td>11.256843</td>\n",
       "      <td>...</td>\n",
       "      <td>43.481875</td>\n",
       "      <td>0.013258</td>\n",
       "      <td>-2.059398e+24</td>\n",
       "      <td>0.167709</td>\n",
       "      <td>0.037238</td>\n",
       "      <td>2.922138e+24</td>\n",
       "      <td>0.084189</td>\n",
       "      <td>-0.119457</td>\n",
       "      <td>5.482549e-07</td>\n",
       "      <td>1</td>\n",
       "    </tr>\n",
       "    <tr>\n",
       "      <th>2</th>\n",
       "      <td>2.949583</td>\n",
       "      <td>14.235638</td>\n",
       "      <td>370.676851</td>\n",
       "      <td>533.831950</td>\n",
       "      <td>217.638947</td>\n",
       "      <td>46.484114</td>\n",
       "      <td>9.713875</td>\n",
       "      <td>59.277822</td>\n",
       "      <td>844.331801</td>\n",
       "      <td>11.149372</td>\n",
       "      <td>...</td>\n",
       "      <td>43.658956</td>\n",
       "      <td>0.013016</td>\n",
       "      <td>-2.074260e+24</td>\n",
       "      <td>0.176747</td>\n",
       "      <td>0.036497</td>\n",
       "      <td>2.919948e+24</td>\n",
       "      <td>0.084895</td>\n",
       "      <td>-0.119507</td>\n",
       "      <td>5.543397e-07</td>\n",
       "      <td>1</td>\n",
       "    </tr>\n",
       "    <tr>\n",
       "      <th>3</th>\n",
       "      <td>3.283343</td>\n",
       "      <td>15.586344</td>\n",
       "      <td>380.975903</td>\n",
       "      <td>541.843027</td>\n",
       "      <td>220.404853</td>\n",
       "      <td>48.999401</td>\n",
       "      <td>9.899407</td>\n",
       "      <td>60.045933</td>\n",
       "      <td>844.739337</td>\n",
       "      <td>11.103078</td>\n",
       "      <td>...</td>\n",
       "      <td>43.696922</td>\n",
       "      <td>0.012826</td>\n",
       "      <td>-2.079820e+24</td>\n",
       "      <td>0.137492</td>\n",
       "      <td>0.035991</td>\n",
       "      <td>2.916506e+24</td>\n",
       "      <td>0.085127</td>\n",
       "      <td>-0.119373</td>\n",
       "      <td>6.350000e-07</td>\n",
       "      <td>1</td>\n",
       "    </tr>\n",
       "    <tr>\n",
       "      <th>4</th>\n",
       "      <td>4.198611</td>\n",
       "      <td>15.290191</td>\n",
       "      <td>369.267858</td>\n",
       "      <td>535.291171</td>\n",
       "      <td>218.931543</td>\n",
       "      <td>45.349041</td>\n",
       "      <td>10.267297</td>\n",
       "      <td>59.026293</td>\n",
       "      <td>842.802945</td>\n",
       "      <td>11.199798</td>\n",
       "      <td>...</td>\n",
       "      <td>43.727159</td>\n",
       "      <td>0.012640</td>\n",
       "      <td>-2.084862e+24</td>\n",
       "      <td>0.095555</td>\n",
       "      <td>0.035497</td>\n",
       "      <td>2.912995e+24</td>\n",
       "      <td>0.085333</td>\n",
       "      <td>-0.119228</td>\n",
       "      <td>7.198033e-07</td>\n",
       "      <td>1</td>\n",
       "    </tr>\n",
       "  </tbody>\n",
       "</table>\n",
       "<p>5 rows × 36 columns</p>\n",
       "</div>"
      ],
      "text/plain": [
       "         94        131         171         193         211        304   \n",
       "0  2.918018  13.969911  369.098726  536.164432  218.309547  44.110328  \\\n",
       "1  2.911790  14.007880  370.015192  533.894009  217.293036  44.369353   \n",
       "2  2.949583  14.235638  370.676851  533.831950  217.638947  46.484114   \n",
       "3  3.283343  15.586344  380.975903  541.843027  220.404853  48.999401   \n",
       "4  4.198611  15.290191  369.267858  535.291171  218.931543  45.349041   \n",
       "\n",
       "         335       1600        1700      M_45s  ...    MEANGBH   MEANJZH   \n",
       "0   9.737458  58.467420  841.730808  11.180648  ...  43.304793  0.013500  \\\n",
       "1   9.724059  58.472574  843.415470  11.256843  ...  43.481875  0.013258   \n",
       "2   9.713875  59.277822  844.331801  11.149372  ...  43.658956  0.013016   \n",
       "3   9.899407  60.045933  844.739337  11.103078  ...  43.696922  0.012826   \n",
       "4  10.267297  59.026293  842.802945  11.199798  ...  43.727159  0.012640   \n",
       "\n",
       "          TOTFY   MEANJZD   MEANALP         TOTFX      EPSY      EPSX   \n",
       "0 -2.044535e+24  0.158671  0.037980  2.924329e+24  0.083483 -0.119407  \\\n",
       "1 -2.059398e+24  0.167709  0.037238  2.922138e+24  0.084189 -0.119457   \n",
       "2 -2.074260e+24  0.176747  0.036497  2.919948e+24  0.084895 -0.119507   \n",
       "3 -2.079820e+24  0.137492  0.035991  2.916506e+24  0.085127 -0.119373   \n",
       "4 -2.084862e+24  0.095555  0.035497  2.912995e+24  0.085333 -0.119228   \n",
       "\n",
       "         XR_MAX  target  \n",
       "0  5.421700e-07       1  \n",
       "1  5.482549e-07       1  \n",
       "2  5.543397e-07       1  \n",
       "3  6.350000e-07       1  \n",
       "4  7.198033e-07       1  \n",
       "\n",
       "[5 rows x 36 columns]"
      ]
     },
     "execution_count": 3,
     "metadata": {},
     "output_type": "execute_result"
    }
   ],
   "source": [
    "# Collect all data into a single pandas dataframe\n",
    "dataframes = []\n",
    "for file_name in os.listdir('../data/long/'):\n",
    "    df = pd.read_csv('../data/long/' + file_name)\n",
    "    dataframes.append(df)\n",
    "df = pd.concat(dataframes, ignore_index=True)\n",
    "df = df.drop(['Unnamed: 0'], axis=1)\n",
    "df = df.drop(\"R_VALUE\", axis=1)\n",
    "df.head()"
   ]
  },
  {
   "cell_type": "code",
   "execution_count": 1,
   "metadata": {},
   "outputs": [],
   "source": [
    "sns.pairplot(df, hue='target')"
   ]
  },
  {
   "attachments": {},
   "cell_type": "markdown",
   "metadata": {},
   "source": [
    "**Calculate probability curves**"
   ]
  },
  {
   "cell_type": "code",
   "execution_count": 160,
   "metadata": {},
   "outputs": [],
   "source": [
    "import os\n",
    "import numpy as np \n",
    "import matplotlib.pyplot as plt"
   ]
  },
  {
   "cell_type": "code",
   "execution_count": 161,
   "metadata": {},
   "outputs": [
    {
     "name": "stdout",
     "output_type": "stream",
     "text": [
      "(8540, 40)\n"
     ]
    }
   ],
   "source": [
    "path_to_attributions = '../kfold/attributions/'\n",
    "\n",
    "attribution_masks = []\n",
    "for file in os.listdir(path_to_attributions):\n",
    "    if file.endswith('.npy'):\n",
    "        attribution_mask = np.load(path_to_attributions + file, allow_pickle=True)\n",
    "\n",
    "        min_val = np.nanmin(attribution_mask)\n",
    "        attribution_mask = attribution_mask + np.abs(min_val)\n",
    "        max_val = np.nanmax(attribution_mask)\n",
    "        attribution_mask = attribution_mask / max_val\n",
    "        attribution_mask = attribution_mask.T\n",
    "        attribution_masks.append(attribution_mask)\n",
    "\n",
    "attribution_masks = np.vstack(attribution_masks)\n",
    "# attribution_masks[attribution_masks == 0] = np.nan\n",
    "print(attribution_masks.shape)\n"
   ]
  },
  {
   "cell_type": "code",
   "execution_count": 162,
   "metadata": {},
   "outputs": [
    {
     "name": "stdout",
     "output_type": "stream",
     "text": [
      "(40,) (40,)\n"
     ]
    }
   ],
   "source": [
    "means = np.nanmean(attribution_masks, axis=0)\n",
    "stds = np.nanstd(attribution_masks, axis=0)\n",
    "print(means.shape, stds.shape)"
   ]
  },
  {
   "cell_type": "code",
   "execution_count": 163,
   "metadata": {},
   "outputs": [],
   "source": [
    "# Running k-fold wil make the variance smaller "
   ]
  },
  {
   "cell_type": "code",
   "execution_count": 166,
   "metadata": {},
   "outputs": [
    {
     "data": {
      "image/png": "[encoded data removed]",
      "text/plain": [
       "<Figure size 1500x400 with 1 Axes>"
      ]
     },
     "metadata": {},
     "output_type": "display_data"
    }
   ],
   "source": [
    "# Create the scatterplot\n",
    "fig, ax = plt.subplots(figsize=(15, 4))\n",
    "\n",
    "# Plot the means\n",
    "ax.scatter(range(len(means)), means, color='b', label='Mean')\n",
    "\n",
    "\n",
    "# Set labels and title\n",
    "ax.set_xlabel('Index')\n",
    "ax.set_ylabel('Mean')\n",
    "ax.set_title('Scatterplot with Whiskers')\n",
    "\n",
    "# Display the legend\n",
    "ax.legend()\n",
    "\n",
    "# Show the plot\n",
    "plt.show()"
   ]
  },
  {
   "cell_type": "code",
   "execution_count": 18,
   "metadata": {},
   "outputs": [
    {
     "data": {
      "text/plain": [
       "array([[-7.9617726e-09,  5.0914377e-08, -1.0103751e-07, ...,\n",
       "         0.0000000e+00,  0.0000000e+00,  0.0000000e+00],\n",
       "       [ 6.4126503e-08,  7.1950851e-08, -2.0652310e-07, ...,\n",
       "         0.0000000e+00,  0.0000000e+00,  0.0000000e+00],\n",
       "       [ 2.0698806e-07,  2.5818628e-07, -3.4338916e-07, ...,\n",
       "         0.0000000e+00,  0.0000000e+00,  0.0000000e+00],\n",
       "       ...,\n",
       "       [ 8.9344830e-06,  4.2294181e-05,  6.9438058e-05, ...,\n",
       "         0.0000000e+00,  0.0000000e+00,  0.0000000e+00],\n",
       "       [ 5.8030682e-06,  3.2655393e-05,  5.0452752e-05, ...,\n",
       "         0.0000000e+00,  0.0000000e+00,  5.8391464e-07],\n",
       "       [ 3.0655208e-06,  1.0398929e-05,  1.8769340e-05, ...,\n",
       "         0.0000000e+00,  0.0000000e+00,  1.3486890e-07]], dtype=float32)"
      ]
     },
     "execution_count": 18,
     "metadata": {},
     "output_type": "execute_result"
    }
   ],
   "source": [
    "attribution_mask"
   ]
  },
  {
   "cell_type": "code",
   "execution_count": 40,
   "metadata": {},
   "outputs": [
    {
     "name": "stdout",
     "output_type": "stream",
     "text": [
      "Fold 0:\n",
      "  Train: index=[ 49  50  51  52  53  54  55  56  57  58  59  60  61  62  63  64  65  66\n",
      "  67  68  69  70  71  72  73  74  75  76  77  78  79  80  81  82  83  84\n",
      "  85  86  87  88  89  90  91  92  93  94  95  96  97  98  99 100 101 102\n",
      " 103 104 105 106 107 108 109 110 111 112 113 114 115 116 117 118 119 120\n",
      " 121 122 123 124 125 126 127 128 129 130 131 132 133 134 135 136 137 138\n",
      " 139 140 141 142 143 144 145 146 147 148 149 150 151 152 153 154 155 156\n",
      " 157 158 159 160 161 162 163 164 165 166 167 168 169 170 171 172 173 174\n",
      " 175 176 177 178 179 180 181 182 183 184 185 186 187 188 189 190 191 192\n",
      " 193 194 195 196 197 198 199 200 201 202 203 204 205 206 207 208 209 210\n",
      " 211 212 213 214 215 216 217 218 219 220 221 222 223 224 225 226 227 228\n",
      " 229 230 231 232 233 234 235 236 237 238 239 240 241 242 243 244 245 246\n",
      " 247 248 249 250 251 252 253 254 255 256 257 258 259 260 261 262 263 264\n",
      " 265 266 267 268 269 270 271 272 273 274 275 276 277 278 279 280 281 282\n",
      " 283 284 285 286 287 288 289 290 291 292 293 294 295 296 297 298 299 300\n",
      " 301 302 303 304 305 306 307 308 309 310 311 312 313 314 315 316 317 318\n",
      " 319 320 321 322 323 324 325 326 327 328 329 330 331 332 333 334 335 336\n",
      " 337 338 339 340 341 342 343 344 345 346 347 348 349 350 351 352 353 354\n",
      " 355 356 357 358 359 360 361 362 363 364 365 366 367 368 369 370 371 372\n",
      " 373 374 375 376 377 378 379 380 381 382 383 384 385 386 387 388 389 390\n",
      " 391 392 393 394 395 396 397 398 399 400 401 402 403 404 405 406 407 408\n",
      " 409 410 411 412 413 414 415 416 417 418 419 420 421 422 423 424 425 426\n",
      " 427 428 429 430 431 432 433 434 435 436 437 438 439 440 441 442 443 444\n",
      " 445 446 447 448 449 450 451 452 453 454 455 456 457 458 459 460 461 462\n",
      " 463 464 465 466 467 468 469 470 471 472 473 474 475 476 477 478 479 480\n",
      " 481 482 483 484]\n",
      "  Test:  index=[ 0  1  2  3  4  5  6  7  8  9 10 11 12 13 14 15 16 17 18 19 20 21 22 23\n",
      " 24 25 26 27 28 29 30 31 32 33 34 35 36 37 38 39 40 41 42 43 44 45 46 47\n",
      " 48]\n",
      "Fold 1:\n",
      "  Train: index=[  0   1   2   3   4   5   6   7   8   9  10  11  12  13  14  15  16  17\n",
      "  18  19  20  21  22  23  24  25  26  27  28  29  30  31  32  33  34  35\n",
      "  36  37  38  39  40  41  42  43  44  45  46  47  48  98  99 100 101 102\n",
      " 103 104 105 106 107 108 109 110 111 112 113 114 115 116 117 118 119 120\n",
      " 121 122 123 124 125 126 127 128 129 130 131 132 133 134 135 136 137 138\n",
      " 139 140 141 142 143 144 145 146 147 148 149 150 151 152 153 154 155 156\n",
      " 157 158 159 160 161 162 163 164 165 166 167 168 169 170 171 172 173 174\n",
      " 175 176 177 178 179 180 181 182 183 184 185 186 187 188 189 190 191 192\n",
      " 193 194 195 196 197 198 199 200 201 202 203 204 205 206 207 208 209 210\n",
      " 211 212 213 214 215 216 217 218 219 220 221 222 223 224 225 226 227 228\n",
      " 229 230 231 232 233 234 235 236 237 238 239 240 241 242 243 244 245 246\n",
      " 247 248 249 250 251 252 253 254 255 256 257 258 259 260 261 262 263 264\n",
      " 265 266 267 268 269 270 271 272 273 274 275 276 277 278 279 280 281 282\n",
      " 283 284 285 286 287 288 289 290 291 292 293 294 295 296 297 298 299 300\n",
      " 301 302 303 304 305 306 307 308 309 310 311 312 313 314 315 316 317 318\n",
      " 319 320 321 322 323 324 325 326 327 328 329 330 331 332 333 334 335 336\n",
      " 337 338 339 340 341 342 343 344 345 346 347 348 349 350 351 352 353 354\n",
      " 355 356 357 358 359 360 361 362 363 364 365 366 367 368 369 370 371 372\n",
      " 373 374 375 376 377 378 379 380 381 382 383 384 385 386 387 388 389 390\n",
      " 391 392 393 394 395 396 397 398 399 400 401 402 403 404 405 406 407 408\n",
      " 409 410 411 412 413 414 415 416 417 418 419 420 421 422 423 424 425 426\n",
      " 427 428 429 430 431 432 433 434 435 436 437 438 439 440 441 442 443 444\n",
      " 445 446 447 448 449 450 451 452 453 454 455 456 457 458 459 460 461 462\n",
      " 463 464 465 466 467 468 469 470 471 472 473 474 475 476 477 478 479 480\n",
      " 481 482 483 484]\n",
      "  Test:  index=[49 50 51 52 53 54 55 56 57 58 59 60 61 62 63 64 65 66 67 68 69 70 71 72\n",
      " 73 74 75 76 77 78 79 80 81 82 83 84 85 86 87 88 89 90 91 92 93 94 95 96\n",
      " 97]\n",
      "Fold 2:\n",
      "  Train: index=[  0   1   2   3   4   5   6   7   8   9  10  11  12  13  14  15  16  17\n",
      "  18  19  20  21  22  23  24  25  26  27  28  29  30  31  32  33  34  35\n",
      "  36  37  38  39  40  41  42  43  44  45  46  47  48  49  50  51  52  53\n",
      "  54  55  56  57  58  59  60  61  62  63  64  65  66  67  68  69  70  71\n",
      "  72  73  74  75  76  77  78  79  80  81  82  83  84  85  86  87  88  89\n",
      "  90  91  92  93  94  95  96  97 147 148 149 150 151 152 153 154 155 156\n",
      " 157 158 159 160 161 162 163 164 165 166 167 168 169 170 171 172 173 174\n",
      " 175 176 177 178 179 180 181 182 183 184 185 186 187 188 189 190 191 192\n",
      " 193 194 195 196 197 198 199 200 201 202 203 204 205 206 207 208 209 210\n",
      " 211 212 213 214 215 216 217 218 219 220 221 222 223 224 225 226 227 228\n",
      " 229 230 231 232 233 234 235 236 237 238 239 240 241 242 243 244 245 246\n",
      " 247 248 249 250 251 252 253 254 255 256 257 258 259 260 261 262 263 264\n",
      " 265 266 267 268 269 270 271 272 273 274 275 276 277 278 279 280 281 282\n",
      " 283 284 285 286 287 288 289 290 291 292 293 294 295 296 297 298 299 300\n",
      " 301 302 303 304 305 306 307 308 309 310 311 312 313 314 315 316 317 318\n",
      " 319 320 321 322 323 324 325 326 327 328 329 330 331 332 333 334 335 336\n",
      " 337 338 339 340 341 342 343 344 345 346 347 348 349 350 351 352 353 354\n",
      " 355 356 357 358 359 360 361 362 363 364 365 366 367 368 369 370 371 372\n",
      " 373 374 375 376 377 378 379 380 381 382 383 384 385 386 387 388 389 390\n",
      " 391 392 393 394 395 396 397 398 399 400 401 402 403 404 405 406 407 408\n",
      " 409 410 411 412 413 414 415 416 417 418 419 420 421 422 423 424 425 426\n",
      " 427 428 429 430 431 432 433 434 435 436 437 438 439 440 441 442 443 444\n",
      " 445 446 447 448 449 450 451 452 453 454 455 456 457 458 459 460 461 462\n",
      " 463 464 465 466 467 468 469 470 471 472 473 474 475 476 477 478 479 480\n",
      " 481 482 483 484]\n",
      "  Test:  index=[ 98  99 100 101 102 103 104 105 106 107 108 109 110 111 112 113 114 115\n",
      " 116 117 118 119 120 121 122 123 124 125 126 127 128 129 130 131 132 133\n",
      " 134 135 136 137 138 139 140 141 142 143 144 145 146]\n",
      "Fold 3:\n",
      "  Train: index=[  0   1   2   3   4   5   6   7   8   9  10  11  12  13  14  15  16  17\n",
      "  18  19  20  21  22  23  24  25  26  27  28  29  30  31  32  33  34  35\n",
      "  36  37  38  39  40  41  42  43  44  45  46  47  48  49  50  51  52  53\n",
      "  54  55  56  57  58  59  60  61  62  63  64  65  66  67  68  69  70  71\n",
      "  72  73  74  75  76  77  78  79  80  81  82  83  84  85  86  87  88  89\n",
      "  90  91  92  93  94  95  96  97  98  99 100 101 102 103 104 105 106 107\n",
      " 108 109 110 111 112 113 114 115 116 117 118 119 120 121 122 123 124 125\n",
      " 126 127 128 129 130 131 132 133 134 135 136 137 138 139 140 141 142 143\n",
      " 144 145 146 196 197 198 199 200 201 202 203 204 205 206 207 208 209 210\n",
      " 211 212 213 214 215 216 217 218 219 220 221 222 223 224 225 226 227 228\n",
      " 229 230 231 232 233 234 235 236 237 238 239 240 241 242 243 244 245 246\n",
      " 247 248 249 250 251 252 253 254 255 256 257 258 259 260 261 262 263 264\n",
      " 265 266 267 268 269 270 271 272 273 274 275 276 277 278 279 280 281 282\n",
      " 283 284 285 286 287 288 289 290 291 292 293 294 295 296 297 298 299 300\n",
      " 301 302 303 304 305 306 307 308 309 310 311 312 313 314 315 316 317 318\n",
      " 319 320 321 322 323 324 325 326 327 328 329 330 331 332 333 334 335 336\n",
      " 337 338 339 340 341 342 343 344 345 346 347 348 349 350 351 352 353 354\n",
      " 355 356 357 358 359 360 361 362 363 364 365 366 367 368 369 370 371 372\n",
      " 373 374 375 376 377 378 379 380 381 382 383 384 385 386 387 388 389 390\n",
      " 391 392 393 394 395 396 397 398 399 400 401 402 403 404 405 406 407 408\n",
      " 409 410 411 412 413 414 415 416 417 418 419 420 421 422 423 424 425 426\n",
      " 427 428 429 430 431 432 433 434 435 436 437 438 439 440 441 442 443 444\n",
      " 445 446 447 448 449 450 451 452 453 454 455 456 457 458 459 460 461 462\n",
      " 463 464 465 466 467 468 469 470 471 472 473 474 475 476 477 478 479 480\n",
      " 481 482 483 484]\n",
      "  Test:  index=[147 148 149 150 151 152 153 154 155 156 157 158 159 160 161 162 163 164\n",
      " 165 166 167 168 169 170 171 172 173 174 175 176 177 178 179 180 181 182\n",
      " 183 184 185 186 187 188 189 190 191 192 193 194 195]\n",
      "Fold 4:\n",
      "  Train: index=[  0   1   2   3   4   5   6   7   8   9  10  11  12  13  14  15  16  17\n",
      "  18  19  20  21  22  23  24  25  26  27  28  29  30  31  32  33  34  35\n",
      "  36  37  38  39  40  41  42  43  44  45  46  47  48  49  50  51  52  53\n",
      "  54  55  56  57  58  59  60  61  62  63  64  65  66  67  68  69  70  71\n",
      "  72  73  74  75  76  77  78  79  80  81  82  83  84  85  86  87  88  89\n",
      "  90  91  92  93  94  95  96  97  98  99 100 101 102 103 104 105 106 107\n",
      " 108 109 110 111 112 113 114 115 116 117 118 119 120 121 122 123 124 125\n",
      " 126 127 128 129 130 131 132 133 134 135 136 137 138 139 140 141 142 143\n",
      " 144 145 146 147 148 149 150 151 152 153 154 155 156 157 158 159 160 161\n",
      " 162 163 164 165 166 167 168 169 170 171 172 173 174 175 176 177 178 179\n",
      " 180 181 182 183 184 185 186 187 188 189 190 191 192 193 194 195 245 246\n",
      " 247 248 249 250 251 252 253 254 255 256 257 258 259 260 261 262 263 264\n",
      " 265 266 267 268 269 270 271 272 273 274 275 276 277 278 279 280 281 282\n",
      " 283 284 285 286 287 288 289 290 291 292 293 294 295 296 297 298 299 300\n",
      " 301 302 303 304 305 306 307 308 309 310 311 312 313 314 315 316 317 318\n",
      " 319 320 321 322 323 324 325 326 327 328 329 330 331 332 333 334 335 336\n",
      " 337 338 339 340 341 342 343 344 345 346 347 348 349 350 351 352 353 354\n",
      " 355 356 357 358 359 360 361 362 363 364 365 366 367 368 369 370 371 372\n",
      " 373 374 375 376 377 378 379 380 381 382 383 384 385 386 387 388 389 390\n",
      " 391 392 393 394 395 396 397 398 399 400 401 402 403 404 405 406 407 408\n",
      " 409 410 411 412 413 414 415 416 417 418 419 420 421 422 423 424 425 426\n",
      " 427 428 429 430 431 432 433 434 435 436 437 438 439 440 441 442 443 444\n",
      " 445 446 447 448 449 450 451 452 453 454 455 456 457 458 459 460 461 462\n",
      " 463 464 465 466 467 468 469 470 471 472 473 474 475 476 477 478 479 480\n",
      " 481 482 483 484]\n",
      "  Test:  index=[196 197 198 199 200 201 202 203 204 205 206 207 208 209 210 211 212 213\n",
      " 214 215 216 217 218 219 220 221 222 223 224 225 226 227 228 229 230 231\n",
      " 232 233 234 235 236 237 238 239 240 241 242 243 244]\n",
      "Fold 5:\n",
      "  Train: index=[  0   1   2   3   4   5   6   7   8   9  10  11  12  13  14  15  16  17\n",
      "  18  19  20  21  22  23  24  25  26  27  28  29  30  31  32  33  34  35\n",
      "  36  37  38  39  40  41  42  43  44  45  46  47  48  49  50  51  52  53\n",
      "  54  55  56  57  58  59  60  61  62  63  64  65  66  67  68  69  70  71\n",
      "  72  73  74  75  76  77  78  79  80  81  82  83  84  85  86  87  88  89\n",
      "  90  91  92  93  94  95  96  97  98  99 100 101 102 103 104 105 106 107\n",
      " 108 109 110 111 112 113 114 115 116 117 118 119 120 121 122 123 124 125\n",
      " 126 127 128 129 130 131 132 133 134 135 136 137 138 139 140 141 142 143\n",
      " 144 145 146 147 148 149 150 151 152 153 154 155 156 157 158 159 160 161\n",
      " 162 163 164 165 166 167 168 169 170 171 172 173 174 175 176 177 178 179\n",
      " 180 181 182 183 184 185 186 187 188 189 190 191 192 193 194 195 196 197\n",
      " 198 199 200 201 202 203 204 205 206 207 208 209 210 211 212 213 214 215\n",
      " 216 217 218 219 220 221 222 223 224 225 226 227 228 229 230 231 232 233\n",
      " 234 235 236 237 238 239 240 241 242 243 244 293 294 295 296 297 298 299\n",
      " 300 301 302 303 304 305 306 307 308 309 310 311 312 313 314 315 316 317\n",
      " 318 319 320 321 322 323 324 325 326 327 328 329 330 331 332 333 334 335\n",
      " 336 337 338 339 340 341 342 343 344 345 346 347 348 349 350 351 352 353\n",
      " 354 355 356 357 358 359 360 361 362 363 364 365 366 367 368 369 370 371\n",
      " 372 373 374 375 376 377 378 379 380 381 382 383 384 385 386 387 388 389\n",
      " 390 391 392 393 394 395 396 397 398 399 400 401 402 403 404 405 406 407\n",
      " 408 409 410 411 412 413 414 415 416 417 418 419 420 421 422 423 424 425\n",
      " 426 427 428 429 430 431 432 433 434 435 436 437 438 439 440 441 442 443\n",
      " 444 445 446 447 448 449 450 451 452 453 454 455 456 457 458 459 460 461\n",
      " 462 463 464 465 466 467 468 469 470 471 472 473 474 475 476 477 478 479\n",
      " 480 481 482 483 484]\n",
      "  Test:  index=[245 246 247 248 249 250 251 252 253 254 255 256 257 258 259 260 261 262\n",
      " 263 264 265 266 267 268 269 270 271 272 273 274 275 276 277 278 279 280\n",
      " 281 282 283 284 285 286 287 288 289 290 291 292]\n",
      "Fold 6:\n",
      "  Train: index=[  0   1   2   3   4   5   6   7   8   9  10  11  12  13  14  15  16  17\n",
      "  18  19  20  21  22  23  24  25  26  27  28  29  30  31  32  33  34  35\n",
      "  36  37  38  39  40  41  42  43  44  45  46  47  48  49  50  51  52  53\n",
      "  54  55  56  57  58  59  60  61  62  63  64  65  66  67  68  69  70  71\n",
      "  72  73  74  75  76  77  78  79  80  81  82  83  84  85  86  87  88  89\n",
      "  90  91  92  93  94  95  96  97  98  99 100 101 102 103 104 105 106 107\n",
      " 108 109 110 111 112 113 114 115 116 117 118 119 120 121 122 123 124 125\n",
      " 126 127 128 129 130 131 132 133 134 135 136 137 138 139 140 141 142 143\n",
      " 144 145 146 147 148 149 150 151 152 153 154 155 156 157 158 159 160 161\n",
      " 162 163 164 165 166 167 168 169 170 171 172 173 174 175 176 177 178 179\n",
      " 180 181 182 183 184 185 186 187 188 189 190 191 192 193 194 195 196 197\n",
      " 198 199 200 201 202 203 204 205 206 207 208 209 210 211 212 213 214 215\n",
      " 216 217 218 219 220 221 222 223 224 225 226 227 228 229 230 231 232 233\n",
      " 234 235 236 237 238 239 240 241 242 243 244 245 246 247 248 249 250 251\n",
      " 252 253 254 255 256 257 258 259 260 261 262 263 264 265 266 267 268 269\n",
      " 270 271 272 273 274 275 276 277 278 279 280 281 282 283 284 285 286 287\n",
      " 288 289 290 291 292 341 342 343 344 345 346 347 348 349 350 351 352 353\n",
      " 354 355 356 357 358 359 360 361 362 363 364 365 366 367 368 369 370 371\n",
      " 372 373 374 375 376 377 378 379 380 381 382 383 384 385 386 387 388 389\n",
      " 390 391 392 393 394 395 396 397 398 399 400 401 402 403 404 405 406 407\n",
      " 408 409 410 411 412 413 414 415 416 417 418 419 420 421 422 423 424 425\n",
      " 426 427 428 429 430 431 432 433 434 435 436 437 438 439 440 441 442 443\n",
      " 444 445 446 447 448 449 450 451 452 453 454 455 456 457 458 459 460 461\n",
      " 462 463 464 465 466 467 468 469 470 471 472 473 474 475 476 477 478 479\n",
      " 480 481 482 483 484]\n",
      "  Test:  index=[293 294 295 296 297 298 299 300 301 302 303 304 305 306 307 308 309 310\n",
      " 311 312 313 314 315 316 317 318 319 320 321 322 323 324 325 326 327 328\n",
      " 329 330 331 332 333 334 335 336 337 338 339 340]\n",
      "Fold 7:\n",
      "  Train: index=[  0   1   2   3   4   5   6   7   8   9  10  11  12  13  14  15  16  17\n",
      "  18  19  20  21  22  23  24  25  26  27  28  29  30  31  32  33  34  35\n",
      "  36  37  38  39  40  41  42  43  44  45  46  47  48  49  50  51  52  53\n",
      "  54  55  56  57  58  59  60  61  62  63  64  65  66  67  68  69  70  71\n",
      "  72  73  74  75  76  77  78  79  80  81  82  83  84  85  86  87  88  89\n",
      "  90  91  92  93  94  95  96  97  98  99 100 101 102 103 104 105 106 107\n",
      " 108 109 110 111 112 113 114 115 116 117 118 119 120 121 122 123 124 125\n",
      " 126 127 128 129 130 131 132 133 134 135 136 137 138 139 140 141 142 143\n",
      " 144 145 146 147 148 149 150 151 152 153 154 155 156 157 158 159 160 161\n",
      " 162 163 164 165 166 167 168 169 170 171 172 173 174 175 176 177 178 179\n",
      " 180 181 182 183 184 185 186 187 188 189 190 191 192 193 194 195 196 197\n",
      " 198 199 200 201 202 203 204 205 206 207 208 209 210 211 212 213 214 215\n",
      " 216 217 218 219 220 221 222 223 224 225 226 227 228 229 230 231 232 233\n",
      " 234 235 236 237 238 239 240 241 242 243 244 245 246 247 248 249 250 251\n",
      " 252 253 254 255 256 257 258 259 260 261 262 263 264 265 266 267 268 269\n",
      " 270 271 272 273 274 275 276 277 278 279 280 281 282 283 284 285 286 287\n",
      " 288 289 290 291 292 293 294 295 296 297 298 299 300 301 302 303 304 305\n",
      " 306 307 308 309 310 311 312 313 314 315 316 317 318 319 320 321 322 323\n",
      " 324 325 326 327 328 329 330 331 332 333 334 335 336 337 338 339 340 389\n",
      " 390 391 392 393 394 395 396 397 398 399 400 401 402 403 404 405 406 407\n",
      " 408 409 410 411 412 413 414 415 416 417 418 419 420 421 422 423 424 425\n",
      " 426 427 428 429 430 431 432 433 434 435 436 437 438 439 440 441 442 443\n",
      " 444 445 446 447 448 449 450 451 452 453 454 455 456 457 458 459 460 461\n",
      " 462 463 464 465 466 467 468 469 470 471 472 473 474 475 476 477 478 479\n",
      " 480 481 482 483 484]\n",
      "  Test:  index=[341 342 343 344 345 346 347 348 349 350 351 352 353 354 355 356 357 358\n",
      " 359 360 361 362 363 364 365 366 367 368 369 370 371 372 373 374 375 376\n",
      " 377 378 379 380 381 382 383 384 385 386 387 388]\n",
      "Fold 8:\n",
      "  Train: index=[  0   1   2   3   4   5   6   7   8   9  10  11  12  13  14  15  16  17\n",
      "  18  19  20  21  22  23  24  25  26  27  28  29  30  31  32  33  34  35\n",
      "  36  37  38  39  40  41  42  43  44  45  46  47  48  49  50  51  52  53\n",
      "  54  55  56  57  58  59  60  61  62  63  64  65  66  67  68  69  70  71\n",
      "  72  73  74  75  76  77  78  79  80  81  82  83  84  85  86  87  88  89\n",
      "  90  91  92  93  94  95  96  97  98  99 100 101 102 103 104 105 106 107\n",
      " 108 109 110 111 112 113 114 115 116 117 118 119 120 121 122 123 124 125\n",
      " 126 127 128 129 130 131 132 133 134 135 136 137 138 139 140 141 142 143\n",
      " 144 145 146 147 148 149 150 151 152 153 154 155 156 157 158 159 160 161\n",
      " 162 163 164 165 166 167 168 169 170 171 172 173 174 175 176 177 178 179\n",
      " 180 181 182 183 184 185 186 187 188 189 190 191 192 193 194 195 196 197\n",
      " 198 199 200 201 202 203 204 205 206 207 208 209 210 211 212 213 214 215\n",
      " 216 217 218 219 220 221 222 223 224 225 226 227 228 229 230 231 232 233\n",
      " 234 235 236 237 238 239 240 241 242 243 244 245 246 247 248 249 250 251\n",
      " 252 253 254 255 256 257 258 259 260 261 262 263 264 265 266 267 268 269\n",
      " 270 271 272 273 274 275 276 277 278 279 280 281 282 283 284 285 286 287\n",
      " 288 289 290 291 292 293 294 295 296 297 298 299 300 301 302 303 304 305\n",
      " 306 307 308 309 310 311 312 313 314 315 316 317 318 319 320 321 322 323\n",
      " 324 325 326 327 328 329 330 331 332 333 334 335 336 337 338 339 340 341\n",
      " 342 343 344 345 346 347 348 349 350 351 352 353 354 355 356 357 358 359\n",
      " 360 361 362 363 364 365 366 367 368 369 370 371 372 373 374 375 376 377\n",
      " 378 379 380 381 382 383 384 385 386 387 388 437 438 439 440 441 442 443\n",
      " 444 445 446 447 448 449 450 451 452 453 454 455 456 457 458 459 460 461\n",
      " 462 463 464 465 466 467 468 469 470 471 472 473 474 475 476 477 478 479\n",
      " 480 481 482 483 484]\n",
      "  Test:  index=[389 390 391 392 393 394 395 396 397 398 399 400 401 402 403 404 405 406\n",
      " 407 408 409 410 411 412 413 414 415 416 417 418 419 420 421 422 423 424\n",
      " 425 426 427 428 429 430 431 432 433 434 435 436]\n",
      "Fold 9:\n",
      "  Train: index=[  0   1   2   3   4   5   6   7   8   9  10  11  12  13  14  15  16  17\n",
      "  18  19  20  21  22  23  24  25  26  27  28  29  30  31  32  33  34  35\n",
      "  36  37  38  39  40  41  42  43  44  45  46  47  48  49  50  51  52  53\n",
      "  54  55  56  57  58  59  60  61  62  63  64  65  66  67  68  69  70  71\n",
      "  72  73  74  75  76  77  78  79  80  81  82  83  84  85  86  87  88  89\n",
      "  90  91  92  93  94  95  96  97  98  99 100 101 102 103 104 105 106 107\n",
      " 108 109 110 111 112 113 114 115 116 117 118 119 120 121 122 123 124 125\n",
      " 126 127 128 129 130 131 132 133 134 135 136 137 138 139 140 141 142 143\n",
      " 144 145 146 147 148 149 150 151 152 153 154 155 156 157 158 159 160 161\n",
      " 162 163 164 165 166 167 168 169 170 171 172 173 174 175 176 177 178 179\n",
      " 180 181 182 183 184 185 186 187 188 189 190 191 192 193 194 195 196 197\n",
      " 198 199 200 201 202 203 204 205 206 207 208 209 210 211 212 213 214 215\n",
      " 216 217 218 219 220 221 222 223 224 225 226 227 228 229 230 231 232 233\n",
      " 234 235 236 237 238 239 240 241 242 243 244 245 246 247 248 249 250 251\n",
      " 252 253 254 255 256 257 258 259 260 261 262 263 264 265 266 267 268 269\n",
      " 270 271 272 273 274 275 276 277 278 279 280 281 282 283 284 285 286 287\n",
      " 288 289 290 291 292 293 294 295 296 297 298 299 300 301 302 303 304 305\n",
      " 306 307 308 309 310 311 312 313 314 315 316 317 318 319 320 321 322 323\n",
      " 324 325 326 327 328 329 330 331 332 333 334 335 336 337 338 339 340 341\n",
      " 342 343 344 345 346 347 348 349 350 351 352 353 354 355 356 357 358 359\n",
      " 360 361 362 363 364 365 366 367 368 369 370 371 372 373 374 375 376 377\n",
      " 378 379 380 381 382 383 384 385 386 387 388 389 390 391 392 393 394 395\n",
      " 396 397 398 399 400 401 402 403 404 405 406 407 408 409 410 411 412 413\n",
      " 414 415 416 417 418 419 420 421 422 423 424 425 426 427 428 429 430 431\n",
      " 432 433 434 435 436]\n",
      "  Test:  index=[437 438 439 440 441 442 443 444 445 446 447 448 449 450 451 452 453 454\n",
      " 455 456 457 458 459 460 461 462 463 464 465 466 467 468 469 470 471 472\n",
      " 473 474 475 476 477 478 479 480 481 482 483 484]\n",
      "9.896907216494846\n"
     ]
    }
   ],
   "source": [
    "import numpy as np\n",
    "from sklearn.model_selection import KFold\n",
    "\n",
    "indices = np.arange(0, 485, 1)\n",
    "kf = KFold(n_splits=10)\n",
    "\n",
    "for i, (train_index, test_index) in enumerate(kf.split(indices)):\n",
    "    print(f\"Fold {i}:\")\n",
    "    print(f\"  Train: index={train_index}\")\n",
    "    print(f\"  Test:  index={test_index}\")\n",
    "print(len(test_index)/len(indices) *100)"
   ]
  },
  {
   "cell_type": "code",
   "execution_count": 47,
   "metadata": {},
   "outputs": [
    {
     "name": "stdout",
     "output_type": "stream",
     "text": [
      "25.0\n"
     ]
    }
   ],
   "source": [
    "import json\n",
    "# Read in train and validation indices\n",
    "with open('../data/data_indices.json', 'r') as f:\n",
    "    data_indices = json.load(f)\n",
    "train_indices = data_indices['train_indices']\n",
    "val_indices = data_indices['val_indices']\n",
    "print(len(val_indices) / len(train_indices)*100)"
   ]
  },
  {
   "cell_type": "code",
   "execution_count": 97,
   "metadata": {},
   "outputs": [
    {
     "name": "stdout",
     "output_type": "stream",
     "text": [
      "25.15463917525773\n"
     ]
    }
   ],
   "source": [
    "import numpy as np\n",
    "from sklearn.model_selection import train_test_split\n",
    "\n",
    "indices = np.arange(0, 485, 1)\n",
    "\n",
    "X_train, X_test = train_test_split(indices, test_size=0.25, shuffle=True)\n",
    "\n",
    "col = []\n",
    "for i in range(1000):\n",
    "    X_train, X_test = train_test_split(indices, test_size=0.25, shuffle=True)\n"
   ]
  },
  {
   "attachments": {},
   "cell_type": "markdown",
   "metadata": {},
   "source": [
    "**Metrics**"
   ]
  },
  {
   "cell_type": "code",
   "execution_count": 60,
   "metadata": {},
   "outputs": [],
   "source": [
    "import torch\n",
    "import numpy as np\n",
    "import torch.nn.functional as F\n",
    "import matplotlib.pyplot as plt\n",
    "from datasets import MVTSDataset\n",
    "from torch.utils.data import DataLoader"
   ]
  },
  {
   "cell_type": "code",
   "execution_count": 53,
   "metadata": {},
   "outputs": [],
   "source": [
    "# Load model \n",
    "def get_model(model_type: str) -> torch.nn: \n",
    "    \"\"\"\n",
    "    Here we load the model. \n",
    "    \"\"\"\n",
    "\n",
    "    from models import CNNModel, TransformerEncoder, CombinedModel\n",
    "\n",
    "    if model_type == 'cnn':\n",
    "        model = CNNModel()\n",
    "        path_to_best_model = '../models/cnn_model_standard.pth'\n",
    "\n",
    "    if model_type == 'combined':\n",
    "        transformer_model = TransformerEncoder(feat_dim=35,\n",
    "                                                max_len=40,\n",
    "                                                d_model=35,\n",
    "                                                n_heads=7,\n",
    "                                                num_layers=1,\n",
    "                                                dim_feedforward=256,\n",
    "                                                dropout=0.1,\n",
    "                                                freeze=False)\n",
    "        cnn_model = CNNModel()\n",
    "        model = CombinedModel(transformer_model, cnn_model)\n",
    "        path_to_best_model = '../models/classification_standard_norm.pt'\n",
    "        \n",
    "    model.load_state_dict(torch.load(path_to_best_model))\n",
    "    model.eval();\n",
    "        \n",
    "    return model\n",
    "\n",
    "model = get_model('combined');"
   ]
  },
  {
   "cell_type": "code",
   "execution_count": 55,
   "metadata": {},
   "outputs": [
    {
     "name": "stdout",
     "output_type": "stream",
     "text": [
      "[0.6  0.99 1.   1.   1.   1.   1.   1.   1.   1.   1.   1.   1.   1.\n",
      " 1.   1.   1.   0.98 1.   0.98 1.   1.   0.99 1.   1.   1.   1.   1.\n",
      " 1.   1.   1.   1.   1.   1.   1.   1.   1.   0.98 1.   1.   1.   1.\n",
      " 1.   0.99 0.94 0.54 1.   1.   1.   1.   1.   1.   1.   1.   1.   0.98\n",
      " 0.99 0.92 1.   1.   1.   1.   0.97 1.   0.95 1.   0.93 0.79 1.   1.\n",
      " 1.   0.99 0.95 1.   1.   1.   1.   1.   0.99 0.96 1.   1.   1.   0.99\n",
      " 1.   1.   1.   0.85 1.   1.   0.99 1.   0.68 1.   1.   1.   0.99 0.99\n",
      " 1.   1.   1.   1.   1.   1.   1.   1.   1.   1.   1.   1.   1.   1.\n",
      " 1.   1.   0.89 1.   1.   1.   1.   0.96 1.   1.   0.97 0.63 1.   1.\n",
      " 1.   1.   1.   1.   1.   1.   1.   1.   1.   1.   1.   1.   0.21 1.\n",
      " 0.38 1.   0.99 1.   0.96 1.   0.67 1.   1.   1.   1.   0.98 0.99 1.\n",
      " 1.   1.   1.   0.99 1.   1.   1.   1.   0.89 1.   1.   1.   1.   1.\n",
      " 1.   1.   0.88 0.98 0.99 0.97 1.   1.   1.   1.   1.   1.   1.   0.99\n",
      " 1.   1.   0.98 1.   0.96 1.   1.   1.   1.   1.   1.   0.28 1.   0.99\n",
      " 1.   1.   1.   1.   0.99 1.   1.   1.   1.   1.   1.   1.   1.   1.\n",
      " 1.   1.   0.99 0.74 1.   0.93 1.   1.   1.   1.   1.   1.   1.   1.\n",
      " 1.   1.   1.   0.97 1.   0.94 1.   1.   1.   1.   1.   1.   1.   1.\n",
      " 0.85 1.   0.54 1.   0.98 1.   0.28 0.01 0.03 0.   0.   0.   0.   0.\n",
      " 0.01 0.01 0.   0.   0.14 0.   0.   0.06 0.   0.13 0.   0.   0.   0.28\n",
      " 0.   0.   0.19 0.   0.59 0.   0.05 0.   0.   0.4  0.01 0.   0.48 0.24\n",
      " 0.01 0.   0.   0.03 0.53 0.38 0.   0.04 0.48 0.   0.   0.02 0.05 0.\n",
      " 0.01 0.   0.01 0.   0.   0.45 0.39 0.02 0.   0.01 0.   0.   0.17 0.\n",
      " 0.   0.   0.01 0.26 0.   0.   0.   0.01 0.03 0.   0.   0.   0.07 0.06\n",
      " 0.01 0.   0.   0.   0.   0.   0.   0.01 0.   0.   0.   0.   0.   0.01\n",
      " 0.02 0.72 0.   0.   0.   0.   0.18 0.   0.   0.03 0.   0.   0.02 0.03\n",
      " 0.07 0.01 0.05 0.28 0.   0.   0.   0.   0.   0.   0.   0.01 0.19 0.\n",
      " 0.56 0.   0.   0.05 0.   0.02 0.02 0.08 0.   0.01 0.15 0.   0.   0.\n",
      " 0.   0.   0.   0.06 0.   0.   0.73 0.   0.   0.02 0.18 0.   0.01 0.\n",
      " 0.   0.   0.   0.02 0.   0.   0.02 0.   0.08 0.   0.   0.   0.   0.\n",
      " 0.29 0.   0.04 0.   0.   0.15 0.01 0.   0.04 0.04 0.02 0.19 0.   0.02\n",
      " 0.   0.   0.1  0.   0.   0.03 0.   0.07 0.   0.   0.04 0.02 0.   0.\n",
      " 0.07 0.   0.   0.07 0.   0.   0.07 0.   0.   0.07 0.01 0.   0.   0.\n",
      " 0.07 0.   0.   0.01 0.   0.04 0.   0.61 0.   0.   0.05 0.   0.08 0.02\n",
      " 0.06 0.   0.   0.   0.   0.   0.02 0.   0.01 0.   0.   0.   0.   0.\n",
      " 0.01 0.01 0.09 0.01 0.06 0.   0.02 0.   0.01]\n",
      "[1 1 1 1 1 1 1 1 1 1 1 1 1 1 1 1 1 1 1 1 1 1 1 1 1 1 1 1 1 1 1 1 1 1 1 1 1\n",
      " 1 1 1 1 1 1 1 1 1 1 1 1 1 1 1 1 1 1 1 1 1 1 1 1 1 1 1 1 1 1 1 1 1 1 1 1 1\n",
      " 1 1 1 1 1 1 1 1 1 1 1 1 1 1 1 1 1 1 1 1 1 1 1 1 1 1 1 1 1 1 1 1 1 1 1 1 1\n",
      " 1 1 1 1 1 1 1 1 1 1 1 1 1 1 1 1 1 1 1 1 1 1 1 1 1 1 1 1 1 1 1 1 1 1 1 1 1\n",
      " 1 1 1 1 1 1 1 1 1 1 1 1 1 1 1 1 1 1 1 1 1 1 1 1 1 1 1 1 1 1 1 1 1 1 1 1 1\n",
      " 1 1 1 1 1 1 1 1 1 1 1 1 1 1 1 1 1 1 1 1 1 1 1 1 1 1 1 1 1 1 1 1 1 1 1 1 1\n",
      " 1 1 1 1 1 1 1 1 1 1 1 1 1 1 1 1 1 1 1 1 1 1 0 0 0 0 0 0 0 0 0 0 0 0 0 0 0\n",
      " 0 0 0 0 0 0 0 0 0 0 0 0 0 0 0 0 0 0 0 0 0 0 0 0 0 0 0 0 0 0 0 0 0 0 0 0 0\n",
      " 0 0 0 0 0 0 0 0 0 0 0 0 0 0 0 0 0 0 0 0 0 0 0 0 0 0 0 0 0 0 0 0 0 0 0 0 0\n",
      " 0 0 0 0 0 0 0 0 0 0 0 0 0 0 0 0 0 0 0 0 0 0 0 0 0 0 0 0 0 0 0 0 0 0 0 0 0\n",
      " 0 0 0 0 0 0 0 0 0 0 0 0 0 0 0 0 0 0 0 0 0 0 0 0 0 0 0 0 0 0 0 0 0 0 0 0 0\n",
      " 0 0 0 0 0 0 0 0 0 0 0 0 0 0 0 0 0 0 0 0 0 0 0 0 0 0 0 0 0 0 0 0 0 0 0 0 0\n",
      " 0 0 0 0 0 0 0 0 0 0 0 0 0 0 0 0 0 0 0 0 0 0 0 0 0 0 0 0 0 0 0 0 0 0 0 0 0\n",
      " 0 0 0 0]\n"
     ]
    }
   ],
   "source": [
    "# get predictions\n",
    "\n",
    "# Load all data\n",
    "indices = np.arange(0, 485, 1)\n",
    "dataloader = DataLoader(MVTSDataset(indices, norm_type='standard'), batch_size=len(indices), shuffle=False, drop_last=False)\n",
    "data, _, labels = next(iter(dataloader))\n",
    "data = torch.nan_to_num(data)\n",
    "padding_mask = torch.ones(485, 40).bool()\n",
    "\n",
    "logits = model(data, padding_mask) # Get logits\n",
    "probabilities = F.softmax(logits, dim=1) # Apply softmax function to logits\n",
    "y_hat = probabilities[:, 1].detach().numpy() # Extract the probability for the positive class\n",
    "y_true = labels.detach().numpy() # Extract the true labels\n",
    "\n",
    "print(np.round(y_hat,2))\n",
    "print(y_true)"
   ]
  },
  {
   "cell_type": "code",
   "execution_count": 56,
   "metadata": {},
   "outputs": [],
   "source": [
    "# Calculate metrics \n",
    "\n",
    "# Step 1: Calculate Brier skill score\n",
    "def calculate_brier_skill_score(y_true, y_hat):\n",
    "    brier_score = ((y_true - y_hat) ** 2).mean()\n",
    "    climatology_brier_score = ((y_true.mean() - y_true) ** 2).mean()\n",
    "    brier_skill_score = 1 - (brier_score / climatology_brier_score)\n",
    "    return brier_skill_score\n",
    "\n",
    "brier_skill_score = calculate_brier_skill_score(y_true, y_hat)"
   ]
  },
  {
   "cell_type": "code",
   "execution_count": 57,
   "metadata": {},
   "outputs": [
    {
     "data": {
      "text/plain": [
       "0.9420229658765241"
      ]
     },
     "execution_count": 57,
     "metadata": {},
     "output_type": "execute_result"
    }
   ],
   "source": [
    "brier_skill_score"
   ]
  },
  {
   "cell_type": "code",
   "execution_count": 58,
   "metadata": {},
   "outputs": [],
   "source": [
    "# Step 2: Plot reliability diagram\n",
    "def plot_reliability_diagram(y_true, y_hat):\n",
    "    bins = np.linspace(0, 1, num=10)  # Adjust the number of bins as needed\n",
    "\n",
    "    bin_avg_forecast_probs = np.histogram(y_hat, bins=bins, weights=y_hat)[0] / np.histogram(y_hat, bins=bins)[0]\n",
    "    bin_observed_freqs = np.histogram(y_hat, bins=bins, weights=y_true)[0] / np.histogram(y_hat, bins=bins)[0]\n",
    "\n",
    "    plt.plot(bin_avg_forecast_probs, bin_observed_freqs, marker='o', linestyle='-', color='b')\n",
    "    plt.plot([0, 1], [0, 1], linestyle='--', color='r')  # Add the diagonal reference line\n",
    "    plt.xlabel('Forecast Probability')\n",
    "    plt.ylabel('Observed Relative Frequency')\n",
    "    plt.title('Reliability Diagram')\n",
    "    plt.show()\n",
    "\n",
    "    return None"
   ]
  },
  {
   "cell_type": "code",
   "execution_count": 72,
   "metadata": {},
   "outputs": [],
   "source": [
    "# Step 2: Plot reliability diagram with shaded region\n",
    "def plot_reliability_diagram(y_true, y_hat):\n",
    "    bins = np.linspace(0, 1, num=10)  # Adjust the number of bins as needed\n",
    "\n",
    "    bin_avg_forecast_probs = np.histogram(y_hat, bins=bins, weights=y_hat)[0] / np.histogram(y_hat, bins=bins)[0]\n",
    "    bin_observed_freqs = np.histogram(y_hat, bins=bins, weights=y_true)[0] / np.histogram(y_hat, bins=bins)[0]\n",
    "\n",
    "    # Calculate Brier Skill Score\n",
    "    brier_skill = np.round(calculate_brier_skill_score(y_true, y_hat),2)\n",
    "\n",
    "    plt.plot(bin_avg_forecast_probs, bin_observed_freqs, linestyle='--', color='k')\n",
    "    plt.plot([0, 1], [0, 1], linestyle=':', color='k')  # Add the diagonal reference line\n",
    "    plt.fill_between(bin_avg_forecast_probs, bin_observed_freqs, bin_avg_forecast_probs, where=(bin_avg_forecast_probs > bin_observed_freqs), alpha=0.2, color='k')\n",
    "    plt.xlabel('Forecast Probability')\n",
    "    plt.ylabel('Observed Relative Frequency')\n",
    "    plt.title(f'Reliability Diagram\\nBrier Skill Score: {brier_skill:.2f}')\n",
    "    plt.show()\n",
    "\n",
    "    return None"
   ]
  },
  {
   "cell_type": "code",
   "execution_count": 73,
   "metadata": {},
   "outputs": [
    {
     "data": {
      "image/png": "[encoded data removed]",
      "text/plain": [
       "<Figure size 640x480 with 1 Axes>"
      ]
     },
     "metadata": {},
     "output_type": "display_data"
    }
   ],
   "source": [
    "# Plot reliability diagram\n",
    "plot_reliability_diagram(y_true, y_hat)\n",
    "# climatology --> reference forecast that consistently predicts the average event frequency"
   ]
  },
  {
   "cell_type": "code",
   "execution_count": null,
   "metadata": {},
   "outputs": [],
   "source": []
  },
  {
   "cell_type": "code",
   "execution_count": null,
   "metadata": {},
   "outputs": [],
   "source": []
  }
 ],
 "metadata": {
  "kernelspec": {
   "display_name": "envmvts",
   "language": "python",
   "name": "python3"
  },
  "language_info": {
   "codemirror_mode": {
    "name": "ipython",
    "version": 3
   },
   "file_extension": ".py",
   "mimetype": "text/x-python",
   "name": "python",
   "nbconvert_exporter": "python",
   "pygments_lexer": "ipython3",
   "version": "3.9.12"
  },
  "orig_nbformat": 4
 },
 "nbformat": 4,
 "nbformat_minor": 2
}
