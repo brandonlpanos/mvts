{
 "cells": [
  {
   "cell_type": "code",
   "execution_count": 8,
   "metadata": {},
   "outputs": [],
   "source": [
    "import os\n",
    "import sys\n",
    "import torch\n",
    "import pickle\n",
    "import squarify\n",
    "import numpy as np\n",
    "import pandas as pd\n",
    "import matplotlib as mpl\n",
    "from sklearn import metrics\n",
    "sys.path.insert(0, \"../../src\")\n",
    "import torch.nn.functional as F\n",
    "import matplotlib.pyplot as plt\n",
    "from datasets import MVTSDataset\n",
    "from torch.utils.data import DataLoader\n",
    "from models import CNNModel, TransformerEncoder, CombinedModel\n",
    "from normalizations import shuffle_tensor_along_time, topological_shuffle, unity_based_normalization, identity_normalization"
   ]
  },
  {
   "cell_type": "code",
   "execution_count": 3,
   "metadata": {},
   "outputs": [],
   "source": [
    "def make_tree_map(dictionary, title='Relative structure importance for TSS.  ' , save_path=None):\n",
    "\n",
    "    # load my colors\n",
    "    with open('/Users/brandonlpanos/my_colors.pkl', 'rb') as f:\n",
    "        colors = pickle.load(f)\n",
    "    color_palette = [colors[i] for i in colors.keys()]\n",
    "    np.random.seed(40)\n",
    "    np.random.shuffle(color_palette)\n",
    "    \n",
    "    data = dictionary.copy()\n",
    "\n",
    "    if 'cnn_unity_topological' in data.keys():\n",
    "        data.pop('cnn_unity_topological')\n",
    "\n",
    "    if 'Unity topological' in data.keys():\n",
    "        data.pop('Unity topological')\n",
    "\n",
    "    values = list(data.values())\n",
    "\n",
    "\n",
    "    total_size = sum(values)\n",
    "    normalized_values = [v / total_size * 100 for v in values]\n",
    "    labels = list(data.keys())\n",
    "    mpl.rcParams['font.size'] = 10\n",
    "    plt.figure(figsize=(8, 6))\n",
    "    squarify.plot(sizes=normalized_values, label=labels, alpha=0.8, pad=True, color=color_palette)\n",
    "    plt.title(title, fontsize=10)\n",
    "    plt.axis('off')\n",
    "\n",
    "    if save_path is not None:\n",
    "        plt.savefig(save_path, dpi=300, bbox_inches='tight')\n",
    "\n",
    "    plt.show()\n",
    "\n",
    "    return None"
   ]
  },
  {
   "cell_type": "code",
   "execution_count": 20,
   "metadata": {},
   "outputs": [
    {
     "data": {
      "text/html": [
       "<div>\n",
       "<style scoped>\n",
       "    .dataframe tbody tr th:only-of-type {\n",
       "        vertical-align: middle;\n",
       "    }\n",
       "\n",
       "    .dataframe tbody tr th {\n",
       "        vertical-align: top;\n",
       "    }\n",
       "\n",
       "    .dataframe thead th {\n",
       "        text-align: right;\n",
       "    }\n",
       "</style>\n",
       "<table border=\"1\" class=\"dataframe\">\n",
       "  <thead>\n",
       "    <tr style=\"text-align: right;\">\n",
       "      <th></th>\n",
       "      <th>augmentation</th>\n",
       "      <th>tss</th>\n",
       "      <th>auc</th>\n",
       "      <th>hss</th>\n",
       "      <th>bss</th>\n",
       "      <th>accuracy</th>\n",
       "    </tr>\n",
       "  </thead>\n",
       "  <tbody>\n",
       "    <tr>\n",
       "      <th>384</th>\n",
       "      <td>combined_std</td>\n",
       "      <td>0.870671</td>\n",
       "      <td>0.974567</td>\n",
       "      <td>1.0</td>\n",
       "      <td>0.743421</td>\n",
       "      <td>0.934426</td>\n",
       "    </tr>\n",
       "    <tr>\n",
       "      <th>385</th>\n",
       "      <td>combined_std</td>\n",
       "      <td>0.749798</td>\n",
       "      <td>0.917004</td>\n",
       "      <td>1.0</td>\n",
       "      <td>0.595573</td>\n",
       "      <td>0.877049</td>\n",
       "    </tr>\n",
       "    <tr>\n",
       "      <th>386</th>\n",
       "      <td>combined_std</td>\n",
       "      <td>0.901075</td>\n",
       "      <td>0.987097</td>\n",
       "      <td>1.0</td>\n",
       "      <td>0.801403</td>\n",
       "      <td>0.950820</td>\n",
       "    </tr>\n",
       "    <tr>\n",
       "      <th>387</th>\n",
       "      <td>combined_std</td>\n",
       "      <td>0.742778</td>\n",
       "      <td>0.959861</td>\n",
       "      <td>1.0</td>\n",
       "      <td>0.517110</td>\n",
       "      <td>0.877049</td>\n",
       "    </tr>\n",
       "    <tr>\n",
       "      <th>388</th>\n",
       "      <td>combined_std</td>\n",
       "      <td>0.879352</td>\n",
       "      <td>0.987584</td>\n",
       "      <td>1.0</td>\n",
       "      <td>0.794891</td>\n",
       "      <td>0.942623</td>\n",
       "    </tr>\n",
       "  </tbody>\n",
       "</table>\n",
       "</div>"
      ],
      "text/plain": [
       "     augmentation       tss       auc  hss       bss  accuracy\n",
       "384  combined_std  0.870671  0.974567  1.0  0.743421  0.934426\n",
       "385  combined_std  0.749798  0.917004  1.0  0.595573  0.877049\n",
       "386  combined_std  0.901075  0.987097  1.0  0.801403  0.950820\n",
       "387  combined_std  0.742778  0.959861  1.0  0.517110  0.877049\n",
       "388  combined_std  0.879352  0.987584  1.0  0.794891  0.942623"
      ]
     },
     "execution_count": 20,
     "metadata": {},
     "output_type": "execute_result"
    }
   ],
   "source": [
    "# Read CSV file into DataFrame\n",
    "df = pd.read_csv('../../data/metrics.csv')\n",
    "df2.head()"
   ]
  },
  {
   "cell_type": "code",
   "execution_count": 6,
   "metadata": {},
   "outputs": [],
   "source": [
    "# Convert numeric columns to numeric data type\n",
    "numeric_columns = ['tss', 'auc', 'hss', 'accuracy']\n",
    "df[numeric_columns] = df[numeric_columns].apply(pd.to_numeric)\n",
    "\n",
    "# Group the DataFrame by augmentation category\n",
    "grouped_df = df.groupby('augmentation')\n",
    "\n",
    "# Loop over the groups and calculate the average metrics and store them in a dictionary\n",
    "square_dictionary = dict()\n",
    "for category_name, group in grouped_df:\n",
    "    if 'cnn' not in category_name: continue # only cnn models\n",
    "    average_metrics = group[numeric_columns].mean()\n",
    "    square_dictionary[category_name] = average_metrics\n",
    "\n",
    "# Store single metric and model\n",
    "tss_per_model = {key: square_dictionary[key]['tss']\n",
    "                 for key in square_dictionary.keys()}\n",
    "auc_per_model = {key: square_dictionary[key]['auc']\n",
    "                 for key in square_dictionary.keys()}\n",
    "hss_per_model = {key: square_dictionary[key]['hss']\n",
    "                 for key in square_dictionary.keys()}\n",
    "accuracy_per_model = {\n",
    "    key: square_dictionary[key]['accuracy'] for key in square_dictionary.keys()}\n",
    "\n",
    "# Map keys to new names for plotting\n",
    "tss_per_model_names = {'Standard normalization': tss_per_model['combined_std'],\n",
    "                       'Unity normalization': tss_per_model['combined_unity'],\n",
    "                       'Standard shuffle': tss_per_model['combined_std_shuffle'],\n",
    "                       'Unity shuffle': tss_per_model['combined_unity_shuffle'],\n",
    "                       'Standard topological': tss_per_model['combined_std_topological'],\n",
    "                       'Unity topological': tss_per_model['combined_unity_topological']}"
   ]
  },
  {
   "cell_type": "code",
   "execution_count": 5,
   "metadata": {},
   "outputs": [
    {
     "data": {
      "image/png": "[encoded data removed]",
      "text/plain": [
       "<Figure size 800x600 with 1 Axes>"
      ]
     },
     "metadata": {},
     "output_type": "display_data"
    }
   ],
   "source": [
    "# Make tree map for TSS\n",
    "make_tree_map(tss_per_model_names, \n",
    "              title='Relative TSS for each augmentation',\n",
    "              save_path=None)"
   ]
  },
  {
   "cell_type": "code",
   "execution_count": 6,
   "metadata": {},
   "outputs": [],
   "source": [
    "# Relative importance of different structures\n",
    "intensity = tss_per_model['combined_std_topological']\n",
    "channel = tss_per_model['combined_std_shuffle'] - tss_per_model['combined_std_topological']\n",
    "sequence = tss_per_model['combined_std'] - tss_per_model['combined_std_shuffle']\n",
    "# place in a dictionary \n",
    "tss_distribution = {'intensity': intensity, 'channel': channel, 'sequence': sequence * 2}"
   ]
  },
  {
   "cell_type": "code",
   "execution_count": 7,
   "metadata": {},
   "outputs": [
    {
     "data": {
      "image/png": "[encoded data removed]",
      "text/plain": [
       "<Figure size 800x600 with 1 Axes>"
      ]
     },
     "metadata": {},
     "output_type": "display_data"
    }
   ],
   "source": [
    "make_tree_map(tss_distribution, title='Structures relative contribution to the TSS',\n",
    "               save_path=None)"
   ]
  }
 ],
 "metadata": {
  "kernelspec": {
   "display_name": "envmvts",
   "language": "python",
   "name": "python3"
  },
  "language_info": {
   "codemirror_mode": {
    "name": "ipython",
    "version": 3
   },
   "file_extension": ".py",
   "mimetype": "text/x-python",
   "name": "python",
   "nbconvert_exporter": "python",
   "pygments_lexer": "ipython3",
   "version": "3.9.12"
  },
  "orig_nbformat": 4
 },
 "nbformat": 4,
 "nbformat_minor": 2
}
